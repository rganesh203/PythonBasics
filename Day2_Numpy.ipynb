{
  "nbformat": 4,
  "nbformat_minor": 0,
  "metadata": {
    "colab": {
      "private_outputs": true,
      "provenance": []
    },
    "kernelspec": {
      "name": "python3",
      "display_name": "Python 3"
    },
    "language_info": {
      "name": "python"
    }
  },
  "cells": [
    {
      "cell_type": "code",
      "execution_count": null,
      "metadata": {
        "id": "ekOv0lNb1QTD"
      },
      "outputs": [],
      "source": [
        "import numpy as np"
      ]
    },
    {
      "cell_type": "code",
      "source": [
        "ar=np.array([1,2,3,4,5,6]).reshape((2,3))#reshape((no. of rows, no. of columns))\n",
        "#(2,3),(3,2),(1,6),(6,1)"
      ],
      "metadata": {
        "id": "KqacAOdi1og4"
      },
      "execution_count": null,
      "outputs": []
    },
    {
      "cell_type": "code",
      "source": [
        "ar.ndim#1-D dimension"
      ],
      "metadata": {
        "id": "n7cwV4F31xYZ"
      },
      "execution_count": null,
      "outputs": []
    },
    {
      "cell_type": "code",
      "source": [
        "ar1=np.array(1)"
      ],
      "metadata": {
        "id": "wd8hFBgr1x7U"
      },
      "execution_count": null,
      "outputs": []
    },
    {
      "cell_type": "code",
      "source": [
        "ar1"
      ],
      "metadata": {
        "id": "Q5_ogV1c2nK_"
      },
      "execution_count": null,
      "outputs": []
    },
    {
      "cell_type": "code",
      "source": [
        "print(\"ar1 dimension is:\", ar1.ndim)"
      ],
      "metadata": {
        "id": "GGiIkC-f2oPg"
      },
      "execution_count": null,
      "outputs": []
    },
    {
      "cell_type": "code",
      "source": [
        "#convert 1-D to 2-D"
      ],
      "metadata": {
        "id": "idq_iWst2yO7"
      },
      "execution_count": null,
      "outputs": []
    },
    {
      "cell_type": "code",
      "source": [
        "ar"
      ],
      "metadata": {
        "id": "PwpNnflz3fUy"
      },
      "execution_count": null,
      "outputs": []
    },
    {
      "cell_type": "code",
      "source": [
        "l=[1,2,3]\n",
        "np.array(l)"
      ],
      "metadata": {
        "id": "L773pxBA3f70"
      },
      "execution_count": null,
      "outputs": []
    },
    {
      "cell_type": "code",
      "source": [
        "t=(1,2,3)\n",
        "np.array(t)"
      ],
      "metadata": {
        "id": "aSbFtXLH3_Sw"
      },
      "execution_count": null,
      "outputs": []
    },
    {
      "cell_type": "code",
      "source": [
        "np.array((1,2,3,4))"
      ],
      "metadata": {
        "id": "MOuvBpYO4DgG"
      },
      "execution_count": null,
      "outputs": []
    },
    {
      "cell_type": "code",
      "source": [
        "np.arange(10,dtype=\"float\")#it is also similar to python basic range function"
      ],
      "metadata": {
        "id": "QoZ1Nz474LZ-"
      },
      "execution_count": null,
      "outputs": []
    },
    {
      "cell_type": "code",
      "source": [
        "import array"
      ],
      "metadata": {
        "id": "dR_uWJJv4R-_"
      },
      "execution_count": null,
      "outputs": []
    },
    {
      "cell_type": "code",
      "source": [
        "array.array(\"i\",(1,2,3,4))"
      ],
      "metadata": {
        "id": "U55D6oFX40yG"
      },
      "execution_count": null,
      "outputs": []
    },
    {
      "cell_type": "code",
      "source": [
        "np.full((2,3),6)"
      ],
      "metadata": {
        "id": "ES1LU6Gi442I"
      },
      "execution_count": null,
      "outputs": []
    },
    {
      "cell_type": "code",
      "source": [
        "np.full((2,3),\"python\")"
      ],
      "metadata": {
        "id": "5NhPGJkf5NtI"
      },
      "execution_count": null,
      "outputs": []
    },
    {
      "cell_type": "markdown",
      "source": [
        "#numpy is homogeneous elements"
      ],
      "metadata": {
        "id": "n52_8PBE5pEt"
      }
    },
    {
      "cell_type": "code",
      "source": [
        "#Arthimetic ops"
      ],
      "metadata": {
        "id": "tnKaK9C850VE"
      },
      "execution_count": null,
      "outputs": []
    },
    {
      "cell_type": "code",
      "source": [
        "l1=[1,2,3]"
      ],
      "metadata": {
        "id": "mVqdPolP55zQ"
      },
      "execution_count": null,
      "outputs": []
    },
    {
      "cell_type": "code",
      "source": [
        "l1"
      ],
      "metadata": {
        "id": "gPt_HbeI57Zf"
      },
      "execution_count": null,
      "outputs": []
    },
    {
      "cell_type": "code",
      "source": [
        "l1*2"
      ],
      "metadata": {
        "id": "dnRyrq4K58Jc"
      },
      "execution_count": null,
      "outputs": []
    },
    {
      "cell_type": "code",
      "source": [
        "ar2=np.arange(10)#(0,10,1)syntax: arange(start(include),stop(excluede), step(by fault it is 1))"
      ],
      "metadata": {
        "id": "TmKSmf-45-Hq"
      },
      "execution_count": null,
      "outputs": []
    },
    {
      "cell_type": "code",
      "source": [
        "ar2"
      ],
      "metadata": {
        "id": "eh2-H0Av6EkW"
      },
      "execution_count": null,
      "outputs": []
    },
    {
      "cell_type": "markdown",
      "source": [
        "#multiplication"
      ],
      "metadata": {
        "id": "mpa2BMmX60C9"
      }
    },
    {
      "cell_type": "code",
      "source": [
        "ar2*2"
      ],
      "metadata": {
        "id": "2LA-qREE6K5I"
      },
      "execution_count": null,
      "outputs": []
    },
    {
      "cell_type": "code",
      "source": [
        "for i in l1:\n",
        "    print(i*2)"
      ],
      "metadata": {
        "id": "c6yD99oV6QM5"
      },
      "execution_count": null,
      "outputs": []
    },
    {
      "cell_type": "markdown",
      "source": [
        "#addition"
      ],
      "metadata": {
        "id": "oF5GozU163YR"
      }
    },
    {
      "cell_type": "code",
      "source": [
        "l1+2"
      ],
      "metadata": {
        "id": "buVhjQ4k6mci"
      },
      "execution_count": null,
      "outputs": []
    },
    {
      "cell_type": "code",
      "source": [
        "ar2+2"
      ],
      "metadata": {
        "id": "YuR4NkfQ6-Xy"
      },
      "execution_count": null,
      "outputs": []
    },
    {
      "cell_type": "markdown",
      "source": [
        "#substarct"
      ],
      "metadata": {
        "id": "OjOqNQKe7H1h"
      }
    },
    {
      "cell_type": "code",
      "source": [
        "l1-2"
      ],
      "metadata": {
        "id": "ZF3Sjo9V7KEd"
      },
      "execution_count": null,
      "outputs": []
    },
    {
      "cell_type": "code",
      "source": [
        "ar2-2"
      ],
      "metadata": {
        "id": "oC69AEJm7Ot_"
      },
      "execution_count": null,
      "outputs": []
    },
    {
      "cell_type": "code",
      "source": [
        "l1/2"
      ],
      "metadata": {
        "id": "wmrmZvj67ZNt"
      },
      "execution_count": null,
      "outputs": []
    },
    {
      "cell_type": "code",
      "source": [
        "ar2/2"
      ],
      "metadata": {
        "id": "6-GjizwR7ew0"
      },
      "execution_count": null,
      "outputs": []
    },
    {
      "cell_type": "code",
      "source": [
        "ar2%2"
      ],
      "metadata": {
        "id": "xhFwzVpH7bcp"
      },
      "execution_count": null,
      "outputs": []
    },
    {
      "cell_type": "code",
      "source": [
        "ar2//2"
      ],
      "metadata": {
        "id": "7vliReXQ7j5T"
      },
      "execution_count": null,
      "outputs": []
    },
    {
      "cell_type": "code",
      "source": [
        "ar2**2"
      ],
      "metadata": {
        "id": "V5XcUprA7qjP"
      },
      "execution_count": null,
      "outputs": []
    },
    {
      "cell_type": "code",
      "source": [
        "#random values\n",
        "np.random.seed(21)\n",
        "ar3=np.random.randint(0,10,(2,3))\n"
      ],
      "metadata": {
        "id": "eT_hPtDE8QjN"
      },
      "execution_count": null,
      "outputs": []
    },
    {
      "cell_type": "markdown",
      "source": [
        "#42----------->[[6, 3, 7],[4, 6, 9]]\n",
        "21------->[[9, 8, 4],[0, 0, 8]]\n"
      ],
      "metadata": {
        "id": "LpFvUM5k-BKl"
      }
    },
    {
      "cell_type": "code",
      "source": [
        "ar3"
      ],
      "metadata": {
        "id": "Y5iqtzpk9TZf"
      },
      "execution_count": null,
      "outputs": []
    },
    {
      "cell_type": "code",
      "source": [
        "ar3.reshape(3,2)"
      ],
      "metadata": {
        "id": "gl89tBVs9fbm"
      },
      "execution_count": null,
      "outputs": []
    },
    {
      "cell_type": "code",
      "source": [
        "import random"
      ],
      "metadata": {
        "id": "NIy3Wda1892k"
      },
      "execution_count": null,
      "outputs": []
    },
    {
      "cell_type": "code",
      "source": [
        "dir(random)"
      ],
      "metadata": {
        "id": "Hrjf1e4d8_Oz"
      },
      "execution_count": null,
      "outputs": []
    },
    {
      "cell_type": "code",
      "source": [
        "max, min, std,"
      ],
      "metadata": {
        "id": "rhLGrP2Y9DzH"
      },
      "execution_count": null,
      "outputs": []
    },
    {
      "cell_type": "code",
      "source": [
        "ar2.max()"
      ],
      "metadata": {
        "id": "AAlljQiY-sp-"
      },
      "execution_count": null,
      "outputs": []
    },
    {
      "cell_type": "code",
      "source": [
        "ar2.ndim"
      ],
      "metadata": {
        "id": "nubVj-Fe-4GG"
      },
      "execution_count": null,
      "outputs": []
    },
    {
      "cell_type": "code",
      "source": [
        "ar3"
      ],
      "metadata": {
        "id": "o9Cl_Hht-5vY"
      },
      "execution_count": null,
      "outputs": []
    },
    {
      "cell_type": "code",
      "source": [
        "ar3.max()"
      ],
      "metadata": {
        "id": "jFaIx2qv--WM"
      },
      "execution_count": null,
      "outputs": []
    },
    {
      "cell_type": "code",
      "source": [
        "ar3.max(axis=0)#for zero is column"
      ],
      "metadata": {
        "id": "5m5QawHi-7qD"
      },
      "execution_count": null,
      "outputs": []
    },
    {
      "cell_type": "code",
      "source": [
        "ar3.min(axis=1)"
      ],
      "metadata": {
        "id": "0jgKcE1d_zCl"
      },
      "execution_count": null,
      "outputs": []
    },
    {
      "cell_type": "code",
      "source": [
        "ar3.sum()"
      ],
      "metadata": {
        "id": "uKHCUnR6ACDD"
      },
      "execution_count": null,
      "outputs": []
    },
    {
      "cell_type": "code",
      "source": [
        "#builtin\n",
        "sum([1,2,3,4])"
      ],
      "metadata": {
        "id": "RuEkT_a9ATq0"
      },
      "execution_count": null,
      "outputs": []
    },
    {
      "cell_type": "code",
      "source": [
        "ar3.sum(axis=1)"
      ],
      "metadata": {
        "id": "FlaALkVjAVKh"
      },
      "execution_count": null,
      "outputs": []
    },
    {
      "cell_type": "code",
      "source": [
        "ar3.sum(axis=0)"
      ],
      "metadata": {
        "id": "Rpi1dp-vAts9"
      },
      "execution_count": null,
      "outputs": []
    },
    {
      "cell_type": "code",
      "source": [
        "#real time"
      ],
      "metadata": {
        "id": "ePvS73BOAwJA"
      },
      "execution_count": null,
      "outputs": []
    },
    {
      "cell_type": "code",
      "source": [
        "ar4= np.random.rand(2,3)"
      ],
      "metadata": {
        "id": "ExTqMTsOB0mV"
      },
      "execution_count": null,
      "outputs": []
    },
    {
      "cell_type": "code",
      "source": [
        "ar4"
      ],
      "metadata": {
        "id": "7NV-w3oPB7rt"
      },
      "execution_count": null,
      "outputs": []
    },
    {
      "cell_type": "code",
      "source": [
        "l1=[[1,2],[2,3],[4,5]]"
      ],
      "metadata": {
        "id": "DoNSZ4TSB81O"
      },
      "execution_count": null,
      "outputs": []
    },
    {
      "cell_type": "code",
      "source": [
        "ar5=np.array(l1)"
      ],
      "metadata": {
        "id": "DDQ1y_YrCuic"
      },
      "execution_count": null,
      "outputs": []
    },
    {
      "cell_type": "code",
      "source": [
        "ar5"
      ],
      "metadata": {
        "id": "oLK5_ejZCxTX"
      },
      "execution_count": null,
      "outputs": []
    },
    {
      "cell_type": "code",
      "source": [
        "ar5.shape# it is exact no. of rows and columns"
      ],
      "metadata": {
        "id": "t4hfFrj_CyTI"
      },
      "execution_count": null,
      "outputs": []
    },
    {
      "cell_type": "code",
      "source": [
        "ar5.size# it is print total elemetns inside array"
      ],
      "metadata": {
        "id": "kPYTdk6ZC-7w"
      },
      "execution_count": null,
      "outputs": []
    },
    {
      "cell_type": "code",
      "source": [
        "ar5.ndim"
      ],
      "metadata": {
        "id": "nwapF4bVC3nT"
      },
      "execution_count": null,
      "outputs": []
    },
    {
      "cell_type": "code",
      "source": [
        "#arrry\n",
        "help(np.array())"
      ],
      "metadata": {
        "id": "NGQVG9EVC1GD"
      },
      "execution_count": null,
      "outputs": []
    },
    {
      "cell_type": "code",
      "source": [
        "#linespace()\n",
        "# it crates array filled eventially spaced values"
      ],
      "metadata": {
        "id": "Hvdxtvx9DYcg"
      },
      "execution_count": null,
      "outputs": []
    },
    {
      "cell_type": "code",
      "source": [
        "np.linspace(0,10, num=5, dtype=int)"
      ],
      "metadata": {
        "id": "pSaaXQ7FDkrC"
      },
      "execution_count": null,
      "outputs": []
    },
    {
      "cell_type": "code",
      "source": [
        "np.linspace(0,10, num=5, retstep=True)"
      ],
      "metadata": {
        "id": "W5OpUnR6Eytk"
      },
      "execution_count": null,
      "outputs": []
    },
    {
      "cell_type": "code",
      "source": [
        "#eye()"
      ],
      "metadata": {
        "id": "5sso8t8kFD_z"
      },
      "execution_count": null,
      "outputs": []
    },
    {
      "cell_type": "code",
      "source": [
        "np.eye(2,dtype=int)"
      ],
      "metadata": {
        "id": "nFwueR5rFGP1"
      },
      "execution_count": null,
      "outputs": []
    },
    {
      "cell_type": "code",
      "source": [
        "np.eye(3,dtype=int) #sqaure matrix or array"
      ],
      "metadata": {
        "id": "okVthgwfDv1m"
      },
      "execution_count": null,
      "outputs": []
    },
    {
      "cell_type": "code",
      "source": [
        "?np.eye"
      ],
      "metadata": {
        "id": "1qpmIWB-FLe9"
      },
      "execution_count": null,
      "outputs": []
    },
    {
      "cell_type": "code",
      "source": [
        "np.eye(3,2, dtype=int)"
      ],
      "metadata": {
        "id": "FxwurO7vFP4C"
      },
      "execution_count": null,
      "outputs": []
    },
    {
      "cell_type": "code",
      "source": [
        "np.eye(3,dtype=int, k=1)"
      ],
      "metadata": {
        "id": "alL4E-o1Fbwu"
      },
      "execution_count": null,
      "outputs": []
    },
    {
      "cell_type": "code",
      "source": [
        "np.eye(3,dtype=int, k=-1)"
      ],
      "metadata": {
        "id": "RPRNYAGGFyby"
      },
      "execution_count": null,
      "outputs": []
    },
    {
      "cell_type": "code",
      "source": [
        "?np.identity"
      ],
      "metadata": {
        "id": "pitfThLiF_QA"
      },
      "execution_count": null,
      "outputs": []
    },
    {
      "cell_type": "code",
      "source": [
        "np.identity(4, dtype=bool)"
      ],
      "metadata": {
        "id": "b-sq5c-OGC8u"
      },
      "execution_count": null,
      "outputs": []
    },
    {
      "cell_type": "code",
      "source": [
        "#numpy is mutable datatype\n",
        "#indexing and slicing"
      ],
      "metadata": {
        "id": "j3l6y1wJGMrR"
      },
      "execution_count": null,
      "outputs": []
    },
    {
      "cell_type": "code",
      "source": [
        "#syntax\n",
        "#arrname[row_number,coumn_number]\n",
        "#golden rule of python\n",
        "1. when ever counting, start from zero\n",
        "2. when ever ask for a range, the last limit is excluted\n",
        "3. example range(3,7)----->3,4,5,6"
      ],
      "metadata": {
        "id": "zeSxkwQMIXjD"
      },
      "execution_count": null,
      "outputs": []
    },
    {
      "cell_type": "code",
      "source": [
        "ar6=np.random.randint(0,10,(3,3))"
      ],
      "metadata": {
        "id": "NRwv9JZvI-0n"
      },
      "execution_count": null,
      "outputs": []
    },
    {
      "cell_type": "code",
      "source": [
        "ar6"
      ],
      "metadata": {
        "id": "Sa2azt8zJGnc"
      },
      "execution_count": null,
      "outputs": []
    },
    {
      "cell_type": "code",
      "source": [
        "ar6[2,1]"
      ],
      "metadata": {
        "id": "Ms7CPmRvK0bH"
      },
      "execution_count": null,
      "outputs": []
    },
    {
      "cell_type": "code",
      "source": [
        "ar6[0]"
      ],
      "metadata": {
        "id": "8gRUtJGDJJln"
      },
      "execution_count": null,
      "outputs": []
    },
    {
      "cell_type": "code",
      "source": [
        "#ar6[1:3,0:2]"
      ],
      "metadata": {
        "id": "YEBpaiipJXcl"
      },
      "execution_count": null,
      "outputs": []
    },
    {
      "cell_type": "code",
      "source": [
        "ar6[0,2]#0 is row 3 is column"
      ],
      "metadata": {
        "id": "8suE425zJpLA"
      },
      "execution_count": null,
      "outputs": []
    },
    {
      "cell_type": "code",
      "source": [
        "ar6[1,2]"
      ],
      "metadata": {
        "id": "myXtY2t2LSNi"
      },
      "execution_count": null,
      "outputs": []
    },
    {
      "cell_type": "code",
      "source": [
        "ar6[1]"
      ],
      "metadata": {
        "id": "NkSA-X2mLo25"
      },
      "execution_count": null,
      "outputs": []
    },
    {
      "cell_type": "code",
      "source": [
        "#-ve indexing"
      ],
      "metadata": {
        "id": "Bqy3jrpvL1dQ"
      },
      "execution_count": null,
      "outputs": []
    },
    {
      "cell_type": "code",
      "source": [
        "ar6[-1,-1]"
      ],
      "metadata": {
        "id": "0mTzhNO5MQrB"
      },
      "execution_count": null,
      "outputs": []
    },
    {
      "cell_type": "code",
      "source": [
        "ar6[-3,-1]"
      ],
      "metadata": {
        "id": "SUGawq5nMpAY"
      },
      "execution_count": null,
      "outputs": []
    },
    {
      "cell_type": "code",
      "source": [
        "ar7=np.random.randint(1,10000,(2,100000))"
      ],
      "metadata": {
        "id": "NCa1O0yjMsDQ"
      },
      "execution_count": null,
      "outputs": []
    },
    {
      "cell_type": "code",
      "source": [
        "ar7"
      ],
      "metadata": {
        "id": "tCVqwVCSNc6C"
      },
      "execution_count": null,
      "outputs": []
    },
    {
      "cell_type": "code",
      "source": [
        "ar7[-1]"
      ],
      "metadata": {
        "id": "IejPFe8xNeLb"
      },
      "execution_count": null,
      "outputs": []
    },
    {
      "cell_type": "code",
      "source": [
        "ar7[-1,-2]"
      ],
      "metadata": {
        "id": "mkEGZMZGNqX2"
      },
      "execution_count": null,
      "outputs": []
    },
    {
      "cell_type": "code",
      "source": [
        "#slicing\n",
        "#syntax\n",
        "#arr_name[start_row_number(0):stop_row_number:Step_number(1), start_coumn_number(0):stop_coulmn_number:step_number(1)]\n",
        "arr_name[1:2,0:2] #1 is include 2 is exclude, 0 is include 2 is exclude"
      ],
      "metadata": {
        "id": "uUW4XKqmOqud"
      },
      "execution_count": null,
      "outputs": []
    },
    {
      "cell_type": "code",
      "source": [
        "ar9=np.random.randint(1,20,(3,3))"
      ],
      "metadata": {
        "id": "a3DGC4GxPkg5"
      },
      "execution_count": null,
      "outputs": []
    },
    {
      "cell_type": "code",
      "source": [
        "ar9"
      ],
      "metadata": {
        "id": "OdJZpOIgPw1a"
      },
      "execution_count": null,
      "outputs": []
    },
    {
      "cell_type": "code",
      "source": [
        "ar9[:,:]"
      ],
      "metadata": {
        "id": "Eb4wopa5Pxx4"
      },
      "execution_count": null,
      "outputs": []
    },
    {
      "cell_type": "code",
      "source": [
        "ar9[1:,:2]"
      ],
      "metadata": {
        "id": "1GIqunqGQV3M"
      },
      "execution_count": null,
      "outputs": []
    },
    {
      "cell_type": "code",
      "source": [
        "ar9[0:3:2,:]#equal to ar9[::2,:]==ar9[::2,0:3:1]==ar9[::2,0::1]"
      ],
      "metadata": {
        "id": "qiorkdiBQ1_A"
      },
      "execution_count": null,
      "outputs": []
    },
    {
      "cell_type": "code",
      "source": [
        "ar9[::2,:]"
      ],
      "metadata": {
        "id": "NXOB-5qgRKIH"
      },
      "execution_count": null,
      "outputs": []
    },
    {
      "cell_type": "code",
      "source": [
        "ar9"
      ],
      "metadata": {
        "id": "q3zRDW2vRvn2"
      },
      "execution_count": null,
      "outputs": []
    },
    {
      "cell_type": "code",
      "source": [
        "ar9[0:]"
      ],
      "metadata": {
        "id": "AaflmZgEWR8-"
      },
      "execution_count": null,
      "outputs": []
    },
    {
      "cell_type": "code",
      "source": [
        "ar9[0::2,1::]"
      ],
      "metadata": {
        "id": "gqCo1LnTWq-8"
      },
      "execution_count": null,
      "outputs": []
    },
    {
      "cell_type": "code",
      "source": [
        "ar9[1:2:1,0:3:1]"
      ],
      "metadata": {
        "id": "0hKKcQOcRwqz"
      },
      "execution_count": null,
      "outputs": []
    },
    {
      "cell_type": "code",
      "source": [
        "ar9[1:3:1,1:3:1]"
      ],
      "metadata": {
        "id": "VggB0flPSuHI"
      },
      "execution_count": null,
      "outputs": []
    },
    {
      "cell_type": "code",
      "source": [
        "ar9[0:2:1,0:2:1]"
      ],
      "metadata": {
        "id": "mFl-1xYgT3VL"
      },
      "execution_count": null,
      "outputs": []
    },
    {
      "cell_type": "code",
      "source": [
        "ar9[0::2,0::2]"
      ],
      "metadata": {
        "id": "hpB6t3DsVK5g"
      },
      "execution_count": null,
      "outputs": []
    },
    {
      "cell_type": "code",
      "source": [
        "ar10=np.random.randint(1,10,(5,7))"
      ],
      "metadata": {
        "id": "k-TJImUxXZQC"
      },
      "execution_count": null,
      "outputs": []
    },
    {
      "cell_type": "code",
      "source": [
        "ar10"
      ],
      "metadata": {
        "id": "l3pAqShZXg1A"
      },
      "execution_count": null,
      "outputs": []
    },
    {
      "cell_type": "code",
      "source": [
        "ar10[]"
      ],
      "metadata": {
        "id": "jjVHlbwPZ_OT"
      },
      "execution_count": null,
      "outputs": []
    },
    {
      "cell_type": "code",
      "source": [
        "ar10[1:4:1,1::4]"
      ],
      "metadata": {
        "id": "AYtKv_T_ZbVC"
      },
      "execution_count": null,
      "outputs": []
    },
    {
      "cell_type": "code",
      "source": [
        "ar10[1:4:1,0::3]"
      ],
      "metadata": {
        "id": "dF4ELLxHZPZE"
      },
      "execution_count": null,
      "outputs": []
    },
    {
      "cell_type": "code",
      "source": [
        "ar10[2:4:1,3:6:1]"
      ],
      "metadata": {
        "id": "Y3XlfE1aXiOv"
      },
      "execution_count": null,
      "outputs": []
    },
    {
      "cell_type": "code",
      "source": [
        "ar10[1:4:1,0::2]"
      ],
      "metadata": {
        "id": "XZ0d1RxJYd76"
      },
      "execution_count": null,
      "outputs": []
    },
    {
      "cell_type": "code",
      "source": [
        "def add(a,b):\n",
        "    c=a+b\n",
        "    return a+b\n",
        "print(add(2,3))"
      ],
      "metadata": {
        "id": "1sSpJ50GaMRn"
      },
      "execution_count": null,
      "outputs": []
    },
    {
      "cell_type": "code",
      "source": [
        "#add two numpy arrays"
      ],
      "metadata": {
        "id": "NNHq5pzcaYXf"
      },
      "execution_count": null,
      "outputs": []
    },
    {
      "cell_type": "code",
      "source": [
        "arr=np.arange(10)"
      ],
      "metadata": {
        "id": "1MLNmMZjab3U"
      },
      "execution_count": null,
      "outputs": []
    },
    {
      "cell_type": "code",
      "source": [
        "arr"
      ],
      "metadata": {
        "id": "nKg79RwaaiiH"
      },
      "execution_count": null,
      "outputs": []
    },
    {
      "cell_type": "code",
      "source": [
        "arr1=np.arange(10,20)"
      ],
      "metadata": {
        "id": "UQWep6R2ajXY"
      },
      "execution_count": null,
      "outputs": []
    },
    {
      "cell_type": "code",
      "source": [],
      "metadata": {
        "id": "QS9YyvSZbe_l"
      },
      "execution_count": null,
      "outputs": []
    },
    {
      "cell_type": "code",
      "source": [
        "arr1"
      ],
      "metadata": {
        "id": "mO8Qrtd4apqx"
      },
      "execution_count": null,
      "outputs": []
    },
    {
      "cell_type": "code",
      "source": [
        "arr+arr1"
      ],
      "metadata": {
        "id": "iBW4Nz1raqgo"
      },
      "execution_count": null,
      "outputs": []
    },
    {
      "cell_type": "code",
      "source": [
        "def add(arr1,arr2):\n",
        "    arr_3=np.add(arr1,arr2)\n",
        "    return arr_3\n",
        "print(add(np.arange(10),np.arange(10,20)))\n"
      ],
      "metadata": {
        "id": "c3swqg7xavft"
      },
      "execution_count": null,
      "outputs": []
    },
    {
      "cell_type": "code",
      "source": [
        "def create_array(x,y):\n",
        "    a=np.full(x,y)\n",
        "    return a\n",
        "x=(3,3)\n",
        "y=\"python\"\n",
        "print(create_array(x,y))"
      ],
      "metadata": {
        "id": "felPHJHbb3EU"
      },
      "execution_count": null,
      "outputs": []
    },
    {
      "cell_type": "code",
      "source": [],
      "metadata": {
        "id": "CUx693MecYK1"
      },
      "execution_count": null,
      "outputs": []
    }
  ]
}