{
  "nbformat": 4,
  "nbformat_minor": 0,
  "metadata": {
    "colab": {
      "private_outputs": true,
      "provenance": []
    },
    "kernelspec": {
      "name": "python3",
      "display_name": "Python 3"
    },
    "language_info": {
      "name": "python"
    }
  },
  "cells": [
    {
      "cell_type": "code",
      "execution_count": null,
      "metadata": {
        "id": "v1cZ8QeBjpUz"
      },
      "outputs": [],
      "source": [
        "#ML(numpy, pandas, matplotlib, seaborn, scipy, plotly, scikit learn), DL(google (tensorflow), facebook(pytorch), mxnet(amazon), Microsoft(Thenao))"
      ]
    },
    {
      "cell_type": "code",
      "source": [
        "pip list #!pip list, jupiter !pip list"
      ],
      "metadata": {
        "id": "xHhakaeiktp9"
      },
      "execution_count": null,
      "outputs": []
    },
    {
      "cell_type": "code",
      "source": [
        "#ML\n",
        "#1. how to math using python----------->numpy(numerical python)\n",
        "#2. Data handling & data manipulation -------------->pandas\n",
        "#3. Data visualization------------>matplotlib, seaborn, plotly\n",
        "#4. whenever you use an extrnal package\n",
        "#download one time activity\n",
        "#install (one time activity)\n",
        "#import the package in your project (whenevr you maka a new project you have to import it)\n",
        "#download and install a package in python\n",
        "!pip install numpy"
      ],
      "metadata": {
        "id": "m0wdgwn0k9QF"
      },
      "execution_count": null,
      "outputs": []
    },
    {
      "cell_type": "code",
      "source": [
        "#how know if any package instaled or not\n",
        "!pip show numpy"
      ],
      "metadata": {
        "id": "syaPs-TPmz2j"
      },
      "execution_count": null,
      "outputs": []
    },
    {
      "cell_type": "code",
      "source": [
        "import numpy as np#surname or alias name\n"
      ],
      "metadata": {
        "id": "hGSRlgH6nSV9"
      },
      "execution_count": null,
      "outputs": []
    },
    {
      "cell_type": "code",
      "source": [
        "#check the version\n",
        "np.__version__"
      ],
      "metadata": {
        "id": "3hJCCyuknawF"
      },
      "execution_count": null,
      "outputs": []
    },
    {
      "cell_type": "code",
      "source": [
        "#upgrade version\n",
        "!pip install --upgrade np"
      ],
      "metadata": {
        "id": "AIU5G1Yknvpq"
      },
      "execution_count": null,
      "outputs": []
    },
    {
      "cell_type": "code",
      "source": [
        "#unistall package\n",
        "!pip uninstall numpy"
      ],
      "metadata": {
        "id": "zSPnwg7xn7uC"
      },
      "execution_count": null,
      "outputs": []
    },
    {
      "cell_type": "code",
      "source": [
        "#maths\n",
        "list1=[1,2,3,4]#list hetergeneous data type\n",
        "#expetced o/p=[2,4,6,8]"
      ],
      "metadata": {
        "id": "LlWdVOfHowaO"
      },
      "execution_count": null,
      "outputs": []
    },
    {
      "cell_type": "code",
      "source": [
        "l2=[]\n",
        "for i in list1:\n",
        "    l2.append(i*2)\n",
        "print(l2)\n",
        "#time complexity o(n)\n",
        "#for loop only small elements\n",
        "#when you million records"
      ],
      "metadata": {
        "id": "vGxf3n7BpSL2"
      },
      "execution_count": null,
      "outputs": []
    },
    {
      "cell_type": "code",
      "source": [
        "#10 Million records 10 M"
      ],
      "metadata": {
        "id": "xm7Tvqk7pxB5"
      },
      "execution_count": null,
      "outputs": []
    },
    {
      "cell_type": "code",
      "source": [
        "list1*2"
      ],
      "metadata": {
        "id": "MeOcR3U9pNFy"
      },
      "execution_count": null,
      "outputs": []
    },
    {
      "cell_type": "code",
      "source": [
        "import array"
      ],
      "metadata": {
        "id": "i83UCw21qPdq"
      },
      "execution_count": null,
      "outputs": []
    },
    {
      "cell_type": "code",
      "source": [
        "r=array.array(\"i\",(1,2,3,4))"
      ],
      "metadata": {
        "id": "bzJ_krqfqRFq"
      },
      "execution_count": null,
      "outputs": []
    },
    {
      "cell_type": "code",
      "source": [
        "r*2"
      ],
      "metadata": {
        "id": "HRQNMM0ZqZuh"
      },
      "execution_count": null,
      "outputs": []
    },
    {
      "cell_type": "code",
      "source": [
        "#list is heterogeuos data point\n",
        "#list not support multi dimensionl. only one dimension\n",
        "#but nested list you can"
      ],
      "metadata": {
        "id": "ghtzPqtKqgfA"
      },
      "execution_count": null,
      "outputs": []
    },
    {
      "cell_type": "code",
      "source": [
        "dir(np)"
      ],
      "metadata": {
        "id": "R3LVs3TOq1CA"
      },
      "execution_count": null,
      "outputs": []
    },
    {
      "cell_type": "code",
      "source": [
        "#for data science you must have at least 50 functions more often to use"
      ],
      "metadata": {
        "id": "w9_hx6ODrIWU"
      },
      "execution_count": null,
      "outputs": []
    },
    {
      "cell_type": "code",
      "source": [
        "array---->1D list1=[1,2,3,3]\n",
        "        2D---->matrix---->[[1,2,3]]\n",
        "        3D---->[[[1,2,3,4]]]\n",
        "        4d\n",
        "\n",
        "\n",
        "\n",
        "        nd"
      ],
      "metadata": {
        "id": "gnA7E4MGq3TT"
      },
      "execution_count": null,
      "outputs": []
    },
    {
      "cell_type": "code",
      "source": [
        "#Disadvantages:\n",
        "#1. not being super instrumental as operations are in sequantial manner.\n",
        "#2. no-dimentinalilty in lists, we to nested but they are complex and more expensive in computation"
      ],
      "metadata": {
        "id": "xO-Xda0Bt2Ar"
      },
      "execution_count": null,
      "outputs": []
    },
    {
      "cell_type": "code",
      "source": [
        "#numpy\n",
        "#1. using broadcasting we can do the operations in parallel.\n",
        "#2. np arrays are n-dimensional"
      ],
      "metadata": {
        "id": "H368oN7BuLa7"
      },
      "execution_count": null,
      "outputs": []
    },
    {
      "cell_type": "code",
      "source": [
        "list1\n",
        "#list1*2=list1+list2"
      ],
      "metadata": {
        "id": "46EMWfasu6lY"
      },
      "execution_count": null,
      "outputs": []
    },
    {
      "cell_type": "markdown",
      "source": [
        "#1. convert a list to np array"
      ],
      "metadata": {
        "id": "4IRlQFt8wD07"
      }
    },
    {
      "cell_type": "code",
      "source": [
        "ar=np.array(list1)"
      ],
      "metadata": {
        "id": "39PLjoyEvbIH"
      },
      "execution_count": null,
      "outputs": []
    },
    {
      "cell_type": "code",
      "source": [
        "print(ar)"
      ],
      "metadata": {
        "id": "3HZ0_5OEvjuA"
      },
      "execution_count": null,
      "outputs": []
    },
    {
      "cell_type": "code",
      "source": [
        "ar"
      ],
      "metadata": {
        "id": "2chMHs_HwWWx"
      },
      "execution_count": null,
      "outputs": []
    },
    {
      "cell_type": "code",
      "source": [
        "print(type(ar))"
      ],
      "metadata": {
        "id": "RWaJfalzvl4M"
      },
      "execution_count": null,
      "outputs": []
    },
    {
      "cell_type": "code",
      "source": [
        "#ndarray-------------->n dimensional array\n",
        "ar\n",
        "#expected otput is [2,4,6,8]"
      ],
      "metadata": {
        "id": "2r91Thauwe86"
      },
      "execution_count": null,
      "outputs": []
    },
    {
      "cell_type": "code",
      "source": [
        "ar*2"
      ],
      "metadata": {
        "id": "ZfrBM7yjvtwj"
      },
      "execution_count": null,
      "outputs": []
    },
    {
      "cell_type": "markdown",
      "source": [
        "#2. Zeros in my array"
      ],
      "metadata": {
        "id": "PcuIKzzdwKtZ"
      }
    },
    {
      "cell_type": "code",
      "source": [
        "np.zeros(10,dtype=int) #one dimensional with all elements are zeros"
      ],
      "metadata": {
        "id": "prE5kPEqwwON"
      },
      "execution_count": null,
      "outputs": []
    },
    {
      "cell_type": "code",
      "source": [
        "np.zeros(10,dtype=float)"
      ],
      "metadata": {
        "id": "BBE_I_gDxzQU"
      },
      "execution_count": null,
      "outputs": []
    },
    {
      "cell_type": "markdown",
      "source": [
        "#3. ones in my array"
      ],
      "metadata": {
        "id": "vMLxpdNpxQTJ"
      }
    },
    {
      "cell_type": "code",
      "source": [
        "np.ones(10,dtype=float) #one dimensional with all elements are ones"
      ],
      "metadata": {
        "id": "PC3Wk3OpxUFK"
      },
      "execution_count": null,
      "outputs": []
    },
    {
      "cell_type": "code",
      "source": [
        "#guru mantrs any functio\n",
        "?np.zeros #colab only"
      ],
      "metadata": {
        "id": "6wDs8kFQx4WG"
      },
      "execution_count": null,
      "outputs": []
    },
    {
      "cell_type": "code",
      "source": [
        "#. make an array with 4's 7column and 5rows"
      ],
      "metadata": {
        "id": "oTAFrq10x7_-"
      },
      "execution_count": null,
      "outputs": []
    },
    {
      "cell_type": "code",
      "source": [
        "ar1=np.ones((5,7),dtype=int)*4 #or np.zeros((7,5),dtype=int)+4\n"
      ],
      "metadata": {
        "id": "Kq1dEKT0ytH2"
      },
      "execution_count": null,
      "outputs": []
    },
    {
      "cell_type": "code",
      "source": [
        "np.zeros((5,7),dtype=int)+4#0(1)time complexity"
      ],
      "metadata": {
        "id": "6eeZuWR5zNmi"
      },
      "execution_count": null,
      "outputs": []
    },
    {
      "cell_type": "code",
      "source": [
        "list2=[1,2,3]+4"
      ],
      "metadata": {
        "id": "9qAFIrBizUEs"
      },
      "execution_count": null,
      "outputs": []
    },
    {
      "cell_type": "code",
      "source": [],
      "metadata": {
        "id": "HXfWji0DzrYp"
      },
      "execution_count": null,
      "outputs": []
    },
    {
      "cell_type": "markdown",
      "source": [
        "#4. shape"
      ],
      "metadata": {
        "id": "pmiSRVx20WuC"
      }
    },
    {
      "cell_type": "code",
      "source": [
        "ar1.shape"
      ],
      "metadata": {
        "id": "hEOugVs7zuWi"
      },
      "execution_count": null,
      "outputs": []
    },
    {
      "cell_type": "markdown",
      "source": [
        "#5. dimensions"
      ],
      "metadata": {
        "id": "5l-lj98n0ieZ"
      }
    },
    {
      "cell_type": "code",
      "source": [
        "ar1.ndim"
      ],
      "metadata": {
        "id": "WYHt2kGczwNc"
      },
      "execution_count": null,
      "outputs": []
    },
    {
      "cell_type": "code",
      "source": [
        "ar.itemsize"
      ],
      "metadata": {
        "id": "Uw6UEG7vz2Nh"
      },
      "execution_count": null,
      "outputs": []
    },
    {
      "cell_type": "code",
      "source": [
        "ar.size"
      ],
      "metadata": {
        "id": "On3NQbPiz6K7"
      },
      "execution_count": null,
      "outputs": []
    },
    {
      "cell_type": "code",
      "source": [
        "ar2=np.zeros((5,7,6),dtype=int)+8 #shape(cell,rows,column)"
      ],
      "metadata": {
        "id": "x0OnelwS0CFp"
      },
      "execution_count": null,
      "outputs": []
    },
    {
      "cell_type": "code",
      "source": [
        "ar2.ndim"
      ],
      "metadata": {
        "id": "1FM1ck9A0zT7"
      },
      "execution_count": null,
      "outputs": []
    },
    {
      "cell_type": "code",
      "source": [
        "ar2"
      ],
      "metadata": {
        "id": "VSu-UY4V01N7"
      },
      "execution_count": null,
      "outputs": []
    },
    {
      "cell_type": "code",
      "source": [
        "ar2.dtype"
      ],
      "metadata": {
        "id": "Gnjx6hmD03Te"
      },
      "execution_count": null,
      "outputs": []
    },
    {
      "cell_type": "code",
      "source": [
        "#freez the values or fix when it call random int values use seed method"
      ],
      "metadata": {
        "id": "kbRsfWG751Nh"
      },
      "execution_count": null,
      "outputs": []
    },
    {
      "cell_type": "code",
      "source": [
        "np.random.seed(42)\n",
        "np.random.randint(10,50,(3,3,2))"
      ],
      "metadata": {
        "id": "4RaQ624l1xVN"
      },
      "execution_count": null,
      "outputs": []
    },
    {
      "cell_type": "code",
      "source": [],
      "metadata": {
        "id": "7prCiJU-2r6T"
      },
      "execution_count": null,
      "outputs": []
    },
    {
      "cell_type": "code",
      "source": [
        "ar3"
      ],
      "metadata": {
        "id": "MLW_j73R2FIS"
      },
      "execution_count": null,
      "outputs": []
    },
    {
      "cell_type": "code",
      "source": [
        "#decimal random numbers\n",
        "np.random.rand(9)"
      ],
      "metadata": {
        "id": "yhMReLUp3wlM"
      },
      "execution_count": null,
      "outputs": []
    },
    {
      "cell_type": "code",
      "source": [
        "np.random.rand(2,3,4)"
      ],
      "metadata": {
        "id": "sozGVyD85V5O"
      },
      "execution_count": null,
      "outputs": []
    },
    {
      "cell_type": "code",
      "source": [
        "#convert from 1D to 2D\n",
        "#reshape\n",
        "#if i want 9 elements what is possible shape 2D array?"
      ],
      "metadata": {
        "id": "8Ji4Yb5O5cdT"
      },
      "execution_count": null,
      "outputs": []
    },
    {
      "cell_type": "markdown",
      "source": [
        "[1,2,3,4,5,6,7,8,9]"
      ],
      "metadata": {
        "id": "HiE88v_-6Yfd"
      }
    },
    {
      "cell_type": "code",
      "source": [
        "12 elemtnts\n",
        "3*4\n",
        "4*3\n",
        "6*2\n",
        "2*6\n",
        "12*\n",
        "1*12"
      ],
      "metadata": {
        "id": "VzOgnIU165Wt"
      },
      "execution_count": null,
      "outputs": []
    },
    {
      "cell_type": "code",
      "source": [
        "ar5=np.arange(9)#similar to range"
      ],
      "metadata": {
        "id": "wPN-a4Ub7Ewl"
      },
      "execution_count": null,
      "outputs": []
    },
    {
      "cell_type": "code",
      "source": [
        "ar5"
      ],
      "metadata": {
        "id": "qmecCCwD7PhU"
      },
      "execution_count": null,
      "outputs": []
    },
    {
      "cell_type": "code",
      "source": [
        "ar5.ndim"
      ],
      "metadata": {
        "id": "MAAO1cXm7Qwt"
      },
      "execution_count": null,
      "outputs": []
    },
    {
      "cell_type": "code",
      "source": [
        "ar5.reshape(6,3)"
      ],
      "metadata": {
        "id": "I5r2KWR47UHs"
      },
      "execution_count": null,
      "outputs": []
    },
    {
      "cell_type": "code",
      "source": [
        "ar6=ar5.reshape(9,1)"
      ],
      "metadata": {
        "id": "u8gUW3wp7aNw"
      },
      "execution_count": null,
      "outputs": []
    },
    {
      "cell_type": "code",
      "source": [
        "ar6.shape"
      ],
      "metadata": {
        "id": "2Z_Ea2d87xfh"
      },
      "execution_count": null,
      "outputs": []
    },
    {
      "cell_type": "code",
      "source": [
        "ar6"
      ],
      "metadata": {
        "id": "cSLX4_zp8Bbr"
      },
      "execution_count": null,
      "outputs": []
    },
    {
      "cell_type": "code",
      "source": [
        "?ar6.max"
      ],
      "metadata": {
        "id": "dnWtQmp28ECN"
      },
      "execution_count": null,
      "outputs": []
    },
    {
      "cell_type": "code",
      "source": [
        "ar6.min()"
      ],
      "metadata": {
        "id": "v9yMEm8P8lPk"
      },
      "execution_count": null,
      "outputs": []
    },
    {
      "cell_type": "code",
      "source": [
        "ar6.sum()"
      ],
      "metadata": {
        "id": "5gaxF88a8o36"
      },
      "execution_count": null,
      "outputs": []
    },
    {
      "cell_type": "code",
      "source": [
        "ar6.mean()"
      ],
      "metadata": {
        "id": "km-y0cvY8r4s"
      },
      "execution_count": null,
      "outputs": []
    },
    {
      "cell_type": "code",
      "source": [
        "ar6.std()"
      ],
      "metadata": {
        "id": "4O6QlSCV8zIu"
      },
      "execution_count": null,
      "outputs": []
    },
    {
      "cell_type": "code",
      "source": [
        "ar6.max(axis=0)#rows\n"
      ],
      "metadata": {
        "id": "qbzk5t5L82Sw"
      },
      "execution_count": null,
      "outputs": []
    }
  ]
}