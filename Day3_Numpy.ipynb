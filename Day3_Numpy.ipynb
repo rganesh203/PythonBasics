{
  "nbformat": 4,
  "nbformat_minor": 0,
  "metadata": {
    "colab": {
      "private_outputs": true,
      "provenance": []
    },
    "kernelspec": {
      "name": "python3",
      "display_name": "Python 3"
    },
    "language_info": {
      "name": "python"
    }
  },
  "cells": [
    {
      "cell_type": "code",
      "execution_count": null,
      "metadata": {
        "id": "hasTH5AyE1yI"
      },
      "outputs": [],
      "source": [
        "#slicing & indexing"
      ]
    },
    {
      "cell_type": "code",
      "source": [
        "import numpy as np"
      ],
      "metadata": {
        "id": "UE5EIZmrNpa9"
      },
      "execution_count": null,
      "outputs": []
    },
    {
      "cell_type": "code",
      "source": [
        "arr1=np.random.randint(1,10,(3,4))"
      ],
      "metadata": {
        "id": "t8a_1e5MNr0K"
      },
      "execution_count": null,
      "outputs": []
    },
    {
      "cell_type": "code",
      "source": [
        "arr1"
      ],
      "metadata": {
        "id": "7XXaAlYDN4vZ"
      },
      "execution_count": null,
      "outputs": []
    },
    {
      "cell_type": "code",
      "source": [
        "arr1[1:,0:3]"
      ],
      "metadata": {
        "id": "jFZvNdvgN7Po"
      },
      "execution_count": null,
      "outputs": []
    },
    {
      "cell_type": "code",
      "source": [
        "arr1[1:,1::2]\n",
        "#start ------>1\n",
        "#sart+step---->1+2=3"
      ],
      "metadata": {
        "id": "atJ0H3ThOQZy"
      },
      "execution_count": null,
      "outputs": []
    },
    {
      "cell_type": "code",
      "source": [
        "arr1[2:2,::2]"
      ],
      "metadata": {
        "id": "ybv0FY11Pa7l"
      },
      "execution_count": null,
      "outputs": []
    },
    {
      "cell_type": "code",
      "source": [
        "#arr_name[row_start_number(inclusive):row_stop_number(exclusive):row_step_number,column_start_number(inclusive):column_stop_number(exclusive):column_step_numbe]"
      ],
      "metadata": {
        "id": "IXi91RMsQXt0"
      },
      "execution_count": null,
      "outputs": []
    },
    {
      "cell_type": "code",
      "source": [
        "arr2=np.random.randint(1,10,(3,3,4))#(depth(cell),row,column)"
      ],
      "metadata": {
        "id": "292haMeNRfhu"
      },
      "execution_count": null,
      "outputs": []
    },
    {
      "cell_type": "code",
      "source": [
        "arr2"
      ],
      "metadata": {
        "id": "TGqA2hrhRjJk"
      },
      "execution_count": null,
      "outputs": []
    },
    {
      "cell_type": "code",
      "source": [
        "arr2.ndim"
      ],
      "metadata": {
        "id": "FDQGnCHhSA_N"
      },
      "execution_count": null,
      "outputs": []
    },
    {
      "cell_type": "code",
      "source": [
        "arr1"
      ],
      "metadata": {
        "id": "CzH3t5kNRjzx"
      },
      "execution_count": null,
      "outputs": []
    },
    {
      "cell_type": "code",
      "source": [
        "arr1[1:2:,0::]"
      ],
      "metadata": {
        "id": "6rysENxvSdse"
      },
      "execution_count": null,
      "outputs": []
    },
    {
      "cell_type": "code",
      "source": [
        "arr1[0::,1::2]"
      ],
      "metadata": {
        "id": "Z12cdPJ-R_7e"
      },
      "execution_count": null,
      "outputs": []
    },
    {
      "cell_type": "code",
      "source": [
        "arr3=np.random.randint(10,100,(7,))"
      ],
      "metadata": {
        "id": "kK7j3OJVS5n1"
      },
      "execution_count": null,
      "outputs": []
    },
    {
      "cell_type": "code",
      "source": [
        "arr3"
      ],
      "metadata": {
        "id": "yfgoAStfTAdA"
      },
      "execution_count": null,
      "outputs": []
    },
    {
      "cell_type": "code",
      "source": [
        "arr3[1]"
      ],
      "metadata": {
        "id": "M4zxTmGTTBPw"
      },
      "execution_count": null,
      "outputs": []
    },
    {
      "cell_type": "code",
      "source": [
        "arr3[4]"
      ],
      "metadata": {
        "id": "2gIYwGRWTN_R"
      },
      "execution_count": null,
      "outputs": []
    },
    {
      "cell_type": "code",
      "source": [
        "arr3[7]"
      ],
      "metadata": {
        "id": "ka4a7UXZUMRl"
      },
      "execution_count": null,
      "outputs": []
    },
    {
      "cell_type": "code",
      "source": [
        "#arr3[start:stop:step]\n",
        "arr3[0:7:2]\n",
        "#first----->start\n",
        "#second----->start+step\n",
        "#thirdt---->start+step*2\n",
        "#fourth ----->start+3*step"
      ],
      "metadata": {
        "id": "6YDmM-PxTVYX"
      },
      "execution_count": null,
      "outputs": []
    },
    {
      "cell_type": "code",
      "source": [
        "arr3[0:10000:2]"
      ],
      "metadata": {
        "id": "vTVMcwDIUSZS"
      },
      "execution_count": null,
      "outputs": []
    },
    {
      "cell_type": "code",
      "source": [
        "arr1"
      ],
      "metadata": {
        "id": "8dkXpAPGUVJw"
      },
      "execution_count": null,
      "outputs": []
    },
    {
      "cell_type": "code",
      "source": [
        "arr1[0::,1:4:2]"
      ],
      "metadata": {
        "id": "A0giQy_bVYig"
      },
      "execution_count": null,
      "outputs": []
    },
    {
      "cell_type": "code",
      "source": [
        "arr1[0:2:1,1:3:1]"
      ],
      "metadata": {
        "id": "mmXgCUuFUr0F"
      },
      "execution_count": null,
      "outputs": []
    },
    {
      "cell_type": "code",
      "source": [
        "#-ve indexing"
      ],
      "metadata": {
        "id": "p19hyS7PUckM"
      },
      "execution_count": null,
      "outputs": []
    },
    {
      "cell_type": "code",
      "source": [
        "arr6=np.random.randint(20,30,(10))"
      ],
      "metadata": {
        "id": "fqSZR9knXK3f"
      },
      "execution_count": null,
      "outputs": []
    },
    {
      "cell_type": "code",
      "source": [
        "arr6"
      ],
      "metadata": {
        "id": "tJFnji78XRyq"
      },
      "execution_count": null,
      "outputs": []
    },
    {
      "cell_type": "code",
      "source": [
        "arr6[-1]"
      ],
      "metadata": {
        "id": "QvAzuOWjXS5x"
      },
      "execution_count": null,
      "outputs": []
    },
    {
      "cell_type": "code",
      "source": [
        "arr6[-2]"
      ],
      "metadata": {
        "id": "IHeVqDreYFvt"
      },
      "execution_count": null,
      "outputs": []
    },
    {
      "cell_type": "code",
      "source": [
        "arr7=np.random.randint(20,30,(10,15))"
      ],
      "metadata": {
        "id": "Eaep9tn-YSkr"
      },
      "execution_count": null,
      "outputs": []
    },
    {
      "cell_type": "code",
      "source": [
        "arr7"
      ],
      "metadata": {
        "id": "L3FSRfuXZJws"
      },
      "execution_count": null,
      "outputs": []
    },
    {
      "cell_type": "code",
      "source": [
        "#-ve index\n",
        "arr7[-6,-5]"
      ],
      "metadata": {
        "id": "nquwnTAOZ0BG"
      },
      "execution_count": null,
      "outputs": []
    },
    {
      "cell_type": "code",
      "source": [
        "#+ve index\n",
        "arr7[4,10]"
      ],
      "metadata": {
        "id": "oZIFhcmlZ22_"
      },
      "execution_count": null,
      "outputs": []
    },
    {
      "cell_type": "code",
      "source": [
        "#3-D array +ve indexing\n",
        "#syntax:\n",
        "#arr_name[depth_number,row_number,column_number]"
      ],
      "metadata": {
        "id": "w2ntlL2la1j5"
      },
      "execution_count": null,
      "outputs": []
    },
    {
      "cell_type": "code",
      "source": [
        "arr8=np.random.randint(20,30,(3,3,3))#depth, row, column"
      ],
      "metadata": {
        "id": "_Dk0QISGaS9W"
      },
      "execution_count": null,
      "outputs": []
    },
    {
      "cell_type": "code",
      "source": [
        "arr8"
      ],
      "metadata": {
        "id": "tIypl2pEbHdm"
      },
      "execution_count": null,
      "outputs": []
    },
    {
      "cell_type": "code",
      "source": [
        "arr8[1,1,1]#arr8[depth_number=1,row_number=1,column_number=1]"
      ],
      "metadata": {
        "id": "I7q4q8HccDhX"
      },
      "execution_count": null,
      "outputs": []
    },
    {
      "cell_type": "code",
      "source": [
        "arr8[2,2,2]"
      ],
      "metadata": {
        "id": "Qfev2tJibIKM"
      },
      "execution_count": null,
      "outputs": []
    },
    {
      "cell_type": "code",
      "source": [
        "arr8[2,1,0]"
      ],
      "metadata": {
        "id": "4JEWxZmHczLk"
      },
      "execution_count": null,
      "outputs": []
    },
    {
      "cell_type": "code",
      "source": [
        "arr8[0,2,2]"
      ],
      "metadata": {
        "id": "IUXf-R5ndc8p"
      },
      "execution_count": null,
      "outputs": []
    },
    {
      "cell_type": "code",
      "source": [
        "arr8[0,0,0]"
      ],
      "metadata": {
        "id": "S25eotSZdkI7"
      },
      "execution_count": null,
      "outputs": []
    },
    {
      "cell_type": "code",
      "source": [
        "arr9=np.random.randint(20,30,(10,3,3))"
      ],
      "metadata": {
        "id": "JaBoI8uddrDn"
      },
      "execution_count": null,
      "outputs": []
    },
    {
      "cell_type": "code",
      "source": [
        "arr9"
      ],
      "metadata": {
        "id": "bzaToq59eiOo"
      },
      "execution_count": null,
      "outputs": []
    },
    {
      "cell_type": "code",
      "source": [
        "arr9[7,2,1]"
      ],
      "metadata": {
        "id": "bIQxpxrxej1b"
      },
      "execution_count": null,
      "outputs": []
    },
    {
      "cell_type": "code",
      "source": [
        "#-ve indexing\n",
        "arr9[-5,-1,-3]"
      ],
      "metadata": {
        "id": "CJPGZZsOe5oe"
      },
      "execution_count": null,
      "outputs": []
    },
    {
      "cell_type": "code",
      "source": [
        "arr9[5,2,0]"
      ],
      "metadata": {
        "id": "tDKiGwwKgJKH"
      },
      "execution_count": null,
      "outputs": []
    },
    {
      "cell_type": "code",
      "source": [
        "arr10=np.random.randint(20,30,(5,5,5))"
      ],
      "metadata": {
        "id": "JhzB5ntdgLmE"
      },
      "execution_count": null,
      "outputs": []
    },
    {
      "cell_type": "code",
      "source": [
        "arr10"
      ],
      "metadata": {
        "id": "XQZAbg5bgck3"
      },
      "execution_count": null,
      "outputs": []
    },
    {
      "cell_type": "code",
      "source": [
        "#+ve indexing\n",
        "arr10[2,3,3]"
      ],
      "metadata": {
        "id": "_fhXYALFge0s"
      },
      "execution_count": null,
      "outputs": []
    },
    {
      "cell_type": "code",
      "source": [
        "arr10[-3,-2,-2]"
      ],
      "metadata": {
        "id": "Wy_i6-rfg4rB"
      },
      "execution_count": null,
      "outputs": []
    },
    {
      "cell_type": "code",
      "source": [
        "arr10[-3,3,3]"
      ],
      "metadata": {
        "id": "NUjiRdz7g8xw"
      },
      "execution_count": null,
      "outputs": []
    },
    {
      "cell_type": "code",
      "source": [
        "arr10[4,2,4]"
      ],
      "metadata": {
        "id": "4YxQxVOdhIn0"
      },
      "execution_count": null,
      "outputs": []
    },
    {
      "cell_type": "code",
      "source": [
        "arr10[-1,-3,-1]"
      ],
      "metadata": {
        "id": "o_mq30FXhrrO"
      },
      "execution_count": null,
      "outputs": []
    },
    {
      "cell_type": "code",
      "source": [
        "arr11=np.random.randint(20,30,(5))"
      ],
      "metadata": {
        "id": "4RYGhuWohvAT"
      },
      "execution_count": null,
      "outputs": []
    },
    {
      "cell_type": "code",
      "source": [
        "ar12=np.random.rand(5)"
      ],
      "metadata": {
        "id": "g0JfFB5jh1k7"
      },
      "execution_count": null,
      "outputs": []
    },
    {
      "cell_type": "code",
      "source": [
        "ar12"
      ],
      "metadata": {
        "id": "VWSBqe7JiCHw"
      },
      "execution_count": null,
      "outputs": []
    },
    {
      "cell_type": "code",
      "source": [
        "arr11"
      ],
      "metadata": {
        "id": "ypcK4Q1oiDCh"
      },
      "execution_count": null,
      "outputs": []
    },
    {
      "cell_type": "code",
      "source": [
        "ar13=arr11+ar12"
      ],
      "metadata": {
        "id": "7b4hKP3fiVWM"
      },
      "execution_count": null,
      "outputs": []
    },
    {
      "cell_type": "code",
      "source": [
        "np.round(ar13,1)"
      ],
      "metadata": {
        "id": "DpIi1_pOiYZl"
      },
      "execution_count": null,
      "outputs": []
    },
    {
      "cell_type": "code",
      "source": [],
      "metadata": {
        "id": "hDV4Mj5uipM4"
      },
      "execution_count": null,
      "outputs": []
    },
    {
      "cell_type": "code",
      "source": [],
      "metadata": {
        "id": "AznSxiNoimkJ"
      },
      "execution_count": null,
      "outputs": []
    }
  ]
}