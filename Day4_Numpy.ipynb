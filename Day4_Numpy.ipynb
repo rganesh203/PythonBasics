{
  "nbformat": 4,
  "nbformat_minor": 0,
  "metadata": {
    "colab": {
      "private_outputs": true,
      "provenance": []
    },
    "kernelspec": {
      "name": "python3",
      "display_name": "Python 3"
    },
    "language_info": {
      "name": "python"
    }
  },
  "cells": [
    {
      "cell_type": "code",
      "execution_count": null,
      "metadata": {
        "id": "P0PH9qi6IvUu"
      },
      "outputs": [],
      "source": [
        "#slicing for 3-D array"
      ]
    },
    {
      "cell_type": "code",
      "source": [
        "import numpy as np"
      ],
      "metadata": {
        "id": "prATPHhZJScI"
      },
      "execution_count": null,
      "outputs": []
    },
    {
      "cell_type": "code",
      "source": [
        "arr1=np.random.randint(1,10,(3,4,3))#3 is represent depth, and 4 is rows and 3 is number of colmns"
      ],
      "metadata": {
        "id": "Dg6Ake3EJV0M"
      },
      "execution_count": null,
      "outputs": []
    },
    {
      "cell_type": "code",
      "source": [
        "arr1"
      ],
      "metadata": {
        "id": "7ES28wH0Jgp2"
      },
      "execution_count": null,
      "outputs": []
    },
    {
      "cell_type": "code",
      "source": [
        "arr1[0:2:,2::,1::]"
      ],
      "metadata": {
        "id": "TW9oK-YzS3NG"
      },
      "execution_count": null,
      "outputs": []
    },
    {
      "cell_type": "code",
      "source": [
        "arr1[0:2:,2:3:,::]"
      ],
      "metadata": {
        "id": "4dRDer1ISCe4"
      },
      "execution_count": null,
      "outputs": []
    },
    {
      "cell_type": "code",
      "source": [
        "arr1[0:3:,2:3:,::]"
      ],
      "metadata": {
        "id": "thSl7PVOO4AO"
      },
      "execution_count": null,
      "outputs": []
    },
    {
      "cell_type": "code",
      "source": [
        "#syntax:\n",
        "#arr_name[start_depth_number:stop_depth_number:step_depth_number,start_row_number:stop_row_number:step_row_number,start_column_number:stop_column_number:step_column_number]"
      ],
      "metadata": {
        "id": "0zwvTa2pJhme"
      },
      "execution_count": null,
      "outputs": []
    },
    {
      "cell_type": "code",
      "source": [
        "arr1[0:1:1,2::,0:2:]"
      ],
      "metadata": {
        "id": "vxlCASPMKOF0"
      },
      "execution_count": null,
      "outputs": []
    },
    {
      "cell_type": "code",
      "source": [
        "arr1[2::,::,::]"
      ],
      "metadata": {
        "id": "T8855DhrMf8q"
      },
      "execution_count": null,
      "outputs": []
    },
    {
      "cell_type": "code",
      "source": [
        "\n",
        "#depth start------>2(inclusive)\n",
        "        #stop ----->if you not specify it will end point(inclusive) otherwise if u specify (exclusive)\n",
        "        #step------>1 if you not specify it will 1(default) otherwise it will be customized value\n",
        "#row\n",
        "        #start---->0\n",
        "        #stop----->endpoint\n",
        "        #step----->1\n",
        "#column\n",
        "        #start---->0\n",
        "        #stop----->endpoint\n",
        "        #step----->1"
      ],
      "metadata": {
        "id": "2G9K7p-jK7-Z"
      },
      "execution_count": null,
      "outputs": []
    },
    {
      "cell_type": "code",
      "source": [
        "arr1[2:3:1,0:4:1,0:3:1]"
      ],
      "metadata": {
        "id": "NWBTZMgaLBRG"
      },
      "execution_count": null,
      "outputs": []
    },
    {
      "cell_type": "code",
      "source": [
        "arr2=np.random.randint(1,10,(5,6,4))"
      ],
      "metadata": {
        "id": "En35CixKTXoO"
      },
      "execution_count": null,
      "outputs": []
    },
    {
      "cell_type": "code",
      "source": [
        "arr2"
      ],
      "metadata": {
        "id": "XawFawocTdoy"
      },
      "execution_count": null,
      "outputs": []
    },
    {
      "cell_type": "code",
      "source": [
        "arr2[0::2,1:5:1,1:3:]"
      ],
      "metadata": {
        "id": "nhpdjI4qV95s"
      },
      "execution_count": null,
      "outputs": []
    },
    {
      "cell_type": "code",
      "source": [
        "arr2[2:4:1,1:4:2,1::]"
      ],
      "metadata": {
        "id": "Sjk69R-OVPOy"
      },
      "execution_count": null,
      "outputs": []
    },
    {
      "cell_type": "code",
      "source": [
        "arr2[2:3:1,4::,1::]"
      ],
      "metadata": {
        "id": "zWI61kPbUE5j"
      },
      "execution_count": null,
      "outputs": []
    },
    {
      "cell_type": "code",
      "source": [
        "arr2[-4:-1:2,-2::1,-3::1]"
      ],
      "metadata": {
        "id": "GG80dt1tWQG6"
      },
      "execution_count": null,
      "outputs": []
    },
    {
      "cell_type": "code",
      "source": [
        "arr3=np.random.randint(1,10,(10,))"
      ],
      "metadata": {
        "id": "1E0uF1wLWQOd"
      },
      "execution_count": null,
      "outputs": []
    },
    {
      "cell_type": "code",
      "source": [
        "arr3"
      ],
      "metadata": {
        "id": "WiY4IQ_0YO6P"
      },
      "execution_count": null,
      "outputs": []
    },
    {
      "cell_type": "code",
      "source": [
        "arr3[-8:-1:1]"
      ],
      "metadata": {
        "id": "ec6B3Ra2YoZj"
      },
      "execution_count": null,
      "outputs": []
    },
    {
      "cell_type": "code",
      "source": [
        "arr3[-2:-9:-1]\n",
        "#start----->-2\n",
        "#start+step-2-1=-3\n",
        "#start+step+step=-2-1-1=-4"
      ],
      "metadata": {
        "id": "qBlCP8ViYVUY"
      },
      "execution_count": null,
      "outputs": []
    },
    {
      "cell_type": "code",
      "source": [
        "arr2"
      ],
      "metadata": {
        "id": "YV0sg8X-Z9L-"
      },
      "execution_count": null,
      "outputs": []
    },
    {
      "cell_type": "code",
      "source": [
        "arr2[-4:-2:,-2::+1,-4::-1]#column start -1, start +step =-1-1"
      ],
      "metadata": {
        "id": "aRoBxGDlZ99S"
      },
      "execution_count": null,
      "outputs": []
    },
    {
      "cell_type": "code",
      "source": [
        "arr2[-4:-2:,-1::-1,-1::-1]"
      ],
      "metadata": {
        "id": "EyNswcqzaxYP"
      },
      "execution_count": null,
      "outputs": []
    },
    {
      "cell_type": "code",
      "source": [
        "?np.transpose"
      ],
      "metadata": {
        "id": "W-1eCNeYgORR"
      },
      "execution_count": null,
      "outputs": []
    },
    {
      "cell_type": "code",
      "source": [
        "arr3"
      ],
      "metadata": {
        "id": "gstp_37dgVFf"
      },
      "execution_count": null,
      "outputs": []
    },
    {
      "cell_type": "code",
      "source": [
        "arr3.shape"
      ],
      "metadata": {
        "id": "bFSgSpYkgbJG"
      },
      "execution_count": null,
      "outputs": []
    },
    {
      "cell_type": "code",
      "source": [
        "arr3.size"
      ],
      "metadata": {
        "id": "5T0KzH6mgdrW"
      },
      "execution_count": null,
      "outputs": []
    },
    {
      "cell_type": "code",
      "source": [
        "arr4=np.arange(4)"
      ],
      "metadata": {
        "id": "mEDx5dSigjrE"
      },
      "execution_count": null,
      "outputs": []
    },
    {
      "cell_type": "code",
      "source": [
        "arr4.shape"
      ],
      "metadata": {
        "id": "rzvbbSTggvlV"
      },
      "execution_count": null,
      "outputs": []
    },
    {
      "cell_type": "code",
      "source": [
        "arr4.reshape(2,2)"
      ],
      "metadata": {
        "id": "eJOkNyrPg0RE"
      },
      "execution_count": null,
      "outputs": []
    },
    {
      "cell_type": "code",
      "source": [
        "arr5=np.transpose(arr4.reshape(2,2))"
      ],
      "metadata": {
        "id": "lp5HJjLJhajt"
      },
      "execution_count": null,
      "outputs": []
    },
    {
      "cell_type": "code",
      "source": [
        "arr5"
      ],
      "metadata": {
        "id": "KiWjILSDhm0A"
      },
      "execution_count": null,
      "outputs": []
    },
    {
      "cell_type": "code",
      "source": [
        "#resize"
      ],
      "metadata": {
        "id": "7-OmJzOyhneu"
      },
      "execution_count": null,
      "outputs": []
    },
    {
      "cell_type": "code",
      "source": [
        "arr3.reshape(2,5)#(2,5),(5,2),(10,1),(1,10)"
      ],
      "metadata": {
        "id": "tbS98fzEh3To"
      },
      "execution_count": null,
      "outputs": []
    },
    {
      "cell_type": "code",
      "source": [
        "arr3.reshape(3,2)"
      ],
      "metadata": {
        "id": "QW57DEHliO43"
      },
      "execution_count": null,
      "outputs": []
    },
    {
      "cell_type": "code",
      "source": [
        "np.resize(arr3,(2,3,2))"
      ],
      "metadata": {
        "id": "lno95-JfiRwI"
      },
      "execution_count": null,
      "outputs": []
    },
    {
      "cell_type": "code",
      "source": [
        "?np.resize"
      ],
      "metadata": {
        "id": "Dp9hTInwiWVA"
      },
      "execution_count": null,
      "outputs": []
    },
    {
      "cell_type": "code",
      "source": [
        "arr3"
      ],
      "metadata": {
        "id": "QADOCOlJjuJU"
      },
      "execution_count": null,
      "outputs": []
    },
    {
      "cell_type": "code",
      "source": [
        "?np.mean"
      ],
      "metadata": {
        "id": "mqd-djLXj0YQ"
      },
      "execution_count": null,
      "outputs": []
    },
    {
      "cell_type": "code",
      "source": [
        "np.mean(arr2,axis=1)"
      ],
      "metadata": {
        "id": "Xr47CKpJkCzJ"
      },
      "execution_count": null,
      "outputs": []
    },
    {
      "cell_type": "code",
      "source": [
        "np.median(arr2,axis=1)"
      ],
      "metadata": {
        "id": "L3-L32CWkGXe"
      },
      "execution_count": null,
      "outputs": []
    },
    {
      "cell_type": "code",
      "source": [
        "np.median(arr3)"
      ],
      "metadata": {
        "id": "QdP3V56ykqXH"
      },
      "execution_count": null,
      "outputs": []
    },
    {
      "cell_type": "code",
      "source": [
        "np.sin(arr3)"
      ],
      "metadata": {
        "id": "EnujnTpKktPU"
      },
      "execution_count": null,
      "outputs": []
    },
    {
      "cell_type": "code",
      "source": [
        "arr5=np.random.randint(1,10,(3,3))\n",
        "arr6=np.random.randint(1,10,(3,3))"
      ],
      "metadata": {
        "id": "ThUC5rLNlAff"
      },
      "execution_count": null,
      "outputs": []
    },
    {
      "cell_type": "code",
      "source": [
        "arr5"
      ],
      "metadata": {
        "id": "aPcAsc-Fl--Y"
      },
      "execution_count": null,
      "outputs": []
    },
    {
      "cell_type": "code",
      "source": [
        "arr6"
      ],
      "metadata": {
        "id": "eqe30VNCmAtM"
      },
      "execution_count": null,
      "outputs": []
    },
    {
      "cell_type": "code",
      "source": [
        "np.hstack((arr5,arr6))"
      ],
      "metadata": {
        "id": "p_LR3A2ql13q"
      },
      "execution_count": null,
      "outputs": []
    },
    {
      "cell_type": "code",
      "source": [
        "np.vstack((arr5,arr6))"
      ],
      "metadata": {
        "id": "i1mjst0Ul9SN"
      },
      "execution_count": null,
      "outputs": []
    },
    {
      "cell_type": "code",
      "source": [
        "#asarray\n",
        "#fromarray\n",
        "#dstack\n",
        "#fromiter\n",
        "#argmax\n",
        "#armin\n",
        "#add\n",
        "#logspace"
      ],
      "metadata": {
        "id": "rbBJfUGJmTUg"
      },
      "execution_count": null,
      "outputs": []
    }
  ]
}