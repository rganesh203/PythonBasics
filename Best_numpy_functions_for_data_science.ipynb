{
  "cells": [
    {
      "cell_type": "markdown",
      "metadata": {
        "id": "view-in-github",
        "colab_type": "text"
      },
      "source": [
        "<a href=\"https://colab.research.google.com/github/rganesh203/PythonNumpy/blob/main/Best_numpy_functions_for_data_science.ipynb\" target=\"_parent\"><img src=\"https://colab.research.google.com/assets/colab-badge.svg\" alt=\"Open In Colab\"/></a>"
      ]
    },
    {
      "cell_type": "markdown",
      "id": "dd031a4b",
      "metadata": {
        "papermill": {
          "duration": 0.039943,
          "end_time": "2022-06-20T03:40:08.753869",
          "exception": false,
          "start_time": "2022-06-20T03:40:08.713926",
          "status": "completed"
        },
        "tags": [],
        "id": "dd031a4b"
      },
      "source": [
        "<center> <img src='https://miro.medium.com/max/765/1*cyXCE-JcBelTyrK-58w6_Q.png'/></center>\n",
        "<center><h2>Best Numpy Functions For Data Science </h2></center>\n",
        "\n",
        "Numpy stands for numerical python and is a library in python that adds the functionality of large multi-dimensional arrays and matrices. It works as a building block for all the libraries in pydata ecosystem. Numpy is one of the most useful tools for a data scientist that uses python. It can handle large-size data efficiently. One of the biggest reasons to use NumPy is its arrays and multiple scientific functions to work with arrays."
      ]
    },
    {
      "cell_type": "markdown",
      "source": [
        "###==========**Numpy**==========\n",
        "    1. numerical python\n",
        "    2. provide lot of functions to work in adomain & linear algebra, FT and Matrices.\n",
        "    3. provide functions related to arrays\n",
        "    4. create an array called ndarray.\n",
        "    5. working of ndarray is faster than lists\n",
        "    6. get the version\n",
        "        print(numpy.__version__)\n",
        "    7. Most of the part of Numpy --------C & C++."
      ],
      "metadata": {
        "id": "7t3KrcQljoOV"
      },
      "id": "7t3KrcQljoOV"
    },
    {
      "cell_type": "markdown",
      "id": "3b3bbd2f",
      "metadata": {
        "papermill": {
          "duration": 0.033934,
          "end_time": "2022-06-20T03:40:08.822907",
          "exception": false,
          "start_time": "2022-06-20T03:40:08.788973",
          "status": "completed"
        },
        "tags": [],
        "id": "3b3bbd2f"
      },
      "source": [
        "#### **========𝗧𝗔𝗕𝗟𝗘 𝗢𝗙 𝗖𝗢𝗡𝗧𝗘𝗡𝗧========**\n",
        "- Array Creation Methods\n",
        "- Array Operations\n",
        "- Replacing Values Inside Array\n",
        "- Set Operations\n",
        "- Splitting\n",
        "- Stacking\n",
        "- Comparing Two Arrays\n",
        "- Repeating Array Elements\n",
        "- Einstein Summation Conventions\n",
        "- Statistical Analysis\n",
        "- Array Printing Options\n",
        "- Save and Load Array Data"
      ]
    },
    {
      "cell_type": "markdown",
      "id": "fd976abe",
      "metadata": {
        "papermill": {
          "duration": 0.034523,
          "end_time": "2022-06-20T03:40:08.892206",
          "exception": false,
          "start_time": "2022-06-20T03:40:08.857683",
          "status": "completed"
        },
        "tags": [],
        "id": "fd976abe"
      },
      "source": [
        "<h2 id='createarray'>Array Creation Methods</h2>"
      ]
    },
    {
      "cell_type": "markdown",
      "source": [
        "# Array dimensions\n",
        "    0-D array\n",
        "    1-D array\n",
        "    2-D array\n",
        "    3-D array\n",
        "    ----etc."
      ],
      "metadata": {
        "id": "o6tnqR0DlfmD"
      },
      "id": "o6tnqR0DlfmD"
    },
    {
      "cell_type": "markdown",
      "source": [
        "#Arrays with Existing Data\n",
        "    ASARRAY( ),\n",
        "    FROMBUFFER( ),\n",
        "    FROMITER( ) IN NUMPY"
      ],
      "metadata": {
        "id": "hcziltxxnJp2"
      },
      "id": "hcziltxxnJp2"
    },
    {
      "cell_type": "markdown",
      "id": "71f3f43d",
      "metadata": {
        "papermill": {
          "duration": 0.036151,
          "end_time": "2022-06-20T03:40:08.965659",
          "exception": false,
          "start_time": "2022-06-20T03:40:08.929508",
          "status": "completed"
        },
        "tags": [],
        "id": "71f3f43d"
      },
      "source": [
        "### Array\n",
        "It is used to create one-dimensional or multidimensional arrays from scratch.\n",
        "![image.png](attachment:5d9e81cc-5933-4e43-9096-56246ce548a0.png)\n",
        "\n",
        "▪▶**Important params**<br>\n",
        "`dtype`: desired data type for the resultant array.<br>\n",
        "`ndim`: Specify the minimum number of dimensions for the resultant array."
      ]
    },
    {
      "cell_type": "code",
      "execution_count": null,
      "id": "3779b0e2",
      "metadata": {
        "execution": {
          "iopub.execute_input": "2022-06-20T03:40:09.037181Z",
          "iopub.status.busy": "2022-06-20T03:40:09.036760Z",
          "iopub.status.idle": "2022-06-20T03:40:09.053595Z",
          "shell.execute_reply": "2022-06-20T03:40:09.052504Z"
        },
        "papermill": {
          "duration": 0.055568,
          "end_time": "2022-06-20T03:40:09.055531",
          "exception": false,
          "start_time": "2022-06-20T03:40:08.999963",
          "status": "completed"
        },
        "tags": [],
        "id": "3779b0e2",
        "outputId": "6700833f-baf4-4e98-cfb4-98c50c86408b",
        "colab": {
          "base_uri": "https://localhost:8080/"
        }
      },
      "outputs": [
        {
          "output_type": "execute_result",
          "data": {
            "text/plain": [
              "array([1, 2, 3, 4, 5])"
            ]
          },
          "metadata": {},
          "execution_count": 1
        }
      ],
      "source": [
        "import numpy as np\n",
        "np.array([1,2,3,4,5])"
      ]
    },
    {
      "cell_type": "markdown",
      "id": "7562d61c",
      "metadata": {
        "papermill": {
          "duration": 0.036876,
          "end_time": "2022-06-20T03:40:09.129706",
          "exception": false,
          "start_time": "2022-06-20T03:40:09.092830",
          "status": "completed"
        },
        "tags": [],
        "id": "7562d61c"
      },
      "source": [
        "You can also use this function to convert series or dataframes into a NumPy array."
      ]
    },
    {
      "cell_type": "code",
      "execution_count": null,
      "id": "e37e79ca",
      "metadata": {
        "execution": {
          "iopub.execute_input": "2022-06-20T03:40:09.206473Z",
          "iopub.status.busy": "2022-06-20T03:40:09.205687Z",
          "iopub.status.idle": "2022-06-20T03:40:09.221327Z",
          "shell.execute_reply": "2022-06-20T03:40:09.219734Z"
        },
        "papermill": {
          "duration": 0.058079,
          "end_time": "2022-06-20T03:40:09.223632",
          "exception": false,
          "start_time": "2022-06-20T03:40:09.165553",
          "status": "completed"
        },
        "tags": [],
        "id": "e37e79ca",
        "outputId": "3ca0eb9b-bdf7-4ca2-9fc6-7b8620181b9a"
      },
      "outputs": [
        {
          "data": {
            "text/plain": [
              "array(['Male', 'Male', 'Female'], dtype=object)"
            ]
          },
          "execution_count": 2,
          "metadata": {},
          "output_type": "execute_result"
        }
      ],
      "source": [
        "import pandas as pd\n",
        "sex = pd.Series(['Male','Male','Female'])\n",
        "np.array(sex)"
      ]
    },
    {
      "cell_type": "markdown",
      "id": "16166a06",
      "metadata": {
        "papermill": {
          "duration": 0.036207,
          "end_time": "2022-06-20T03:40:09.297101",
          "exception": false,
          "start_time": "2022-06-20T03:40:09.260894",
          "status": "completed"
        },
        "tags": [],
        "id": "16166a06"
      },
      "source": [
        "### Linspace\n",
        "Creates an array with evenly spaced float numbers over a specified interval.\n",
        "![image.png](attachment:3c46f8c9-1162-47d6-9eef-f75779931b73.png)\n",
        "**▪▶ Important params**<br>\n",
        "`start`: starting index<br>\n",
        "`end`: last index<br>\n",
        "`num`: number of samples to generate, default = 50."
      ]
    },
    {
      "cell_type": "code",
      "execution_count": null,
      "id": "79d93a58",
      "metadata": {
        "execution": {
          "iopub.execute_input": "2022-06-20T03:40:09.374716Z",
          "iopub.status.busy": "2022-06-20T03:40:09.374186Z",
          "iopub.status.idle": "2022-06-20T03:40:09.381692Z",
          "shell.execute_reply": "2022-06-20T03:40:09.380297Z"
        },
        "papermill": {
          "duration": 0.048421,
          "end_time": "2022-06-20T03:40:09.383344",
          "exception": false,
          "start_time": "2022-06-20T03:40:09.334923",
          "status": "completed"
        },
        "tags": [],
        "id": "79d93a58",
        "outputId": "720e813b-a8bb-437b-8b1a-1eed027991b6"
      },
      "outputs": [
        {
          "data": {
            "text/plain": [
              "array([ 10.,  20.,  30.,  40.,  50.,  60.,  70.,  80.,  90., 100.])"
            ]
          },
          "execution_count": 3,
          "metadata": {},
          "output_type": "execute_result"
        }
      ],
      "source": [
        "np.linspace(10,100,10)"
      ]
    },
    {
      "cell_type": "markdown",
      "id": "9be7d837",
      "metadata": {
        "papermill": {
          "duration": 0.036038,
          "end_time": "2022-06-20T03:40:09.456540",
          "exception": false,
          "start_time": "2022-06-20T03:40:09.420502",
          "status": "completed"
        },
        "tags": [],
        "id": "9be7d837"
      },
      "source": [
        "###Arange\n",
        "Return evenly spaced integer values over a given interval with some step size.\n",
        "![image.png](attachment:5beaf627-a740-46b4-9077-a400c26c2a6a.png)\n",
        "\n",
        "**▪▶Important params**<br>\n",
        "`step`: Space between values."
      ]
    },
    {
      "cell_type": "code",
      "execution_count": null,
      "id": "df443e71",
      "metadata": {
        "execution": {
          "iopub.execute_input": "2022-06-20T03:40:09.530446Z",
          "iopub.status.busy": "2022-06-20T03:40:09.530039Z",
          "iopub.status.idle": "2022-06-20T03:40:09.536184Z",
          "shell.execute_reply": "2022-06-20T03:40:09.535118Z"
        },
        "papermill": {
          "duration": 0.045117,
          "end_time": "2022-06-20T03:40:09.537937",
          "exception": false,
          "start_time": "2022-06-20T03:40:09.492820",
          "status": "completed"
        },
        "tags": [],
        "id": "df443e71",
        "outputId": "047604ab-2eb1-45e5-dcd6-b813e4605d72"
      },
      "outputs": [
        {
          "data": {
            "text/plain": [
              "array([5, 7, 9])"
            ]
          },
          "execution_count": 4,
          "metadata": {},
          "output_type": "execute_result"
        }
      ],
      "source": [
        "np.arange(5,10,2)"
      ]
    },
    {
      "cell_type": "markdown",
      "id": "8101a065",
      "metadata": {
        "papermill": {
          "duration": 0.036124,
          "end_time": "2022-06-20T03:40:09.611691",
          "exception": false,
          "start_time": "2022-06-20T03:40:09.575567",
          "status": "completed"
        },
        "tags": [],
        "id": "8101a065"
      },
      "source": [
        "### Uniform Samples\n",
        "Generate a random sample from a uniform distribution between lower and higher limit values.\n",
        "![1_zhQK7mUMgKakLHOXre1d3Q.png](attachment:427153ea-a92f-49df-a379-48545f25d604.png)"
      ]
    },
    {
      "cell_type": "code",
      "execution_count": null,
      "id": "c64bc83e",
      "metadata": {
        "execution": {
          "iopub.execute_input": "2022-06-20T03:40:09.694201Z",
          "iopub.status.busy": "2022-06-20T03:40:09.693763Z",
          "iopub.status.idle": "2022-06-20T03:40:09.700155Z",
          "shell.execute_reply": "2022-06-20T03:40:09.699253Z"
        },
        "papermill": {
          "duration": 0.052987,
          "end_time": "2022-06-20T03:40:09.702190",
          "exception": false,
          "start_time": "2022-06-20T03:40:09.649203",
          "status": "completed"
        },
        "tags": [],
        "id": "c64bc83e",
        "outputId": "d79a012e-8dfa-4a87-9990-9cff5170eacc"
      },
      "outputs": [
        {
          "data": {
            "text/plain": [
              "array([7.72487975, 8.91942166, 5.53872263, 6.54556745])"
            ]
          },
          "execution_count": 5,
          "metadata": {},
          "output_type": "execute_result"
        }
      ],
      "source": [
        "np.random.uniform(5,10,size = 4)"
      ]
    },
    {
      "cell_type": "code",
      "execution_count": null,
      "id": "e795d33c",
      "metadata": {
        "execution": {
          "iopub.execute_input": "2022-06-20T03:40:09.778948Z",
          "iopub.status.busy": "2022-06-20T03:40:09.778350Z",
          "iopub.status.idle": "2022-06-20T03:40:09.784527Z",
          "shell.execute_reply": "2022-06-20T03:40:09.783535Z"
        },
        "papermill": {
          "duration": 0.04694,
          "end_time": "2022-06-20T03:40:09.786538",
          "exception": false,
          "start_time": "2022-06-20T03:40:09.739598",
          "status": "completed"
        },
        "tags": [],
        "id": "e795d33c",
        "outputId": "da1fc6ad-290c-430a-88c1-4acad79eb3de"
      },
      "outputs": [
        {
          "data": {
            "text/plain": [
              "array([0.64006641, 0.36551985, 0.54317884, 0.16198007, 0.16498553])"
            ]
          },
          "execution_count": 6,
          "metadata": {},
          "output_type": "execute_result"
        }
      ],
      "source": [
        "np.random.uniform(size = 5)"
      ]
    },
    {
      "cell_type": "code",
      "execution_count": null,
      "id": "0df4d0c5",
      "metadata": {
        "execution": {
          "iopub.execute_input": "2022-06-20T03:40:09.862516Z",
          "iopub.status.busy": "2022-06-20T03:40:09.862182Z",
          "iopub.status.idle": "2022-06-20T03:40:09.870968Z",
          "shell.execute_reply": "2022-06-20T03:40:09.869442Z"
        },
        "papermill": {
          "duration": 0.049434,
          "end_time": "2022-06-20T03:40:09.873364",
          "exception": false,
          "start_time": "2022-06-20T03:40:09.823930",
          "status": "completed"
        },
        "tags": [],
        "id": "0df4d0c5",
        "outputId": "ad6c1f96-a13e-42bc-c570-07ecfabfa572"
      },
      "outputs": [
        {
          "data": {
            "text/plain": [
              "array([[0.43680957, 0.37239784, 0.65596076],\n",
              "       [0.17796214, 0.06426845, 0.67394871]])"
            ]
          },
          "execution_count": 7,
          "metadata": {},
          "output_type": "execute_result"
        }
      ],
      "source": [
        "np.random.uniform(size = (2,3))"
      ]
    },
    {
      "cell_type": "markdown",
      "id": "242b160a",
      "metadata": {
        "papermill": {
          "duration": 0.039005,
          "end_time": "2022-06-20T03:40:09.952892",
          "exception": false,
          "start_time": "2022-06-20T03:40:09.913887",
          "status": "completed"
        },
        "tags": [],
        "id": "242b160a"
      },
      "source": [
        "### Random.randint\n",
        "rand()\n",
        "randn()\n",
        "ranf()\n",
        "randint()\n",
        "Generate n random integer samples within a range.\n",
        "![1_VvCmQnn8u_OyIixZfkyZbw.png](attachment:51b49e32-2fe3-4d07-b218-ade8d73c7244.png)"
      ]
    },
    {
      "cell_type": "code",
      "execution_count": null,
      "id": "7fcf6521",
      "metadata": {
        "execution": {
          "iopub.execute_input": "2022-06-20T03:40:10.026971Z",
          "iopub.status.busy": "2022-06-20T03:40:10.026642Z",
          "iopub.status.idle": "2022-06-20T03:40:10.032672Z",
          "shell.execute_reply": "2022-06-20T03:40:10.031655Z"
        },
        "papermill": {
          "duration": 0.045579,
          "end_time": "2022-06-20T03:40:10.034744",
          "exception": false,
          "start_time": "2022-06-20T03:40:09.989165",
          "status": "completed"
        },
        "tags": [],
        "id": "7fcf6521",
        "outputId": "fe486f83-9358-4114-effd-e9954506ed8d"
      },
      "outputs": [
        {
          "data": {
            "text/plain": [
              "array([5, 5, 9, 6, 5, 9, 6, 7, 5, 8])"
            ]
          },
          "execution_count": 8,
          "metadata": {},
          "output_type": "execute_result"
        }
      ],
      "source": [
        "np.random.randint(5,10,10)"
      ]
    },
    {
      "cell_type": "markdown",
      "id": "d9f81bb0",
      "metadata": {
        "papermill": {
          "duration": 0.03664,
          "end_time": "2022-06-20T03:40:10.109190",
          "exception": false,
          "start_time": "2022-06-20T03:40:10.072550",
          "status": "completed"
        },
        "tags": [],
        "id": "d9f81bb0"
      },
      "source": [
        "### 6. Random.random\n",
        "Generate n random float samples.![1_FPvTLpPERIOAEGSTRdBPAw.png](attachment:3030a88f-9347-400a-a81e-142aa5ebab18.png)"
      ]
    },
    {
      "cell_type": "code",
      "execution_count": null,
      "id": "990d991c",
      "metadata": {
        "execution": {
          "iopub.execute_input": "2022-06-20T03:40:10.187206Z",
          "iopub.status.busy": "2022-06-20T03:40:10.185553Z",
          "iopub.status.idle": "2022-06-20T03:40:10.193732Z",
          "shell.execute_reply": "2022-06-20T03:40:10.192491Z"
        },
        "papermill": {
          "duration": 0.048703,
          "end_time": "2022-06-20T03:40:10.195556",
          "exception": false,
          "start_time": "2022-06-20T03:40:10.146853",
          "status": "completed"
        },
        "tags": [],
        "id": "990d991c",
        "outputId": "14f07928-0e43-4729-e52d-89d773b987da"
      },
      "outputs": [
        {
          "data": {
            "text/plain": [
              "array([0.04782005, 0.38949813, 0.22376968])"
            ]
          },
          "execution_count": 9,
          "metadata": {},
          "output_type": "execute_result"
        }
      ],
      "source": [
        "np.random.random(3)"
      ]
    },
    {
      "cell_type": "markdown",
      "id": "12eafd76",
      "metadata": {
        "papermill": {
          "duration": 0.038566,
          "end_time": "2022-06-20T03:40:10.271455",
          "exception": false,
          "start_time": "2022-06-20T03:40:10.232889",
          "status": "completed"
        },
        "tags": [],
        "id": "12eafd76"
      },
      "source": [
        "### 7. Logspace\n",
        "Generate evenly spaced numbers on a log scale.![1_k6E0IikIX7zTmyPGZy29Eg.png](attachment:b487115a-01aa-4d64-bb87-af104ae4a221.png)\n",
        "\n",
        "**▪▶ Important params**<br>\n",
        "`start`: starting value of the sequence.<br>\n",
        "`end`: last value of the sequence.<br>\n",
        "`endpoint`: if True, the last sample will be included in the sequence.<br>\n",
        "`base`: The base of the log space. default is 10."
      ]
    },
    {
      "cell_type": "code",
      "execution_count": null,
      "id": "f460386b",
      "metadata": {
        "execution": {
          "iopub.execute_input": "2022-06-20T03:40:10.348273Z",
          "iopub.status.busy": "2022-06-20T03:40:10.347434Z",
          "iopub.status.idle": "2022-06-20T03:40:10.353887Z",
          "shell.execute_reply": "2022-06-20T03:40:10.353128Z"
        },
        "papermill": {
          "duration": 0.047219,
          "end_time": "2022-06-20T03:40:10.355467",
          "exception": false,
          "start_time": "2022-06-20T03:40:10.308248",
          "status": "completed"
        },
        "tags": [],
        "id": "f460386b",
        "outputId": "f429132b-f29b-4e77-ef66-06e643982410"
      },
      "outputs": [
        {
          "data": {
            "text/plain": [
              "array([1.00000000e+00, 5.65685425e+00, 3.20000000e+01, 1.81019336e+02,\n",
              "       1.02400000e+03])"
            ]
          },
          "execution_count": 10,
          "metadata": {},
          "output_type": "execute_result"
        }
      ],
      "source": [
        "np.logspace(0,10,5,base=2)"
      ]
    },
    {
      "cell_type": "markdown",
      "id": "003aa3a1",
      "metadata": {
        "papermill": {
          "duration": 0.038934,
          "end_time": "2022-06-20T03:40:10.433082",
          "exception": false,
          "start_time": "2022-06-20T03:40:10.394148",
          "status": "completed"
        },
        "tags": [],
        "id": "003aa3a1"
      },
      "source": [
        "### 8. Array of zero\n",
        "np.zeroes function helps to create an array of 0.![1_Hj1ne3gg2wwJ5JQKWx12Jw.png](attachment:fabb507b-f3a1-4c04-bb50-069b5c9f2c65.png)\n",
        "**▪▶ Important params**<br>\n",
        "`shape`: shape of the resultant array.<br>\n",
        "`dtype`: desired data type of resultant array. ‘int’ or default ‘float’"
      ]
    },
    {
      "cell_type": "code",
      "execution_count": null,
      "id": "45ba9dcb",
      "metadata": {
        "execution": {
          "iopub.execute_input": "2022-06-20T03:40:10.511599Z",
          "iopub.status.busy": "2022-06-20T03:40:10.511286Z",
          "iopub.status.idle": "2022-06-20T03:40:10.517991Z",
          "shell.execute_reply": "2022-06-20T03:40:10.517339Z"
        },
        "papermill": {
          "duration": 0.047855,
          "end_time": "2022-06-20T03:40:10.519511",
          "exception": false,
          "start_time": "2022-06-20T03:40:10.471656",
          "status": "completed"
        },
        "tags": [],
        "id": "45ba9dcb",
        "outputId": "37a5d1bc-bba6-4df2-cfc4-ee7e739714ae"
      },
      "outputs": [
        {
          "data": {
            "text/plain": [
              "array([[0, 0, 0],\n",
              "       [0, 0, 0]])"
            ]
          },
          "execution_count": 11,
          "metadata": {},
          "output_type": "execute_result"
        }
      ],
      "source": [
        "np.zeros((2,3),dtype='int')"
      ]
    },
    {
      "cell_type": "code",
      "execution_count": null,
      "id": "04297026",
      "metadata": {
        "execution": {
          "iopub.execute_input": "2022-06-20T03:40:10.596932Z",
          "iopub.status.busy": "2022-06-20T03:40:10.596393Z",
          "iopub.status.idle": "2022-06-20T03:40:10.602361Z",
          "shell.execute_reply": "2022-06-20T03:40:10.601464Z"
        },
        "papermill": {
          "duration": 0.046308,
          "end_time": "2022-06-20T03:40:10.604083",
          "exception": false,
          "start_time": "2022-06-20T03:40:10.557775",
          "status": "completed"
        },
        "tags": [],
        "id": "04297026",
        "outputId": "cb93f4d6-45f8-4149-d2cc-09296746b5e8"
      },
      "outputs": [
        {
          "data": {
            "text/plain": [
              "array([0., 0., 0., 0., 0.])"
            ]
          },
          "execution_count": 12,
          "metadata": {},
          "output_type": "execute_result"
        }
      ],
      "source": [
        "np.zeros(5)"
      ]
    },
    {
      "cell_type": "markdown",
      "id": "3bad4d35",
      "metadata": {
        "papermill": {
          "duration": 0.037361,
          "end_time": "2022-06-20T03:40:10.678831",
          "exception": false,
          "start_time": "2022-06-20T03:40:10.641470",
          "status": "completed"
        },
        "tags": [],
        "id": "3bad4d35"
      },
      "source": [
        "### 9. Array of Ones\n",
        "np.ones function helps to create an array of 1.![1_d9VMSaNyH-RMV6sFK_09tQ.png](attachment:df5f7950-3691-4244-8ee1-0f81a76bead4.png)"
      ]
    },
    {
      "cell_type": "code",
      "execution_count": null,
      "id": "9d979a78",
      "metadata": {
        "execution": {
          "iopub.execute_input": "2022-06-20T03:40:10.758865Z",
          "iopub.status.busy": "2022-06-20T03:40:10.757602Z",
          "iopub.status.idle": "2022-06-20T03:40:10.764600Z",
          "shell.execute_reply": "2022-06-20T03:40:10.763813Z"
        },
        "papermill": {
          "duration": 0.049572,
          "end_time": "2022-06-20T03:40:10.766274",
          "exception": false,
          "start_time": "2022-06-20T03:40:10.716702",
          "status": "completed"
        },
        "tags": [],
        "id": "9d979a78",
        "outputId": "fe30e29a-a525-4027-dc20-c9cb1016e01e"
      },
      "outputs": [
        {
          "data": {
            "text/plain": [
              "array([[1., 1., 1., 1.],\n",
              "       [1., 1., 1., 1.],\n",
              "       [1., 1., 1., 1.]])"
            ]
          },
          "execution_count": 13,
          "metadata": {},
          "output_type": "execute_result"
        }
      ],
      "source": [
        "np.ones((3,4))"
      ]
    },
    {
      "cell_type": "markdown",
      "id": "0926077d",
      "metadata": {
        "papermill": {
          "duration": 0.038034,
          "end_time": "2022-06-20T03:40:10.842408",
          "exception": false,
          "start_time": "2022-06-20T03:40:10.804374",
          "status": "completed"
        },
        "tags": [],
        "id": "0926077d"
      },
      "source": [
        "### 10. Array of k Random Value\n",
        "Creates an n-dimensional array of a random value.![1_dTZrwbRMeMKcekl9ZXsCAw.png](attachment:5a415716-49b1-4b74-a83f-4a688ba3b8da.png)\n",
        "**▪▶ Important params**<br>\n",
        "`fill_value`: Random value to fill inside the array."
      ]
    },
    {
      "cell_type": "code",
      "execution_count": null,
      "id": "bc554a13",
      "metadata": {
        "execution": {
          "iopub.execute_input": "2022-06-20T03:40:10.924483Z",
          "iopub.status.busy": "2022-06-20T03:40:10.924156Z",
          "iopub.status.idle": "2022-06-20T03:40:10.929874Z",
          "shell.execute_reply": "2022-06-20T03:40:10.929131Z"
        },
        "papermill": {
          "duration": 0.046151,
          "end_time": "2022-06-20T03:40:10.931461",
          "exception": false,
          "start_time": "2022-06-20T03:40:10.885310",
          "status": "completed"
        },
        "tags": [],
        "id": "bc554a13",
        "outputId": "bfb08dd6-f2ff-442d-da53-79042407a693"
      },
      "outputs": [
        {
          "data": {
            "text/plain": [
              "array([[2, 2, 2, 2],\n",
              "       [2, 2, 2, 2]])"
            ]
          },
          "execution_count": 14,
          "metadata": {},
          "output_type": "execute_result"
        }
      ],
      "source": [
        "np.full((2,4),fill_value=2)"
      ]
    },
    {
      "cell_type": "markdown",
      "id": "8318c697",
      "metadata": {
        "papermill": {
          "duration": 0.047309,
          "end_time": "2022-06-20T03:40:11.270986",
          "exception": false,
          "start_time": "2022-06-20T03:40:11.223677",
          "status": "completed"
        },
        "tags": [],
        "id": "8318c697"
      },
      "source": [
        "## Array Operations"
      ]
    },
    {
      "cell_type": "markdown",
      "id": "e1d5041a",
      "metadata": {
        "papermill": {
          "duration": 0.048308,
          "end_time": "2022-06-20T03:40:11.367351",
          "exception": false,
          "start_time": "2022-06-20T03:40:11.319043",
          "status": "completed"
        },
        "tags": [],
        "id": "e1d5041a"
      },
      "source": [
        "### 12. Min\n",
        "Return the minimum value from the array.![1_Iah738_7UqXwT9JBE4tcDw.png](attachment:aa59ef40-ad61-45bd-bda5-0cefd119b849.png)\n",
        "\n",
        "**▪▶ Important params**<br>\n",
        "`axis`: axis along which to operate.<br>\n",
        "`out`: alternative array to store the output."
      ]
    },
    {
      "cell_type": "code",
      "execution_count": null,
      "id": "c768d562",
      "metadata": {
        "execution": {
          "iopub.execute_input": "2022-06-20T03:40:11.468867Z",
          "iopub.status.busy": "2022-06-20T03:40:11.466450Z",
          "iopub.status.idle": "2022-06-20T03:40:11.475356Z",
          "shell.execute_reply": "2022-06-20T03:40:11.474617Z"
        },
        "papermill": {
          "duration": 0.062567,
          "end_time": "2022-06-20T03:40:11.477025",
          "exception": false,
          "start_time": "2022-06-20T03:40:11.414458",
          "status": "completed"
        },
        "tags": [],
        "id": "c768d562",
        "outputId": "cd17eaa1-854e-432e-92e4-6840ed5b25b1"
      },
      "outputs": [
        {
          "data": {
            "text/plain": [
              "1"
            ]
          },
          "execution_count": 16,
          "metadata": {},
          "output_type": "execute_result"
        }
      ],
      "source": [
        "arr = np.array([1,1,2,3,3,4,5,6,6,2])\n",
        "np.min(arr)"
      ]
    },
    {
      "cell_type": "markdown",
      "id": "3ed42a4c",
      "metadata": {
        "papermill": {
          "duration": 0.041465,
          "end_time": "2022-06-20T03:40:11.566597",
          "exception": false,
          "start_time": "2022-06-20T03:40:11.525132",
          "status": "completed"
        },
        "tags": [],
        "id": "3ed42a4c"
      },
      "source": [
        "### 13. Max\n",
        "Return the maximum value from the array.![1_03Nd6aG5QAGXMnTniEWbEw.png](attachment:b7d15408-8edb-4b01-97ba-4a4256788eef.png)"
      ]
    },
    {
      "cell_type": "code",
      "execution_count": null,
      "id": "9a45641a",
      "metadata": {
        "execution": {
          "iopub.execute_input": "2022-06-20T03:40:11.647126Z",
          "iopub.status.busy": "2022-06-20T03:40:11.646718Z",
          "iopub.status.idle": "2022-06-20T03:40:11.652695Z",
          "shell.execute_reply": "2022-06-20T03:40:11.651914Z"
        },
        "papermill": {
          "duration": 0.050217,
          "end_time": "2022-06-20T03:40:11.654575",
          "exception": false,
          "start_time": "2022-06-20T03:40:11.604358",
          "status": "completed"
        },
        "tags": [],
        "id": "9a45641a",
        "outputId": "c9b5f31b-19ad-42c2-f373-e3a2b6438942"
      },
      "outputs": [
        {
          "data": {
            "text/plain": [
              "6"
            ]
          },
          "execution_count": 17,
          "metadata": {},
          "output_type": "execute_result"
        }
      ],
      "source": [
        "np.max(arr)"
      ]
    },
    {
      "cell_type": "markdown",
      "id": "69c0650a",
      "metadata": {
        "papermill": {
          "duration": 0.039453,
          "end_time": "2022-06-20T03:40:11.735482",
          "exception": false,
          "start_time": "2022-06-20T03:40:11.696029",
          "status": "completed"
        },
        "tags": [],
        "id": "69c0650a"
      },
      "source": [
        "### 14. Unique\n",
        "Return an array with all the unique elements sorted.\n",
        "![1_j_bhHwxowLqPxbAl2XbTmg.png](attachment:5303cd5a-dbc2-426a-9ff6-0afc72fe5260.png)\n",
        "\n",
        "**▪▶ Important params**<br>\n",
        "`return_index`: if True, return the indices of the array.<br>\n",
        "`return_inverse`: if True, return the indices of the unique array.<br>\n",
        "`return_counts`: if True, return the number of times each unique element appears inside the array.<br>\n",
        "`axis`: The axis to operate on. By default, the array is considered flattened."
      ]
    },
    {
      "cell_type": "code",
      "execution_count": null,
      "id": "746373b7",
      "metadata": {
        "execution": {
          "iopub.execute_input": "2022-06-20T03:40:11.819841Z",
          "iopub.status.busy": "2022-06-20T03:40:11.819524Z",
          "iopub.status.idle": "2022-06-20T03:40:11.825142Z",
          "shell.execute_reply": "2022-06-20T03:40:11.824419Z"
        },
        "papermill": {
          "duration": 0.045504,
          "end_time": "2022-06-20T03:40:11.826866",
          "exception": false,
          "start_time": "2022-06-20T03:40:11.781362",
          "status": "completed"
        },
        "tags": [],
        "id": "746373b7",
        "outputId": "3d0e1086-1835-44fe-f119-9987604079c8"
      },
      "outputs": [
        {
          "data": {
            "text/plain": [
              "(array([1, 2, 3, 4, 5, 6]), array([2, 2, 2, 1, 1, 2]))"
            ]
          },
          "execution_count": 18,
          "metadata": {},
          "output_type": "execute_result"
        }
      ],
      "source": [
        "np.unique(arr,return_counts=True)"
      ]
    },
    {
      "cell_type": "markdown",
      "id": "a8444031",
      "metadata": {
        "papermill": {
          "duration": 0.039967,
          "end_time": "2022-06-20T03:40:11.903755",
          "exception": false,
          "start_time": "2022-06-20T03:40:11.863788",
          "status": "completed"
        },
        "tags": [],
        "id": "a8444031"
      },
      "source": [
        "### 15. Mean\n",
        "It is used to get the mean of the array.![1_uotYccJmQ5uxlFk1yv7HhA.png](attachment:14285ad7-296e-46be-9ec9-c1a803e796b8.png)"
      ]
    },
    {
      "cell_type": "code",
      "execution_count": null,
      "id": "0382cf60",
      "metadata": {
        "execution": {
          "iopub.execute_input": "2022-06-20T03:40:11.987631Z",
          "iopub.status.busy": "2022-06-20T03:40:11.987016Z",
          "iopub.status.idle": "2022-06-20T03:40:11.992732Z",
          "shell.execute_reply": "2022-06-20T03:40:11.991913Z"
        },
        "papermill": {
          "duration": 0.050206,
          "end_time": "2022-06-20T03:40:11.994318",
          "exception": false,
          "start_time": "2022-06-20T03:40:11.944112",
          "status": "completed"
        },
        "tags": [],
        "id": "0382cf60",
        "outputId": "55e02787-3288-4d83-e9da-17d32adcd7e1"
      },
      "outputs": [
        {
          "data": {
            "text/plain": [
              "3"
            ]
          },
          "execution_count": 19,
          "metadata": {},
          "output_type": "execute_result"
        }
      ],
      "source": [
        "np.mean(arr,dtype='int')"
      ]
    },
    {
      "cell_type": "markdown",
      "id": "e0e1a4f0",
      "metadata": {
        "papermill": {
          "duration": 0.039532,
          "end_time": "2022-06-20T03:40:12.073846",
          "exception": false,
          "start_time": "2022-06-20T03:40:12.034314",
          "status": "completed"
        },
        "tags": [],
        "id": "e0e1a4f0"
      },
      "source": [
        "### 16. Median\n",
        "Return the median value of the array.![1_sSs_cxxBBgUlHGQ2IGoboA.png](attachment:d8784034-2618-408c-84ab-a9dc96b08520.png)"
      ]
    },
    {
      "cell_type": "code",
      "execution_count": null,
      "id": "548499a9",
      "metadata": {
        "execution": {
          "iopub.execute_input": "2022-06-20T03:40:12.152357Z",
          "iopub.status.busy": "2022-06-20T03:40:12.151776Z",
          "iopub.status.idle": "2022-06-20T03:40:12.160957Z",
          "shell.execute_reply": "2022-06-20T03:40:12.159661Z"
        },
        "papermill": {
          "duration": 0.050942,
          "end_time": "2022-06-20T03:40:12.163489",
          "exception": false,
          "start_time": "2022-06-20T03:40:12.112547",
          "status": "completed"
        },
        "tags": [],
        "id": "548499a9",
        "outputId": "776af2fc-3fd6-47db-d981-2fe074401f6a"
      },
      "outputs": [
        {
          "data": {
            "text/plain": [
              "3.5"
            ]
          },
          "execution_count": 20,
          "metadata": {},
          "output_type": "execute_result"
        }
      ],
      "source": [
        "arr = np.array([[1,2,3],[5,8,4]])\n",
        "np.median(arr)"
      ]
    },
    {
      "cell_type": "markdown",
      "id": "c96c0566",
      "metadata": {
        "papermill": {
          "duration": 0.037169,
          "end_time": "2022-06-20T03:40:12.237902",
          "exception": false,
          "start_time": "2022-06-20T03:40:12.200733",
          "status": "completed"
        },
        "tags": [],
        "id": "c96c0566"
      },
      "source": [
        "### 17. Digitize\n",
        "Return the indices of the bins to which each value in the input array belongs.![1_WsF4aLzDyYQ4rSraviyMaw.png](attachment:e7f22293-53cb-470a-b09c-e9d7640e6ca9.png)\n",
        "**▪▶ Important params**<br>\n",
        "`bins`: Array of bins.<br>\n",
        "`right`: Indicates whether the interval includes the right or left bin edge."
      ]
    },
    {
      "cell_type": "code",
      "execution_count": null,
      "id": "9773bca2",
      "metadata": {
        "execution": {
          "iopub.execute_input": "2022-06-20T03:40:12.316220Z",
          "iopub.status.busy": "2022-06-20T03:40:12.315810Z",
          "iopub.status.idle": "2022-06-20T03:40:12.323739Z",
          "shell.execute_reply": "2022-06-20T03:40:12.323044Z"
        },
        "papermill": {
          "duration": 0.048496,
          "end_time": "2022-06-20T03:40:12.325292",
          "exception": false,
          "start_time": "2022-06-20T03:40:12.276796",
          "status": "completed"
        },
        "tags": [],
        "id": "9773bca2",
        "outputId": "7be75926-e779-455d-e144-fef9409f8e80"
      },
      "outputs": [
        {
          "data": {
            "text/plain": [
              "array([0, 1, 1, 2, 2, 2, 4, 4, 4])"
            ]
          },
          "execution_count": 21,
          "metadata": {},
          "output_type": "execute_result"
        }
      ],
      "source": [
        "a = np.array([-0.9, 0.5, 0.9, 1, 1.2, 1.4, 3.6, 4.7, 5.3])\n",
        "bins = np.array([0,1,2,3])\n",
        "np.digitize(a,bins)"
      ]
    },
    {
      "cell_type": "markdown",
      "id": "5b99b5c6",
      "metadata": {
        "papermill": {
          "duration": 0.037823,
          "end_time": "2022-06-20T03:40:12.400222",
          "exception": false,
          "start_time": "2022-06-20T03:40:12.362399",
          "status": "completed"
        },
        "tags": [],
        "id": "5b99b5c6"
      },
      "source": [
        "```\n",
        "Exp        Value\n",
        "x < 0     :   0\n",
        "0 <= x <1 :   1\n",
        "1 <= x <2 :   2\n",
        "2 <= x <3 :   3\n",
        "3 <=x     :   4\n",
        "Compares -0.9 to 0, here x < 0 so Put 0 in resulting array.\n",
        "Compares  0.5 to 0, here 0 <= x <1 so Put 1.\n",
        ".\n",
        "Compares 5.4 to 4, here 3<=x so Put 4\n",
        "```"
      ]
    },
    {
      "cell_type": "markdown",
      "id": "44885784",
      "metadata": {
        "papermill": {
          "duration": 0.03758,
          "end_time": "2022-06-20T03:40:12.476037",
          "exception": false,
          "start_time": "2022-06-20T03:40:12.438457",
          "status": "completed"
        },
        "tags": [],
        "id": "44885784"
      },
      "source": [
        "### 18. Reshape\n",
        "It is one of the most used functions of NumPy. It Returns an array containing the same data with a new shape.![1_sg0TYQZzWYZiTzTpUKC7Og.png](attachment:c9c09732-80c1-461c-baa8-7fb7cd2bc3ae.png)"
      ]
    },
    {
      "cell_type": "code",
      "execution_count": null,
      "id": "d53987db",
      "metadata": {
        "execution": {
          "iopub.execute_input": "2022-06-20T03:40:12.552455Z",
          "iopub.status.busy": "2022-06-20T03:40:12.552125Z",
          "iopub.status.idle": "2022-06-20T03:40:12.558955Z",
          "shell.execute_reply": "2022-06-20T03:40:12.557467Z"
        },
        "papermill": {
          "duration": 0.04696,
          "end_time": "2022-06-20T03:40:12.561246",
          "exception": false,
          "start_time": "2022-06-20T03:40:12.514286",
          "status": "completed"
        },
        "tags": [],
        "id": "d53987db",
        "outputId": "dadcd6b2-d62d-4a79-c594-ed783c9b8307"
      },
      "outputs": [
        {
          "data": {
            "text/plain": [
              "array([[ 3,  3, 13],\n",
              "       [ 3,  8,  1],\n",
              "       [ 4,  2,  6],\n",
              "       [14,  9,  8]])"
            ]
          },
          "execution_count": 22,
          "metadata": {},
          "output_type": "execute_result"
        }
      ],
      "source": [
        "A = np.random.randint(15,size=(4,3))\n",
        "A"
      ]
    },
    {
      "cell_type": "code",
      "execution_count": null,
      "id": "757b1bd5",
      "metadata": {
        "execution": {
          "iopub.execute_input": "2022-06-20T03:40:12.639045Z",
          "iopub.status.busy": "2022-06-20T03:40:12.638540Z",
          "iopub.status.idle": "2022-06-20T03:40:12.643934Z",
          "shell.execute_reply": "2022-06-20T03:40:12.643400Z"
        },
        "papermill": {
          "duration": 0.046345,
          "end_time": "2022-06-20T03:40:12.645484",
          "exception": false,
          "start_time": "2022-06-20T03:40:12.599139",
          "status": "completed"
        },
        "tags": [],
        "id": "757b1bd5",
        "outputId": "439aeb06-a244-4262-d64f-3ba274fe88d3"
      },
      "outputs": [
        {
          "data": {
            "text/plain": [
              "array([[ 3,  3, 13,  3],\n",
              "       [ 8,  1,  4,  2],\n",
              "       [ 6, 14,  9,  8]])"
            ]
          },
          "execution_count": 23,
          "metadata": {},
          "output_type": "execute_result"
        }
      ],
      "source": [
        "A.reshape(3,4)"
      ]
    },
    {
      "cell_type": "code",
      "execution_count": null,
      "id": "1e174d51",
      "metadata": {
        "execution": {
          "iopub.execute_input": "2022-06-20T03:40:12.721142Z",
          "iopub.status.busy": "2022-06-20T03:40:12.720362Z",
          "iopub.status.idle": "2022-06-20T03:40:12.725832Z",
          "shell.execute_reply": "2022-06-20T03:40:12.725382Z"
        },
        "papermill": {
          "duration": 0.046254,
          "end_time": "2022-06-20T03:40:12.727580",
          "exception": false,
          "start_time": "2022-06-20T03:40:12.681326",
          "status": "completed"
        },
        "tags": [],
        "id": "1e174d51",
        "outputId": "2a626802-ccab-4572-b2d5-8c3d558242c1"
      },
      "outputs": [
        {
          "data": {
            "text/plain": [
              "array([ 3,  3, 13,  3,  8,  1,  4,  2,  6, 14,  9,  8])"
            ]
          },
          "execution_count": 24,
          "metadata": {},
          "output_type": "execute_result"
        }
      ],
      "source": [
        "A.reshape(-1)"
      ]
    },
    {
      "cell_type": "markdown",
      "id": "c6e3bd72",
      "metadata": {
        "papermill": {
          "duration": 0.056609,
          "end_time": "2022-06-20T03:40:12.840514",
          "exception": false,
          "start_time": "2022-06-20T03:40:12.783905",
          "status": "completed"
        },
        "tags": [],
        "id": "c6e3bd72"
      },
      "source": [
        "### 19. Expand Dimensions\n",
        "It is used to expand the dimensions of an array. This method is useful for creating sample test data for testing a machine learning model.![1_LTIcxoFlpg-zN87ma4yi8g.png](attachment:8af049c7-9393-4f91-b0aa-98b3bb5a39ff.png)"
      ]
    },
    {
      "cell_type": "code",
      "execution_count": null,
      "id": "3bf38d19",
      "metadata": {
        "execution": {
          "iopub.execute_input": "2022-06-20T03:40:12.956795Z",
          "iopub.status.busy": "2022-06-20T03:40:12.956104Z",
          "iopub.status.idle": "2022-06-20T03:40:12.961273Z",
          "shell.execute_reply": "2022-06-20T03:40:12.960764Z"
        },
        "papermill": {
          "duration": 0.066907,
          "end_time": "2022-06-20T03:40:12.963033",
          "exception": false,
          "start_time": "2022-06-20T03:40:12.896126",
          "status": "completed"
        },
        "tags": [],
        "id": "3bf38d19",
        "outputId": "a0c9cb9f-b749-45fb-9f7a-f5f86e5e0440"
      },
      "outputs": [
        {
          "data": {
            "text/plain": [
              "array([[ 8, 14,  1,  8, 11,  4,  9,  4,  1, 13, 13, 11]])"
            ]
          },
          "execution_count": 25,
          "metadata": {},
          "output_type": "execute_result"
        }
      ],
      "source": [
        "arr = np.array([ 8, 14,  1,  8, 11,  4,  9,  4, 1, 13, 13, 11])\n",
        "np.expand_dims(arr,axis=0)"
      ]
    },
    {
      "cell_type": "code",
      "execution_count": null,
      "id": "c09a0ec5",
      "metadata": {
        "execution": {
          "iopub.execute_input": "2022-06-20T03:40:13.072701Z",
          "iopub.status.busy": "2022-06-20T03:40:13.071923Z",
          "iopub.status.idle": "2022-06-20T03:40:13.076647Z",
          "shell.execute_reply": "2022-06-20T03:40:13.076191Z"
        },
        "papermill": {
          "duration": 0.060517,
          "end_time": "2022-06-20T03:40:13.078447",
          "exception": false,
          "start_time": "2022-06-20T03:40:13.017930",
          "status": "completed"
        },
        "tags": [],
        "id": "c09a0ec5",
        "outputId": "3a919d36-66f5-4978-ad4b-b8cbd3cc1ccf"
      },
      "outputs": [
        {
          "data": {
            "text/plain": [
              "array([[ 8],\n",
              "       [14],\n",
              "       [ 1],\n",
              "       [ 8],\n",
              "       [11],\n",
              "       [ 4],\n",
              "       [ 9],\n",
              "       [ 4],\n",
              "       [ 1],\n",
              "       [13],\n",
              "       [13],\n",
              "       [11]])"
            ]
          },
          "execution_count": 26,
          "metadata": {},
          "output_type": "execute_result"
        }
      ],
      "source": [
        "np.expand_dims(arr,axis=1)"
      ]
    },
    {
      "cell_type": "markdown",
      "id": "7c2d2101",
      "metadata": {
        "papermill": {
          "duration": 0.056787,
          "end_time": "2022-06-20T03:40:13.192108",
          "exception": false,
          "start_time": "2022-06-20T03:40:13.135321",
          "status": "completed"
        },
        "tags": [],
        "id": "7c2d2101"
      },
      "source": [
        "## 20. Squeeze\n",
        "Reduce the dimension of an array by removing single-dimensional entrie![1_lFO6q9flt0_bqO_e2oRfWA.png](attachment:ab4bbf86-8472-428a-afbe-d2054e6dbf40.png)"
      ]
    },
    {
      "cell_type": "code",
      "execution_count": null,
      "id": "133aafa1",
      "metadata": {
        "execution": {
          "iopub.execute_input": "2022-06-20T03:40:13.310474Z",
          "iopub.status.busy": "2022-06-20T03:40:13.309898Z",
          "iopub.status.idle": "2022-06-20T03:40:13.316096Z",
          "shell.execute_reply": "2022-06-20T03:40:13.315241Z"
        },
        "papermill": {
          "duration": 0.067952,
          "end_time": "2022-06-20T03:40:13.318682",
          "exception": false,
          "start_time": "2022-06-20T03:40:13.250730",
          "status": "completed"
        },
        "tags": [],
        "id": "133aafa1",
        "outputId": "b6b6fcf6-94ef-430b-c2b1-fda0017389d3"
      },
      "outputs": [
        {
          "data": {
            "text/plain": [
              "array([ 8, 14,  1,  8, 11,  4,  9,  4,  1, 13, 13, 11])"
            ]
          },
          "execution_count": 27,
          "metadata": {},
          "output_type": "execute_result"
        }
      ],
      "source": [
        "arr = np.array([[ 8],[14],[ 1],[ 8],[11],[ 4],[ 9],[ 4],[ 1],[13],[13],[11]])\n",
        "np.squeeze(arr)"
      ]
    },
    {
      "cell_type": "markdown",
      "id": "ffaf4e75",
      "metadata": {
        "papermill": {
          "duration": 0.05739,
          "end_time": "2022-06-20T03:40:13.435700",
          "exception": false,
          "start_time": "2022-06-20T03:40:13.378310",
          "status": "completed"
        },
        "tags": [],
        "id": "ffaf4e75"
      },
      "source": [
        "### 21. Count Non-Zero\n",
        "Count all the non-zero elements and return their count.![1_jxsYNB6uHpjMynqgZ1_PFw.png](attachment:af19eaeb-8cd1-483a-97d3-7df03dc10ac5.png)"
      ]
    },
    {
      "cell_type": "code",
      "execution_count": null,
      "id": "f0f5c3c8",
      "metadata": {
        "execution": {
          "iopub.execute_input": "2022-06-20T03:40:13.555438Z",
          "iopub.status.busy": "2022-06-20T03:40:13.554858Z",
          "iopub.status.idle": "2022-06-20T03:40:13.559552Z",
          "shell.execute_reply": "2022-06-20T03:40:13.559093Z"
        },
        "papermill": {
          "duration": 0.065378,
          "end_time": "2022-06-20T03:40:13.561479",
          "exception": false,
          "start_time": "2022-06-20T03:40:13.496101",
          "status": "completed"
        },
        "tags": [],
        "id": "f0f5c3c8",
        "outputId": "efe81906-0036-4d12-cd71-0f7eb3279010"
      },
      "outputs": [
        {
          "data": {
            "text/plain": [
              "3"
            ]
          },
          "execution_count": 28,
          "metadata": {},
          "output_type": "execute_result"
        }
      ],
      "source": [
        "a = np.array([0,0,1,1,1,0])\n",
        "np.count_nonzero(a)"
      ]
    },
    {
      "cell_type": "markdown",
      "id": "ae328ba8",
      "metadata": {
        "papermill": {
          "duration": 0.06049,
          "end_time": "2022-06-20T03:40:13.778799",
          "exception": false,
          "start_time": "2022-06-20T03:40:13.718309",
          "status": "completed"
        },
        "tags": [],
        "id": "ae328ba8"
      },
      "source": [
        "### 22. argwhere\n",
        "Find and return all the indices of non-zero elements.![1__oc7SUrWanmeNPFKAOedpw.png](attachment:d01111e5-2d51-4537-b9c0-fe74fe015ee8.png)"
      ]
    },
    {
      "cell_type": "code",
      "execution_count": null,
      "id": "97d6f61d",
      "metadata": {
        "execution": {
          "iopub.execute_input": "2022-06-20T03:40:14.074095Z",
          "iopub.status.busy": "2022-06-20T03:40:14.073587Z",
          "iopub.status.idle": "2022-06-20T03:40:14.078988Z",
          "shell.execute_reply": "2022-06-20T03:40:14.078301Z"
        },
        "papermill": {
          "duration": 0.050685,
          "end_time": "2022-06-20T03:40:14.080873",
          "exception": false,
          "start_time": "2022-06-20T03:40:14.030188",
          "status": "completed"
        },
        "tags": [],
        "id": "97d6f61d",
        "outputId": "376dafd8-9288-439a-a9e1-94f374ec8af3"
      },
      "outputs": [
        {
          "data": {
            "text/plain": [
              "array([[2],\n",
              "       [3],\n",
              "       [4]])"
            ]
          },
          "execution_count": 29,
          "metadata": {},
          "output_type": "execute_result"
        }
      ],
      "source": [
        "a = np.array([0,0,1,1,1,0])\n",
        "np.argwhere(a)"
      ]
    },
    {
      "cell_type": "markdown",
      "id": "c36a7cbb",
      "metadata": {
        "papermill": {
          "duration": 0.038228,
          "end_time": "2022-06-20T03:40:14.158247",
          "exception": false,
          "start_time": "2022-06-20T03:40:14.120019",
          "status": "completed"
        },
        "tags": [],
        "id": "c36a7cbb"
      },
      "source": [
        "### 23. argmax & argmin\n",
        "argmax returns the index of the max element from the array. It can be used to get the index of high probability predicted labels in multiclass image classification problems.![1_iHMw3cYjD64NiNQwO7vikQ.png](attachment:ce514e26-6810-443a-a574-a486ec01c48c.png)"
      ]
    },
    {
      "cell_type": "code",
      "execution_count": null,
      "id": "024bc6d9",
      "metadata": {
        "execution": {
          "iopub.execute_input": "2022-06-20T03:40:14.237162Z",
          "iopub.status.busy": "2022-06-20T03:40:14.236732Z",
          "iopub.status.idle": "2022-06-20T03:40:14.243831Z",
          "shell.execute_reply": "2022-06-20T03:40:14.242489Z"
        },
        "papermill": {
          "duration": 0.047601,
          "end_time": "2022-06-20T03:40:14.245468",
          "exception": false,
          "start_time": "2022-06-20T03:40:14.197867",
          "status": "completed"
        },
        "tags": [],
        "id": "024bc6d9",
        "outputId": "6cccb9e8-905e-4b6c-aadb-d26f546c51b1"
      },
      "outputs": [
        {
          "data": {
            "text/plain": [
              "1"
            ]
          },
          "execution_count": 30,
          "metadata": {},
          "output_type": "execute_result"
        }
      ],
      "source": [
        "arr = np.array([[0.12,0.64,0.19,0.05]])\n",
        "np.argmax(arr)"
      ]
    },
    {
      "cell_type": "markdown",
      "id": "b7665ccd",
      "metadata": {
        "papermill": {
          "duration": 0.041511,
          "end_time": "2022-06-20T03:40:14.326549",
          "exception": false,
          "start_time": "2022-06-20T03:40:14.285038",
          "status": "completed"
        },
        "tags": [],
        "id": "b7665ccd"
      },
      "source": [
        "argmin will return the index of the lowest element from the array.\n",
        "![1_f5eRCZFBcmKjfAyWhxbhQQ.png](attachment:59b107a2-e041-4846-89e5-e33cc2f4cfa4.png)"
      ]
    },
    {
      "cell_type": "code",
      "execution_count": null,
      "id": "4d011b7a",
      "metadata": {
        "execution": {
          "iopub.execute_input": "2022-06-20T03:40:14.411296Z",
          "iopub.status.busy": "2022-06-20T03:40:14.410942Z",
          "iopub.status.idle": "2022-06-20T03:40:14.416525Z",
          "shell.execute_reply": "2022-06-20T03:40:14.415782Z"
        },
        "papermill": {
          "duration": 0.048703,
          "end_time": "2022-06-20T03:40:14.418461",
          "exception": false,
          "start_time": "2022-06-20T03:40:14.369758",
          "status": "completed"
        },
        "tags": [],
        "id": "4d011b7a",
        "outputId": "45a88335-a26e-4fda-f98d-a8cbb1e7e83c"
      },
      "outputs": [
        {
          "data": {
            "text/plain": [
              "0"
            ]
          },
          "execution_count": 31,
          "metadata": {},
          "output_type": "execute_result"
        }
      ],
      "source": [
        "np.argmin(min)"
      ]
    },
    {
      "cell_type": "markdown",
      "id": "b97da330",
      "metadata": {
        "papermill": {
          "duration": 0.040247,
          "end_time": "2022-06-20T03:40:14.500110",
          "exception": false,
          "start_time": "2022-06-20T03:40:14.459863",
          "status": "completed"
        },
        "tags": [],
        "id": "b97da330"
      },
      "source": [
        "### 24. Sort\n",
        "Sort the array and return.![1_P9UmfhqI95AbeWzFKr55Ew.png](attachment:d330b6f0-fa6d-4577-a5a9-3a34f5baf0df.png)\n",
        "\n",
        "**▪▶ Important params**<br>\n",
        "`kind`: Sorting algorithm to use. {‘quicksort’, ‘mergesort’, ‘heapsort’, ‘stable’}"
      ]
    },
    {
      "cell_type": "code",
      "execution_count": null,
      "id": "3c816a65",
      "metadata": {
        "execution": {
          "iopub.execute_input": "2022-06-20T03:40:14.583849Z",
          "iopub.status.busy": "2022-06-20T03:40:14.583508Z",
          "iopub.status.idle": "2022-06-20T03:40:14.589424Z",
          "shell.execute_reply": "2022-06-20T03:40:14.588701Z"
        },
        "papermill": {
          "duration": 0.050595,
          "end_time": "2022-06-20T03:40:14.591037",
          "exception": false,
          "start_time": "2022-06-20T03:40:14.540442",
          "status": "completed"
        },
        "tags": [],
        "id": "3c816a65",
        "outputId": "120c63de-c7bf-4916-f356-bea70e0a84fe"
      },
      "outputs": [
        {
          "data": {
            "text/plain": [
              "array([1, 2, 3, 4, 5, 7])"
            ]
          },
          "execution_count": 32,
          "metadata": {},
          "output_type": "execute_result"
        }
      ],
      "source": [
        "arr = np.array([2,3,1,7,4,5])\n",
        "np.sort(arr)"
      ]
    },
    {
      "cell_type": "markdown",
      "id": "b508bdb6",
      "metadata": {
        "papermill": {
          "duration": 0.038882,
          "end_time": "2022-06-20T03:40:14.669681",
          "exception": false,
          "start_time": "2022-06-20T03:40:14.630799",
          "status": "completed"
        },
        "tags": [],
        "id": "b508bdb6"
      },
      "source": [
        "### 25. Abs\n",
        "Return the absolute values of elements inside an array. It is useful when an array contains negative values."
      ]
    },
    {
      "cell_type": "code",
      "execution_count": null,
      "id": "a319c1bd",
      "metadata": {
        "execution": {
          "iopub.execute_input": "2022-06-20T03:40:14.752454Z",
          "iopub.status.busy": "2022-06-20T03:40:14.751672Z",
          "iopub.status.idle": "2022-06-20T03:40:14.759135Z",
          "shell.execute_reply": "2022-06-20T03:40:14.757679Z"
        },
        "papermill": {
          "duration": 0.051406,
          "end_time": "2022-06-20T03:40:14.761286",
          "exception": false,
          "start_time": "2022-06-20T03:40:14.709880",
          "status": "completed"
        },
        "tags": [],
        "id": "a319c1bd",
        "outputId": "f1c5f5f8-85a7-41b4-c7a7-f63df137a51b"
      },
      "outputs": [
        {
          "data": {
            "text/plain": [
              "array([[1, 3, 4],\n",
              "       [2, 4, 3]])"
            ]
          },
          "execution_count": 33,
          "metadata": {},
          "output_type": "execute_result"
        }
      ],
      "source": [
        "A = np.array([[1,-3,4],[-2,-4,3]])\n",
        "np.abs(A)"
      ]
    },
    {
      "cell_type": "markdown",
      "id": "8a966179",
      "metadata": {
        "papermill": {
          "duration": 0.047244,
          "end_time": "2022-06-20T03:40:14.859356",
          "exception": false,
          "start_time": "2022-06-20T03:40:14.812112",
          "status": "completed"
        },
        "tags": [],
        "id": "8a966179"
      },
      "source": [
        "### 26. Round\n",
        "Round the float values to a specified number of decimal points.![1_tzU3BQvlByNniXqvhMJO3A.png](attachment:087aae8a-6caf-4477-a48a-ef4924809037.png)\n",
        "\n",
        "**▪▶ Important params**<br>\n",
        "`decimals`: Number of decimals point to keep."
      ]
    },
    {
      "cell_type": "code",
      "execution_count": null,
      "id": "46fc0abf",
      "metadata": {
        "execution": {
          "iopub.execute_input": "2022-06-20T03:40:14.944312Z",
          "iopub.status.busy": "2022-06-20T03:40:14.943630Z",
          "iopub.status.idle": "2022-06-20T03:40:14.948595Z",
          "shell.execute_reply": "2022-06-20T03:40:14.948044Z"
        },
        "papermill": {
          "duration": 0.049094,
          "end_time": "2022-06-20T03:40:14.950673",
          "exception": false,
          "start_time": "2022-06-20T03:40:14.901579",
          "status": "completed"
        },
        "tags": [],
        "id": "46fc0abf",
        "outputId": "33b725a4-0b19-4fc2-8b9d-ebf59f477db1"
      },
      "outputs": [
        {
          "data": {
            "text/plain": [
              "array([[0.04005144, 0.87084966, 0.08178962, 0.28253708],\n",
              "       [0.85762161, 0.77021164, 0.72939886, 0.65406504],\n",
              "       [0.53958055, 0.21585068, 0.82823812, 0.51499837]])"
            ]
          },
          "execution_count": 34,
          "metadata": {},
          "output_type": "execute_result"
        }
      ],
      "source": [
        "a = np.random.random(size=(3,4))\n",
        "a"
      ]
    },
    {
      "cell_type": "code",
      "execution_count": null,
      "id": "57ad8cc8",
      "metadata": {
        "execution": {
          "iopub.execute_input": "2022-06-20T03:40:15.031934Z",
          "iopub.status.busy": "2022-06-20T03:40:15.031409Z",
          "iopub.status.idle": "2022-06-20T03:40:15.037333Z",
          "shell.execute_reply": "2022-06-20T03:40:15.036050Z"
        },
        "papermill": {
          "duration": 0.048318,
          "end_time": "2022-06-20T03:40:15.039723",
          "exception": false,
          "start_time": "2022-06-20T03:40:14.991405",
          "status": "completed"
        },
        "tags": [],
        "id": "57ad8cc8",
        "outputId": "3bdf2b3a-a4b8-4a1a-f2b3-a69122967d27"
      },
      "outputs": [
        {
          "data": {
            "text/plain": [
              "array([[0., 1., 0., 0.],\n",
              "       [1., 1., 1., 1.],\n",
              "       [1., 0., 1., 1.]])"
            ]
          },
          "execution_count": 35,
          "metadata": {},
          "output_type": "execute_result"
        }
      ],
      "source": [
        "np.round(a,decimals=0)"
      ]
    },
    {
      "cell_type": "code",
      "execution_count": null,
      "id": "42747d98",
      "metadata": {
        "execution": {
          "iopub.execute_input": "2022-06-20T03:40:15.121946Z",
          "iopub.status.busy": "2022-06-20T03:40:15.121603Z",
          "iopub.status.idle": "2022-06-20T03:40:15.128361Z",
          "shell.execute_reply": "2022-06-20T03:40:15.127316Z"
        },
        "papermill": {
          "duration": 0.05046,
          "end_time": "2022-06-20T03:40:15.130332",
          "exception": false,
          "start_time": "2022-06-20T03:40:15.079872",
          "status": "completed"
        },
        "tags": [],
        "id": "42747d98",
        "outputId": "2c190166-b475-450c-a457-942aa724d7b6"
      },
      "outputs": [
        {
          "data": {
            "text/plain": [
              "array([[0. , 0.9, 0.1, 0.3],\n",
              "       [0.9, 0.8, 0.7, 0.7],\n",
              "       [0.5, 0.2, 0.8, 0.5]])"
            ]
          },
          "execution_count": 36,
          "metadata": {},
          "output_type": "execute_result"
        }
      ],
      "source": [
        "np.round(a,decimals=1)"
      ]
    },
    {
      "cell_type": "markdown",
      "id": "896f4573",
      "metadata": {
        "papermill": {
          "duration": 0.039424,
          "end_time": "2022-06-20T03:40:15.208445",
          "exception": false,
          "start_time": "2022-06-20T03:40:15.169021",
          "status": "completed"
        },
        "tags": [],
        "id": "896f4573"
      },
      "source": [
        "### 27. Clip\n",
        "It is used to keep the values of an array within a range."
      ]
    },
    {
      "cell_type": "code",
      "execution_count": null,
      "id": "3d3c8174",
      "metadata": {
        "execution": {
          "iopub.execute_input": "2022-06-20T03:40:15.290985Z",
          "iopub.status.busy": "2022-06-20T03:40:15.290670Z",
          "iopub.status.idle": "2022-06-20T03:40:15.297297Z",
          "shell.execute_reply": "2022-06-20T03:40:15.296501Z"
        },
        "papermill": {
          "duration": 0.051221,
          "end_time": "2022-06-20T03:40:15.298784",
          "exception": false,
          "start_time": "2022-06-20T03:40:15.247563",
          "status": "completed"
        },
        "tags": [],
        "id": "3d3c8174",
        "outputId": "2726585b-2a17-48a5-f3ae-d7334665d327"
      },
      "outputs": [
        {
          "data": {
            "text/plain": [
              "array([0, 1, 0, 0, 5, 5, 5, 2, 3])"
            ]
          },
          "execution_count": 37,
          "metadata": {},
          "output_type": "execute_result"
        }
      ],
      "source": [
        "arr = np.array([0,1,-3,-4,5,6,7,2,3])\n",
        "arr.clip(0,5)"
      ]
    },
    {
      "cell_type": "code",
      "execution_count": null,
      "id": "93806ad0",
      "metadata": {
        "execution": {
          "iopub.execute_input": "2022-06-20T03:40:15.384035Z",
          "iopub.status.busy": "2022-06-20T03:40:15.382741Z",
          "iopub.status.idle": "2022-06-20T03:40:15.388615Z",
          "shell.execute_reply": "2022-06-20T03:40:15.388017Z"
        },
        "papermill": {
          "duration": 0.049769,
          "end_time": "2022-06-20T03:40:15.390177",
          "exception": false,
          "start_time": "2022-06-20T03:40:15.340408",
          "status": "completed"
        },
        "tags": [],
        "id": "93806ad0",
        "outputId": "769123ed-c19b-4293-f525-6da85e9654b1"
      },
      "outputs": [
        {
          "data": {
            "text/plain": [
              "array([0, 1, 0, 0, 3, 3, 3, 2, 3])"
            ]
          },
          "execution_count": 38,
          "metadata": {},
          "output_type": "execute_result"
        }
      ],
      "source": [
        "arr.clip(0,3)"
      ]
    },
    {
      "cell_type": "code",
      "execution_count": null,
      "id": "af1d4027",
      "metadata": {
        "execution": {
          "iopub.execute_input": "2022-06-20T03:40:15.474305Z",
          "iopub.status.busy": "2022-06-20T03:40:15.472982Z",
          "iopub.status.idle": "2022-06-20T03:40:15.481024Z",
          "shell.execute_reply": "2022-06-20T03:40:15.480179Z"
        },
        "papermill": {
          "duration": 0.05356,
          "end_time": "2022-06-20T03:40:15.484142",
          "exception": false,
          "start_time": "2022-06-20T03:40:15.430582",
          "status": "completed"
        },
        "tags": [],
        "id": "af1d4027",
        "outputId": "1d49a108-1341-481f-d2e3-b9013e698e67"
      },
      "outputs": [
        {
          "data": {
            "text/plain": [
              "array([3, 3, 3, 3, 5, 5, 5, 3, 3])"
            ]
          },
          "execution_count": 39,
          "metadata": {},
          "output_type": "execute_result"
        }
      ],
      "source": [
        "arr.clip(3,5)"
      ]
    },
    {
      "cell_type": "markdown",
      "id": "6cdb7ddd",
      "metadata": {
        "papermill": {
          "duration": 0.041136,
          "end_time": "2022-06-20T03:40:15.569382",
          "exception": false,
          "start_time": "2022-06-20T03:40:15.528246",
          "status": "completed"
        },
        "tags": [],
        "id": "6cdb7ddd"
      },
      "source": [
        "***"
      ]
    },
    {
      "cell_type": "markdown",
      "id": "2e159012",
      "metadata": {
        "papermill": {
          "duration": 0.040599,
          "end_time": "2022-06-20T03:40:15.650155",
          "exception": false,
          "start_time": "2022-06-20T03:40:15.609556",
          "status": "completed"
        },
        "tags": [],
        "id": "2e159012"
      },
      "source": [
        "## Replacing Values Inside Array"
      ]
    },
    {
      "cell_type": "markdown",
      "id": "92c5ca56",
      "metadata": {
        "papermill": {
          "duration": 0.042089,
          "end_time": "2022-06-20T03:40:15.732479",
          "exception": false,
          "start_time": "2022-06-20T03:40:15.690390",
          "status": "completed"
        },
        "tags": [],
        "id": "92c5ca56"
      },
      "source": [
        "### 28. Where\n",
        "Return elements from an array where a condition satisfies.![1_9-_yZurf1saGMDbNptiLZQ.png](attachment:a7f3ced8-4834-4eca-ace4-82c5bf940c99.png)\n",
        "\n",
        "**▪▶ Important params**\n",
        "`condition`: condition to match. if true yield xotherwise y."
      ]
    },
    {
      "cell_type": "code",
      "execution_count": null,
      "id": "0bc15e6b",
      "metadata": {
        "execution": {
          "iopub.execute_input": "2022-06-20T03:40:15.815172Z",
          "iopub.status.busy": "2022-06-20T03:40:15.814217Z",
          "iopub.status.idle": "2022-06-20T03:40:15.820861Z",
          "shell.execute_reply": "2022-06-20T03:40:15.819923Z"
        },
        "papermill": {
          "duration": 0.049416,
          "end_time": "2022-06-20T03:40:15.822877",
          "exception": false,
          "start_time": "2022-06-20T03:40:15.773461",
          "status": "completed"
        },
        "tags": [],
        "id": "0bc15e6b",
        "outputId": "b7e82909-8f7d-4fa2-d7dc-ab52b65b916f"
      },
      "outputs": [
        {
          "data": {
            "text/plain": [
              "array([[ 0,  1,  2],\n",
              "       [ 3,  4,  5],\n",
              "       [ 6,  7,  8],\n",
              "       [ 9, 10, 11]])"
            ]
          },
          "execution_count": 40,
          "metadata": {},
          "output_type": "execute_result"
        }
      ],
      "source": [
        "a = np.arange(12).reshape(4,3)\n",
        "a"
      ]
    },
    {
      "cell_type": "code",
      "execution_count": null,
      "id": "c1d830fc",
      "metadata": {
        "execution": {
          "iopub.execute_input": "2022-06-20T03:40:15.909871Z",
          "iopub.status.busy": "2022-06-20T03:40:15.909470Z",
          "iopub.status.idle": "2022-06-20T03:40:15.914425Z",
          "shell.execute_reply": "2022-06-20T03:40:15.913693Z"
        },
        "papermill": {
          "duration": 0.051257,
          "end_time": "2022-06-20T03:40:15.915940",
          "exception": false,
          "start_time": "2022-06-20T03:40:15.864683",
          "status": "completed"
        },
        "tags": [],
        "id": "c1d830fc",
        "outputId": "123f94ef-36b2-451f-ea64-f0290f8e21df"
      },
      "outputs": [
        {
          "data": {
            "text/plain": [
              "(array([2, 2, 2, 3, 3, 3]), array([0, 1, 2, 0, 1, 2]))"
            ]
          },
          "execution_count": 41,
          "metadata": {},
          "output_type": "execute_result"
        }
      ],
      "source": [
        "np.where(a>5)"
      ]
    },
    {
      "cell_type": "markdown",
      "id": "fe3232df",
      "metadata": {
        "papermill": {
          "duration": 0.038979,
          "end_time": "2022-06-20T03:40:15.994978",
          "exception": false,
          "start_time": "2022-06-20T03:40:15.955999",
          "status": "completed"
        },
        "tags": [],
        "id": "fe3232df"
      },
      "source": [
        "```\n",
        "'''\n",
        "[2][0] ᴇʟᴇᴍᴇɴᴛ (2ɴꜱ ʀᴏᴡ 0ᴛʜ ᴄᴏʟᴜᴍɴ) 6 > 5, ʀᴇᴛᴜʀɴ\n",
        "[2][1] ᴇʟᴇᴍᴇɴᴛ (2ɴᴅ ʀᴏᴡ 1ꜱᴛ ᴄᴏʟᴜᴍɴ) 7 > 5, ʀᴇᴛᴜʀɴ\n",
        ".\n",
        "[3][2] ᴇʟᴇᴍᴇɴᴛ (3ᴅ ʀᴏᴡ 2ɴᴅ ᴄᴏʟᴜᴍɴ) 11 > 5, ʀᴇᴛᴜʀɴ\n",
        "'''\n",
        "```"
      ]
    },
    {
      "cell_type": "code",
      "execution_count": null,
      "id": "090cc63e",
      "metadata": {
        "execution": {
          "iopub.execute_input": "2022-06-20T03:40:16.076915Z",
          "iopub.status.busy": "2022-06-20T03:40:16.076549Z",
          "iopub.status.idle": "2022-06-20T03:40:16.084960Z",
          "shell.execute_reply": "2022-06-20T03:40:16.084094Z"
        },
        "papermill": {
          "duration": 0.051051,
          "end_time": "2022-06-20T03:40:16.086666",
          "exception": false,
          "start_time": "2022-06-20T03:40:16.035615",
          "status": "completed"
        },
        "tags": [],
        "id": "090cc63e",
        "outputId": "738dc6b5-6778-4a2b-d774-cae74596f1fb"
      },
      "outputs": [
        {
          "data": {
            "text/plain": [
              "array([ 6,  7,  8,  9, 10, 11])"
            ]
          },
          "execution_count": 42,
          "metadata": {},
          "output_type": "execute_result"
        }
      ],
      "source": [
        "a[np.where(a>5)]"
      ]
    },
    {
      "cell_type": "markdown",
      "id": "75050250",
      "metadata": {
        "papermill": {
          "duration": 0.04122,
          "end_time": "2022-06-20T03:40:16.168271",
          "exception": false,
          "start_time": "2022-06-20T03:40:16.127051",
          "status": "completed"
        },
        "tags": [],
        "id": "75050250"
      },
      "source": [
        "It can also be used to replace elements inside the panda’s data frame.\n",
        "\n",
        "`np.where(data[feature].isnull(), 1, 0)`\n",
        "\n",
        "```\n",
        "Replace Null Values with 1 and other as 0\n",
        "```\n"
      ]
    },
    {
      "cell_type": "markdown",
      "id": "9615a3c0",
      "metadata": {
        "papermill": {
          "duration": 0.040628,
          "end_time": "2022-06-20T03:40:16.250529",
          "exception": false,
          "start_time": "2022-06-20T03:40:16.209901",
          "status": "completed"
        },
        "tags": [],
        "id": "9615a3c0"
      },
      "source": [
        "### 29. Put\n",
        "Replaces specified elements of an array with given values.![1_OWHgR8R6ilotQl9F-r-EFw.png](attachment:e905955a-3cc6-486b-be7e-88119def51d5.png)\n",
        "\n",
        "**▪▶ Important params**<br>\n",
        "`a`: array<br>\n",
        "`ind`: indices to be replaced.<br>\n",
        "`v`: values to place."
      ]
    },
    {
      "cell_type": "code",
      "execution_count": null,
      "id": "8749be22",
      "metadata": {
        "execution": {
          "iopub.execute_input": "2022-06-20T03:40:16.332995Z",
          "iopub.status.busy": "2022-06-20T03:40:16.332537Z",
          "iopub.status.idle": "2022-06-20T03:40:16.338976Z",
          "shell.execute_reply": "2022-06-20T03:40:16.337518Z"
        },
        "papermill": {
          "duration": 0.051781,
          "end_time": "2022-06-20T03:40:16.342146",
          "exception": false,
          "start_time": "2022-06-20T03:40:16.290365",
          "status": "completed"
        },
        "tags": [],
        "id": "8749be22",
        "outputId": "0a8d559d-1f71-41f2-ed0e-f21393b5b710"
      },
      "outputs": [
        {
          "data": {
            "text/plain": [
              "array([1, 2, 3, 4, 5, 6])"
            ]
          },
          "execution_count": 43,
          "metadata": {},
          "output_type": "execute_result"
        }
      ],
      "source": [
        "arr = np.array([1,2,3,4,5,6])\n",
        "arr"
      ]
    },
    {
      "cell_type": "code",
      "execution_count": null,
      "id": "0d5c79a6",
      "metadata": {
        "execution": {
          "iopub.execute_input": "2022-06-20T03:40:16.425996Z",
          "iopub.status.busy": "2022-06-20T03:40:16.425689Z",
          "iopub.status.idle": "2022-06-20T03:40:16.430113Z",
          "shell.execute_reply": "2022-06-20T03:40:16.429631Z"
        },
        "papermill": {
          "duration": 0.048002,
          "end_time": "2022-06-20T03:40:16.431778",
          "exception": false,
          "start_time": "2022-06-20T03:40:16.383776",
          "status": "completed"
        },
        "tags": [],
        "id": "0d5c79a6",
        "outputId": "6d3c9023-6982-4493-e6d4-26cd77165a0c"
      },
      "outputs": [
        {
          "data": {
            "text/plain": [
              "array([1, 6, 7, 4, 5, 6])"
            ]
          },
          "execution_count": 44,
          "metadata": {},
          "output_type": "execute_result"
        }
      ],
      "source": [
        "np.put(arr,[1,2],[6,7])\n",
        "arr"
      ]
    },
    {
      "cell_type": "markdown",
      "id": "18289064",
      "metadata": {
        "papermill": {
          "duration": 0.040387,
          "end_time": "2022-06-20T03:40:16.516008",
          "exception": false,
          "start_time": "2022-06-20T03:40:16.475621",
          "status": "completed"
        },
        "tags": [],
        "id": "18289064"
      },
      "source": [
        "### 30. Copyto\n",
        "Copy the content of one array into another.![1_4k6Jk560zf7P3Y_aZknLYg.png](attachment:6429a782-168a-4c7d-99db-65ec87658257.png)\n",
        "\n",
        "**▪▶Important params**<br>\n",
        "`dst`: array into which values are copied.<br>\n",
        "`src`: array from which values are copied.\n"
      ]
    },
    {
      "cell_type": "code",
      "execution_count": null,
      "id": "51050bcb",
      "metadata": {
        "execution": {
          "iopub.execute_input": "2022-06-20T03:40:16.597537Z",
          "iopub.status.busy": "2022-06-20T03:40:16.597155Z",
          "iopub.status.idle": "2022-06-20T03:40:16.603458Z",
          "shell.execute_reply": "2022-06-20T03:40:16.602532Z"
        },
        "papermill": {
          "duration": 0.050654,
          "end_time": "2022-06-20T03:40:16.606330",
          "exception": false,
          "start_time": "2022-06-20T03:40:16.555676",
          "status": "completed"
        },
        "tags": [],
        "id": "51050bcb",
        "outputId": "5e4bf9d2-b615-4d56-a8fe-42a1bd8a23d5"
      },
      "outputs": [
        {
          "name": "stdout",
          "output_type": "stream",
          "text": [
            "Before arr1 [1 2 3]\n",
            "Before arr2 [1 2 3]\n",
            "After arr1 [4 5 6]\n",
            "After arr2 [4 5 6]\n"
          ]
        }
      ],
      "source": [
        "arr1 = np.array([1,2,3])\n",
        "arr2 = np.array([4,5,6])\n",
        "print(\"Before arr1\",arr1)\n",
        "print(\"Before arr2\",arr1)\n",
        "np.copyto(arr1,arr2)\n",
        "print(\"After arr1\",arr1)\n",
        "print(\"After arr2\",arr2)"
      ]
    },
    {
      "cell_type": "markdown",
      "id": "aeffe53c",
      "metadata": {
        "papermill": {
          "duration": 0.039701,
          "end_time": "2022-06-20T03:40:16.688825",
          "exception": false,
          "start_time": "2022-06-20T03:40:16.649124",
          "status": "completed"
        },
        "tags": [],
        "id": "aeffe53c"
      },
      "source": [
        "***"
      ]
    },
    {
      "cell_type": "markdown",
      "id": "6bad6277",
      "metadata": {
        "papermill": {
          "duration": 0.040161,
          "end_time": "2022-06-20T03:40:16.770751",
          "exception": false,
          "start_time": "2022-06-20T03:40:16.730590",
          "status": "completed"
        },
        "tags": [],
        "id": "6bad6277"
      },
      "source": [
        "## Set Operations"
      ]
    },
    {
      "cell_type": "markdown",
      "id": "58d0d285",
      "metadata": {
        "papermill": {
          "duration": 0.040724,
          "end_time": "2022-06-20T03:40:16.851649",
          "exception": false,
          "start_time": "2022-06-20T03:40:16.810925",
          "status": "completed"
        },
        "tags": [],
        "id": "58d0d285"
      },
      "source": [
        "### 31. Retrieve Common Elements\n",
        "`np.intersect1d` function returns all the unique values from both arrays in a sorted manner.![1_IT4B7lKwo7lqNMLeDoJVDA.png](attachment:133c4059-1755-4c56-b0ff-e544c1de2bbd.png)\n",
        "\n",
        "**▪▶Important params**<br>\n",
        "`assume_unique`: if true, then input arrays are both assumed to be unique.<br>\n",
        "`return_indices`: if true, then common elements indices are returned."
      ]
    },
    {
      "cell_type": "code",
      "execution_count": null,
      "id": "e3700513",
      "metadata": {
        "execution": {
          "iopub.execute_input": "2022-06-20T03:40:16.937898Z",
          "iopub.status.busy": "2022-06-20T03:40:16.937278Z",
          "iopub.status.idle": "2022-06-20T03:40:16.944605Z",
          "shell.execute_reply": "2022-06-20T03:40:16.943352Z"
        },
        "papermill": {
          "duration": 0.053089,
          "end_time": "2022-06-20T03:40:16.946656",
          "exception": false,
          "start_time": "2022-06-20T03:40:16.893567",
          "status": "completed"
        },
        "tags": [],
        "id": "e3700513",
        "outputId": "555e5dcb-45eb-44c5-dc7d-403b8683938f"
      },
      "outputs": [
        {
          "data": {
            "text/plain": [
              "array([1, 3, 4, 5])"
            ]
          },
          "execution_count": 46,
          "metadata": {},
          "output_type": "execute_result"
        }
      ],
      "source": [
        "ar1 = np.array([1,2,3,4,5,6])\n",
        "ar2 = np.array([3,4,5,8,9,1])\n",
        "np.intersect1d(ar1,ar2)"
      ]
    },
    {
      "cell_type": "code",
      "execution_count": null,
      "id": "fcc0ef92",
      "metadata": {
        "execution": {
          "iopub.execute_input": "2022-06-20T03:40:17.028885Z",
          "iopub.status.busy": "2022-06-20T03:40:17.028484Z",
          "iopub.status.idle": "2022-06-20T03:40:17.036386Z",
          "shell.execute_reply": "2022-06-20T03:40:17.035729Z"
        },
        "papermill": {
          "duration": 0.050384,
          "end_time": "2022-06-20T03:40:17.037968",
          "exception": false,
          "start_time": "2022-06-20T03:40:16.987584",
          "status": "completed"
        },
        "tags": [],
        "id": "fcc0ef92",
        "outputId": "390ca605-2f31-46c9-92a7-99cfb62b7dcc"
      },
      "outputs": [
        {
          "data": {
            "text/plain": [
              "(array([1, 3, 4, 5]), array([0, 2, 3, 4]), array([5, 0, 1, 2]))"
            ]
          },
          "execution_count": 47,
          "metadata": {},
          "output_type": "execute_result"
        }
      ],
      "source": [
        "np.intersect1d(ar1,ar2,return_indices=True)"
      ]
    },
    {
      "cell_type": "markdown",
      "id": "cea7cfef",
      "metadata": {
        "papermill": {
          "duration": 0.040113,
          "end_time": "2022-06-20T03:40:17.116957",
          "exception": false,
          "start_time": "2022-06-20T03:40:17.076844",
          "status": "completed"
        },
        "tags": [],
        "id": "cea7cfef"
      },
      "source": [
        "```\n",
        "array([0, 2, 3, 4], dtype=int64) :- Indices of common elements inside first array.\n",
        "array([5, 0, 1, 2], dtype=int64)) :- Indices of common elements inside second array.\n",
        "```"
      ]
    },
    {
      "cell_type": "markdown",
      "id": "28744538",
      "metadata": {
        "papermill": {
          "duration": 0.041112,
          "end_time": "2022-06-20T03:40:17.197869",
          "exception": false,
          "start_time": "2022-06-20T03:40:17.156757",
          "status": "completed"
        },
        "tags": [],
        "id": "28744538"
      },
      "source": [
        "### 32. Difference\n",
        "np.setdiff1d function returns all the unique elements from array 1 that are not present in arr2."
      ]
    },
    {
      "cell_type": "code",
      "execution_count": null,
      "id": "e056dbaa",
      "metadata": {
        "execution": {
          "iopub.execute_input": "2022-06-20T03:40:17.282619Z",
          "iopub.status.busy": "2022-06-20T03:40:17.282317Z",
          "iopub.status.idle": "2022-06-20T03:40:17.289792Z",
          "shell.execute_reply": "2022-06-20T03:40:17.289110Z"
        },
        "papermill": {
          "duration": 0.051559,
          "end_time": "2022-06-20T03:40:17.291364",
          "exception": false,
          "start_time": "2022-06-20T03:40:17.239805",
          "status": "completed"
        },
        "tags": [],
        "id": "e056dbaa",
        "outputId": "922f5e49-3c8b-4e77-82b0-75fcbed2bca9"
      },
      "outputs": [
        {
          "data": {
            "text/plain": [
              "array([1, 3, 4])"
            ]
          },
          "execution_count": 48,
          "metadata": {},
          "output_type": "execute_result"
        }
      ],
      "source": [
        "a = np.array([1, 7, 3, 2, 4, 1])\n",
        "b = np.array([9, 2, 5, 6, 7, 8])\n",
        "np.setdiff1d(a, b)"
      ]
    },
    {
      "cell_type": "markdown",
      "id": "535066d8",
      "metadata": {
        "papermill": {
          "duration": 0.042965,
          "end_time": "2022-06-20T03:40:17.376181",
          "exception": false,
          "start_time": "2022-06-20T03:40:17.333216",
          "status": "completed"
        },
        "tags": [],
        "id": "535066d8"
      },
      "source": [
        "### 33. Extracts Unique Elements From Both Arrays\n",
        "`setxor1d` function will return all the unique values from both arrays in sorted order."
      ]
    },
    {
      "cell_type": "code",
      "execution_count": null,
      "id": "6874591e",
      "metadata": {
        "execution": {
          "iopub.execute_input": "2022-06-20T03:40:17.462052Z",
          "iopub.status.busy": "2022-06-20T03:40:17.461510Z",
          "iopub.status.idle": "2022-06-20T03:40:17.467672Z",
          "shell.execute_reply": "2022-06-20T03:40:17.467094Z"
        },
        "papermill": {
          "duration": 0.050139,
          "end_time": "2022-06-20T03:40:17.469292",
          "exception": false,
          "start_time": "2022-06-20T03:40:17.419153",
          "status": "completed"
        },
        "tags": [],
        "id": "6874591e",
        "outputId": "038db35f-136b-4f48-fb6f-9ebf9d0ce3d4"
      },
      "outputs": [
        {
          "data": {
            "text/plain": [
              "array([ 2,  3,  6,  9, 36])"
            ]
          },
          "execution_count": 49,
          "metadata": {},
          "output_type": "execute_result"
        }
      ],
      "source": [
        "a = np.array([1, 2, 3, 4, 6])\n",
        "b = np.array([1, 4, 9, 4, 36])\n",
        "np.setxor1d(a,b)"
      ]
    },
    {
      "cell_type": "markdown",
      "id": "2a74c5bf",
      "metadata": {
        "papermill": {
          "duration": 0.039313,
          "end_time": "2022-06-20T03:40:17.549303",
          "exception": false,
          "start_time": "2022-06-20T03:40:17.509990",
          "status": "completed"
        },
        "tags": [],
        "id": "2a74c5bf"
      },
      "source": [
        "### 34. Union\n",
        "union1d function will combine both arrays into one."
      ]
    },
    {
      "cell_type": "code",
      "execution_count": null,
      "id": "a05212e3",
      "metadata": {
        "execution": {
          "iopub.execute_input": "2022-06-20T03:40:17.631833Z",
          "iopub.status.busy": "2022-06-20T03:40:17.631298Z",
          "iopub.status.idle": "2022-06-20T03:40:17.638231Z",
          "shell.execute_reply": "2022-06-20T03:40:17.637074Z"
        },
        "papermill": {
          "duration": 0.050484,
          "end_time": "2022-06-20T03:40:17.640187",
          "exception": false,
          "start_time": "2022-06-20T03:40:17.589703",
          "status": "completed"
        },
        "tags": [],
        "id": "a05212e3",
        "outputId": "9a1f0aa2-a3ec-4d1d-ced1-89997c7a64ac"
      },
      "outputs": [
        {
          "data": {
            "text/plain": [
              "array([ 1,  2,  3,  4,  5, 36])"
            ]
          },
          "execution_count": 50,
          "metadata": {},
          "output_type": "execute_result"
        }
      ],
      "source": [
        "a = np.array([1, 2, 3, 4, 5])\n",
        "b = np.array([1, 3, 5, 4, 36])\n",
        "np.union1d(a,b)"
      ]
    },
    {
      "cell_type": "markdown",
      "id": "88750eb6",
      "metadata": {
        "papermill": {
          "duration": 0.041296,
          "end_time": "2022-06-20T03:40:17.805619",
          "exception": false,
          "start_time": "2022-06-20T03:40:17.764323",
          "status": "completed"
        },
        "tags": [],
        "id": "88750eb6"
      },
      "source": [
        "## Splitting\n",
        "### 35. Horizontal Split\n",
        "`hsplit` function will split the data horizontally into n equal parts."
      ]
    },
    {
      "cell_type": "code",
      "execution_count": null,
      "id": "211bec69",
      "metadata": {
        "execution": {
          "iopub.execute_input": "2022-06-20T03:40:17.887271Z",
          "iopub.status.busy": "2022-06-20T03:40:17.886940Z",
          "iopub.status.idle": "2022-06-20T03:40:17.892973Z",
          "shell.execute_reply": "2022-06-20T03:40:17.891794Z"
        },
        "papermill": {
          "duration": 0.048751,
          "end_time": "2022-06-20T03:40:17.894514",
          "exception": false,
          "start_time": "2022-06-20T03:40:17.845763",
          "status": "completed"
        },
        "tags": [],
        "id": "211bec69",
        "outputId": "ba7868b3-354c-492f-d02b-b2d96cc694da"
      },
      "outputs": [
        {
          "data": {
            "text/plain": [
              "[array([[3, 4],\n",
              "        [6, 7]]),\n",
              " array([[5, 2],\n",
              "        [2, 6]])]"
            ]
          },
          "execution_count": 51,
          "metadata": {},
          "output_type": "execute_result"
        }
      ],
      "source": [
        "A = np.array([[3,4,5,2],[6,7,2,6]])\n",
        "np.hsplit(A,2)    ## splits the data into two equal parts"
      ]
    },
    {
      "cell_type": "code",
      "execution_count": null,
      "id": "44d525b2",
      "metadata": {
        "execution": {
          "iopub.execute_input": "2022-06-20T03:40:17.975709Z",
          "iopub.status.busy": "2022-06-20T03:40:17.975401Z",
          "iopub.status.idle": "2022-06-20T03:40:17.981334Z",
          "shell.execute_reply": "2022-06-20T03:40:17.980400Z"
        },
        "papermill": {
          "duration": 0.049081,
          "end_time": "2022-06-20T03:40:17.982831",
          "exception": false,
          "start_time": "2022-06-20T03:40:17.933750",
          "status": "completed"
        },
        "tags": [],
        "id": "44d525b2",
        "outputId": "a5023886-7deb-44c8-dcd8-30ac1b574cde"
      },
      "outputs": [
        {
          "data": {
            "text/plain": [
              "[array([[3],\n",
              "        [6]]),\n",
              " array([[4],\n",
              "        [7]]),\n",
              " array([[5],\n",
              "        [2]]),\n",
              " array([[2],\n",
              "        [6]])]"
            ]
          },
          "execution_count": 52,
          "metadata": {},
          "output_type": "execute_result"
        }
      ],
      "source": [
        "np.hsplit(A,4)    ## splits the data into four equal parts"
      ]
    },
    {
      "cell_type": "markdown",
      "id": "1828046c",
      "metadata": {
        "papermill": {
          "duration": 0.040213,
          "end_time": "2022-06-20T03:40:18.065179",
          "exception": false,
          "start_time": "2022-06-20T03:40:18.024966",
          "status": "completed"
        },
        "tags": [],
        "id": "1828046c"
      },
      "source": [
        "### 36. Vertical Split\n",
        "vsplit will split the data vertically into n equal parts."
      ]
    },
    {
      "cell_type": "code",
      "execution_count": null,
      "id": "fbb609f2",
      "metadata": {
        "execution": {
          "iopub.execute_input": "2022-06-20T03:40:18.146816Z",
          "iopub.status.busy": "2022-06-20T03:40:18.146487Z",
          "iopub.status.idle": "2022-06-20T03:40:18.151527Z",
          "shell.execute_reply": "2022-06-20T03:40:18.150977Z"
        },
        "papermill": {
          "duration": 0.04852,
          "end_time": "2022-06-20T03:40:18.153625",
          "exception": false,
          "start_time": "2022-06-20T03:40:18.105105",
          "status": "completed"
        },
        "tags": [],
        "id": "fbb609f2",
        "outputId": "259b56ec-9519-404e-f583-05da1020788c"
      },
      "outputs": [
        {
          "data": {
            "text/plain": [
              "[array([[3, 4, 5, 2]]), array([[6, 7, 2, 6]])]"
            ]
          },
          "execution_count": 53,
          "metadata": {},
          "output_type": "execute_result"
        }
      ],
      "source": [
        "A = np.array([[3,4,5,2],[6,7,2,6]])\n",
        "np.vsplit(A,2)"
      ]
    },
    {
      "cell_type": "markdown",
      "id": "760c94a7",
      "metadata": {
        "papermill": {
          "duration": 0.042806,
          "end_time": "2022-06-20T03:40:18.325356",
          "exception": false,
          "start_time": "2022-06-20T03:40:18.282550",
          "status": "completed"
        },
        "tags": [],
        "id": "760c94a7"
      },
      "source": [
        "## Stacking"
      ]
    },
    {
      "cell_type": "markdown",
      "id": "6c7462d3",
      "metadata": {
        "papermill": {
          "duration": 0.040468,
          "end_time": "2022-06-20T03:40:18.408140",
          "exception": false,
          "start_time": "2022-06-20T03:40:18.367672",
          "status": "completed"
        },
        "tags": [],
        "id": "6c7462d3"
      },
      "source": [
        "### 37. Horizontal Stacking\n",
        "`hstack` will stack appends one array at the end of another."
      ]
    },
    {
      "cell_type": "code",
      "execution_count": null,
      "id": "1bb6251e",
      "metadata": {
        "execution": {
          "iopub.execute_input": "2022-06-20T03:40:18.494445Z",
          "iopub.status.busy": "2022-06-20T03:40:18.494120Z",
          "iopub.status.idle": "2022-06-20T03:40:18.500711Z",
          "shell.execute_reply": "2022-06-20T03:40:18.499428Z"
        },
        "papermill": {
          "duration": 0.052166,
          "end_time": "2022-06-20T03:40:18.502784",
          "exception": false,
          "start_time": "2022-06-20T03:40:18.450618",
          "status": "completed"
        },
        "tags": [],
        "id": "1bb6251e",
        "outputId": "0520cdfc-8be6-4dcc-a887-8eff98ac3be9"
      },
      "outputs": [
        {
          "data": {
            "text/plain": [
              "array([ 1,  2,  3,  4,  5,  1,  4,  9, 16, 25])"
            ]
          },
          "execution_count": 54,
          "metadata": {},
          "output_type": "execute_result"
        }
      ],
      "source": [
        "a = np.array([1,2,3,4,5])\n",
        "b = np.array([1,4,9,16,25])\n",
        "np.hstack((a,b))"
      ]
    },
    {
      "cell_type": "markdown",
      "id": "121b6379",
      "metadata": {
        "papermill": {
          "duration": 0.041946,
          "end_time": "2022-06-20T03:40:18.586077",
          "exception": false,
          "start_time": "2022-06-20T03:40:18.544131",
          "status": "completed"
        },
        "tags": [],
        "id": "121b6379"
      },
      "source": [
        "### 38. Vertical Stacking\n",
        "`vstack` will stack one array on top of another."
      ]
    },
    {
      "cell_type": "code",
      "execution_count": null,
      "id": "3f909b60",
      "metadata": {
        "execution": {
          "iopub.execute_input": "2022-06-20T03:40:18.673883Z",
          "iopub.status.busy": "2022-06-20T03:40:18.673574Z",
          "iopub.status.idle": "2022-06-20T03:40:18.678879Z",
          "shell.execute_reply": "2022-06-20T03:40:18.678046Z"
        },
        "papermill": {
          "duration": 0.052466,
          "end_time": "2022-06-20T03:40:18.681199",
          "exception": false,
          "start_time": "2022-06-20T03:40:18.628733",
          "status": "completed"
        },
        "tags": [],
        "id": "3f909b60",
        "outputId": "4e84ab1b-5468-4708-c332-eb45bcbaeb62"
      },
      "outputs": [
        {
          "data": {
            "text/plain": [
              "array([[ 1,  2,  3,  4,  5],\n",
              "       [ 1,  4,  9, 16, 25]])"
            ]
          },
          "execution_count": 55,
          "metadata": {},
          "output_type": "execute_result"
        }
      ],
      "source": [
        "np.vstack((a,b))"
      ]
    },
    {
      "cell_type": "markdown",
      "id": "4ed71d84",
      "metadata": {
        "papermill": {
          "duration": 0.043272,
          "end_time": "2022-06-20T03:40:19.097487",
          "exception": false,
          "start_time": "2022-06-20T03:40:19.054215",
          "status": "completed"
        },
        "tags": [],
        "id": "4ed71d84"
      },
      "source": [
        "## Comparing Two Arrays"
      ]
    },
    {
      "cell_type": "markdown",
      "id": "8faef178",
      "metadata": {
        "papermill": {
          "duration": 0.043361,
          "end_time": "2022-06-20T03:40:19.182383",
          "exception": false,
          "start_time": "2022-06-20T03:40:19.139022",
          "status": "completed"
        },
        "tags": [],
        "id": "8faef178"
      },
      "source": [
        "### 39. allclose\n",
        "`np.allclose` function finds whether two arrays are equal or approximately equal to each other based on some tolerance value if the shape of both arrays is the same."
      ]
    },
    {
      "cell_type": "code",
      "execution_count": null,
      "id": "41c17d3f",
      "metadata": {
        "execution": {
          "iopub.execute_input": "2022-06-20T03:40:19.270847Z",
          "iopub.status.busy": "2022-06-20T03:40:19.270461Z",
          "iopub.status.idle": "2022-06-20T03:40:19.277510Z",
          "shell.execute_reply": "2022-06-20T03:40:19.276934Z"
        },
        "papermill": {
          "duration": 0.052932,
          "end_time": "2022-06-20T03:40:19.278937",
          "exception": false,
          "start_time": "2022-06-20T03:40:19.226005",
          "status": "completed"
        },
        "tags": [],
        "id": "41c17d3f",
        "outputId": "13bec11a-96b5-4914-9367-efb49b070e90"
      },
      "outputs": [
        {
          "data": {
            "text/plain": [
              "False"
            ]
          },
          "execution_count": 56,
          "metadata": {},
          "output_type": "execute_result"
        }
      ],
      "source": [
        "a = np.array([0.25,0.4,0.6,0.32])\n",
        "b = np.array([0.26,0.3,0.7,0.32])\n",
        "tolerance = 0.1           ## Total Difference\n",
        "np.allclose(a,b,tolerance)"
      ]
    },
    {
      "cell_type": "code",
      "execution_count": null,
      "id": "c12d3321",
      "metadata": {
        "execution": {
          "iopub.execute_input": "2022-06-20T03:40:19.364456Z",
          "iopub.status.busy": "2022-06-20T03:40:19.364086Z",
          "iopub.status.idle": "2022-06-20T03:40:19.370300Z",
          "shell.execute_reply": "2022-06-20T03:40:19.369432Z"
        },
        "papermill": {
          "duration": 0.052304,
          "end_time": "2022-06-20T03:40:19.372394",
          "exception": false,
          "start_time": "2022-06-20T03:40:19.320090",
          "status": "completed"
        },
        "tags": [],
        "id": "c12d3321",
        "outputId": "55693172-ffbf-41db-8d94-7cd67721c5f1"
      },
      "outputs": [
        {
          "data": {
            "text/plain": [
              "True"
            ]
          },
          "execution_count": 57,
          "metadata": {},
          "output_type": "execute_result"
        }
      ],
      "source": [
        "tolerance = 0.5\n",
        "np.allclose(a,b,tolerance)"
      ]
    },
    {
      "cell_type": "markdown",
      "id": "621f4f38",
      "metadata": {
        "papermill": {
          "duration": 0.041315,
          "end_time": "2022-06-20T03:40:19.455240",
          "exception": false,
          "start_time": "2022-06-20T03:40:19.413925",
          "status": "completed"
        },
        "tags": [],
        "id": "621f4f38"
      },
      "source": [
        "### 40. Repeat\n",
        "It is used to repeat elements of an array for n number of times.\n",
        "![1_-P7D8NAOfMbQ5edIC6De2w.png](attachment:2dbb82c7-7cda-4930-a99e-553b343fa635.png)\n",
        "\n",
        "**▪▶ Important params**<br>\n",
        "`a`: element to repeat.<br>\n",
        "`repeats`: number of times to repeat element."
      ]
    },
    {
      "cell_type": "code",
      "execution_count": null,
      "id": "d30abd7e",
      "metadata": {
        "execution": {
          "iopub.execute_input": "2022-06-20T03:40:19.538438Z",
          "iopub.status.busy": "2022-06-20T03:40:19.538109Z",
          "iopub.status.idle": "2022-06-20T03:40:19.542975Z",
          "shell.execute_reply": "2022-06-20T03:40:19.542449Z"
        },
        "papermill": {
          "duration": 0.048809,
          "end_time": "2022-06-20T03:40:19.544712",
          "exception": false,
          "start_time": "2022-06-20T03:40:19.495903",
          "status": "completed"
        },
        "tags": [],
        "id": "d30abd7e",
        "outputId": "25d1bfc1-9c93-45fb-f5e9-b7e3f40a22bb"
      },
      "outputs": [
        {
          "data": {
            "text/plain": [
              "array(['2017', '2017', '2017'], dtype='<U4')"
            ]
          },
          "execution_count": 58,
          "metadata": {},
          "output_type": "execute_result"
        }
      ],
      "source": [
        "np.repeat('2017',3)"
      ]
    },
    {
      "cell_type": "markdown",
      "id": "8c79b573",
      "metadata": {
        "papermill": {
          "duration": 0.039645,
          "end_time": "2022-06-20T03:40:19.627084",
          "exception": false,
          "start_time": "2022-06-20T03:40:19.587439",
          "status": "completed"
        },
        "tags": [],
        "id": "8c79b573"
      },
      "source": [
        "Let’s take a more practical use case example, we have a dataset containing year-wise container quantity sales."
      ]
    },
    {
      "cell_type": "code",
      "execution_count": null,
      "id": "623201d5",
      "metadata": {
        "execution": {
          "iopub.execute_input": "2022-06-20T03:40:19.711259Z",
          "iopub.status.busy": "2022-06-20T03:40:19.710524Z",
          "iopub.status.idle": "2022-06-20T03:40:19.728715Z",
          "shell.execute_reply": "2022-06-20T03:40:19.727795Z"
        },
        "papermill": {
          "duration": 0.063607,
          "end_time": "2022-06-20T03:40:19.730832",
          "exception": false,
          "start_time": "2022-06-20T03:40:19.667225",
          "status": "completed"
        },
        "tags": [],
        "id": "623201d5",
        "outputId": "cd07de52-eeb8-4123-f637-4d23ae8caabf"
      },
      "outputs": [
        {
          "data": {
            "text/html": [
              "<div>\n",
              "<style scoped>\n",
              "    .dataframe tbody tr th:only-of-type {\n",
              "        vertical-align: middle;\n",
              "    }\n",
              "\n",
              "    .dataframe tbody tr th {\n",
              "        vertical-align: top;\n",
              "    }\n",
              "\n",
              "    .dataframe thead th {\n",
              "        text-align: right;\n",
              "    }\n",
              "</style>\n",
              "<table border=\"1\" class=\"dataframe\">\n",
              "  <thead>\n",
              "    <tr style=\"text-align: right;\">\n",
              "      <th></th>\n",
              "      <th>Product</th>\n",
              "      <th>ContainerSales</th>\n",
              "    </tr>\n",
              "  </thead>\n",
              "  <tbody>\n",
              "    <tr>\n",
              "      <th>0</th>\n",
              "      <td>Mango</td>\n",
              "      <td>40</td>\n",
              "    </tr>\n",
              "    <tr>\n",
              "      <th>1</th>\n",
              "      <td>Apple</td>\n",
              "      <td>90</td>\n",
              "    </tr>\n",
              "    <tr>\n",
              "      <th>2</th>\n",
              "      <td>Banana</td>\n",
              "      <td>130</td>\n",
              "    </tr>\n",
              "  </tbody>\n",
              "</table>\n",
              "</div>"
            ],
            "text/plain": [
              "  Product  ContainerSales\n",
              "0   Mango              40\n",
              "1   Apple              90\n",
              "2  Banana             130"
            ]
          },
          "execution_count": 59,
          "metadata": {},
          "output_type": "execute_result"
        }
      ],
      "source": [
        "fruits = pd.DataFrame([\n",
        "    ['Mango',40],\n",
        "    ['Apple',90],\n",
        "    ['Banana',130]\n",
        "],columns=['Product','ContainerSales'])\n",
        "fruits"
      ]
    },
    {
      "cell_type": "markdown",
      "id": "997df74d",
      "metadata": {
        "papermill": {
          "duration": 0.042539,
          "end_time": "2022-06-20T03:40:19.816444",
          "exception": false,
          "start_time": "2022-06-20T03:40:19.773905",
          "status": "completed"
        },
        "tags": [],
        "id": "997df74d"
      },
      "source": [
        "In the dataset, the year column is missing. Let’s try to add it using numpy."
      ]
    },
    {
      "cell_type": "code",
      "execution_count": null,
      "id": "a2cefd1f",
      "metadata": {
        "execution": {
          "iopub.execute_input": "2022-06-20T03:40:19.903925Z",
          "iopub.status.busy": "2022-06-20T03:40:19.903598Z",
          "iopub.status.idle": "2022-06-20T03:40:19.919899Z",
          "shell.execute_reply": "2022-06-20T03:40:19.919258Z"
        },
        "papermill": {
          "duration": 0.063468,
          "end_time": "2022-06-20T03:40:19.922021",
          "exception": false,
          "start_time": "2022-06-20T03:40:19.858553",
          "status": "completed"
        },
        "tags": [],
        "id": "a2cefd1f",
        "outputId": "e4aa766d-6fc8-462f-b1ca-cd55328b7127"
      },
      "outputs": [
        {
          "data": {
            "text/html": [
              "<div>\n",
              "<style scoped>\n",
              "    .dataframe tbody tr th:only-of-type {\n",
              "        vertical-align: middle;\n",
              "    }\n",
              "\n",
              "    .dataframe tbody tr th {\n",
              "        vertical-align: top;\n",
              "    }\n",
              "\n",
              "    .dataframe thead th {\n",
              "        text-align: right;\n",
              "    }\n",
              "</style>\n",
              "<table border=\"1\" class=\"dataframe\">\n",
              "  <thead>\n",
              "    <tr style=\"text-align: right;\">\n",
              "      <th></th>\n",
              "      <th>Product</th>\n",
              "      <th>ContainerSales</th>\n",
              "      <th>year</th>\n",
              "    </tr>\n",
              "  </thead>\n",
              "  <tbody>\n",
              "    <tr>\n",
              "      <th>0</th>\n",
              "      <td>Mango</td>\n",
              "      <td>40</td>\n",
              "      <td>2020</td>\n",
              "    </tr>\n",
              "    <tr>\n",
              "      <th>1</th>\n",
              "      <td>Apple</td>\n",
              "      <td>90</td>\n",
              "      <td>2020</td>\n",
              "    </tr>\n",
              "    <tr>\n",
              "      <th>2</th>\n",
              "      <td>Banana</td>\n",
              "      <td>130</td>\n",
              "      <td>2020</td>\n",
              "    </tr>\n",
              "  </tbody>\n",
              "</table>\n",
              "</div>"
            ],
            "text/plain": [
              "  Product  ContainerSales  year\n",
              "0   Mango              40  2020\n",
              "1   Apple              90  2020\n",
              "2  Banana             130  2020"
            ]
          },
          "execution_count": 60,
          "metadata": {},
          "output_type": "execute_result"
        }
      ],
      "source": [
        "fruits['year'] = np.repeat(2020,fruits.shape[0])\n",
        "'''\n",
        "Above code will repeat the year 2020 n times, where n is the length of data.\n",
        "'''\n",
        "fruits"
      ]
    },
    {
      "cell_type": "markdown",
      "id": "f02fcdf7",
      "metadata": {
        "papermill": {
          "duration": 0.043115,
          "end_time": "2022-06-20T03:40:20.007419",
          "exception": false,
          "start_time": "2022-06-20T03:40:19.964304",
          "status": "completed"
        },
        "tags": [],
        "id": "f02fcdf7"
      },
      "source": [
        "### 41. tile\n",
        "Construct an array by repeating A the number of times given by reps.![1_pvZMA5HzqHU5oOkN-scEMg.png](attachment:e07624d3-9062-40d7-8f3c-a45f08def6cb.png)"
      ]
    },
    {
      "cell_type": "code",
      "execution_count": null,
      "id": "7f0b485d",
      "metadata": {
        "execution": {
          "iopub.execute_input": "2022-06-20T03:40:20.094107Z",
          "iopub.status.busy": "2022-06-20T03:40:20.092804Z",
          "iopub.status.idle": "2022-06-20T03:40:20.098888Z",
          "shell.execute_reply": "2022-06-20T03:40:20.097909Z"
        },
        "papermill": {
          "duration": 0.049828,
          "end_time": "2022-06-20T03:40:20.100454",
          "exception": false,
          "start_time": "2022-06-20T03:40:20.050626",
          "status": "completed"
        },
        "tags": [],
        "id": "7f0b485d",
        "outputId": "d08bbab3-567b-438b-b694-023059006eb5"
      },
      "outputs": [
        {
          "data": {
            "text/plain": [
              "array(['Ram', 'Ram', 'Ram', 'Ram', 'Ram'], dtype='<U3')"
            ]
          },
          "execution_count": 61,
          "metadata": {},
          "output_type": "execute_result"
        }
      ],
      "source": [
        "np.tile(\"Ram\",5)"
      ]
    },
    {
      "cell_type": "code",
      "execution_count": null,
      "id": "a150551d",
      "metadata": {
        "execution": {
          "iopub.execute_input": "2022-06-20T03:40:20.186946Z",
          "iopub.status.busy": "2022-06-20T03:40:20.186523Z",
          "iopub.status.idle": "2022-06-20T03:40:20.192049Z",
          "shell.execute_reply": "2022-06-20T03:40:20.191210Z"
        },
        "papermill": {
          "duration": 0.051271,
          "end_time": "2022-06-20T03:40:20.194527",
          "exception": false,
          "start_time": "2022-06-20T03:40:20.143256",
          "status": "completed"
        },
        "tags": [],
        "id": "a150551d",
        "outputId": "81d5787e-e970-44f6-aa58-0e268661783c"
      },
      "outputs": [
        {
          "data": {
            "text/plain": [
              "array([[3, 3, 3],\n",
              "       [3, 3, 3]])"
            ]
          },
          "execution_count": 62,
          "metadata": {},
          "output_type": "execute_result"
        }
      ],
      "source": [
        "np.tile(3,(2,3))"
      ]
    },
    {
      "cell_type": "markdown",
      "id": "5b68a5df",
      "metadata": {
        "papermill": {
          "duration": 0.042493,
          "end_time": "2022-06-20T03:40:20.362340",
          "exception": false,
          "start_time": "2022-06-20T03:40:20.319847",
          "status": "completed"
        },
        "tags": [],
        "id": "5b68a5df"
      },
      "source": [
        "## Einstein Summation Conventions"
      ]
    },
    {
      "cell_type": "markdown",
      "id": "b0ebbd18",
      "metadata": {
        "papermill": {
          "duration": 0.042432,
          "end_time": "2022-06-20T03:40:20.446115",
          "exception": false,
          "start_time": "2022-06-20T03:40:20.403683",
          "status": "completed"
        },
        "tags": [],
        "id": "b0ebbd18"
      },
      "source": [
        "### 42. Einsum\n",
        "This function is used to compute many multi-dimensional and linear algebraic operations on arrays."
      ]
    },
    {
      "cell_type": "code",
      "execution_count": null,
      "id": "dd45f00d",
      "metadata": {
        "execution": {
          "iopub.execute_input": "2022-06-20T03:40:20.531455Z",
          "iopub.status.busy": "2022-06-20T03:40:20.530929Z",
          "iopub.status.idle": "2022-06-20T03:40:20.536839Z",
          "shell.execute_reply": "2022-06-20T03:40:20.536206Z"
        },
        "papermill": {
          "duration": 0.049986,
          "end_time": "2022-06-20T03:40:20.538292",
          "exception": false,
          "start_time": "2022-06-20T03:40:20.488306",
          "status": "completed"
        },
        "tags": [],
        "id": "dd45f00d",
        "outputId": "67c512dc-ebfd-463c-eaf7-fe5343e43d60"
      },
      "outputs": [
        {
          "data": {
            "text/plain": [
              "array([1, 5, 9])"
            ]
          },
          "execution_count": 63,
          "metadata": {},
          "output_type": "execute_result"
        }
      ],
      "source": [
        "a = np.arange(1,10).reshape(3,3)\n",
        "b = np.arange(21,30).reshape(3,3)\n",
        "\n",
        "## ▪️ᴇxᴛʀᴀᴄᴛꜱ ᴅɪᴀɢᴏɴᴀʟꜱ\n",
        "np.einsum('ii->i',a)"
      ]
    },
    {
      "cell_type": "code",
      "execution_count": null,
      "id": "f6a5ad37",
      "metadata": {
        "execution": {
          "iopub.execute_input": "2022-06-20T03:40:20.623035Z",
          "iopub.status.busy": "2022-06-20T03:40:20.622701Z",
          "iopub.status.idle": "2022-06-20T03:40:20.628510Z",
          "shell.execute_reply": "2022-06-20T03:40:20.627637Z"
        },
        "papermill": {
          "duration": 0.051418,
          "end_time": "2022-06-20T03:40:20.630720",
          "exception": false,
          "start_time": "2022-06-20T03:40:20.579302",
          "status": "completed"
        },
        "tags": [],
        "id": "f6a5ad37",
        "outputId": "adf6fa67-ecf8-42f3-f115-8018516ba70b"
      },
      "outputs": [
        {
          "data": {
            "text/plain": [
              "array([[1, 4, 7],\n",
              "       [2, 5, 8],\n",
              "       [3, 6, 9]])"
            ]
          },
          "execution_count": 64,
          "metadata": {},
          "output_type": "execute_result"
        }
      ],
      "source": [
        "## ▪️ᴛʀᴀɴꜱᴘᴏꜱᴇ\n",
        "np.einsum('ji',a)"
      ]
    },
    {
      "cell_type": "code",
      "execution_count": null,
      "id": "d14c4b30",
      "metadata": {
        "execution": {
          "iopub.execute_input": "2022-06-20T03:40:20.715140Z",
          "iopub.status.busy": "2022-06-20T03:40:20.714655Z",
          "iopub.status.idle": "2022-06-20T03:40:20.719568Z",
          "shell.execute_reply": "2022-06-20T03:40:20.719038Z"
        },
        "papermill": {
          "duration": 0.049065,
          "end_time": "2022-06-20T03:40:20.721026",
          "exception": false,
          "start_time": "2022-06-20T03:40:20.671961",
          "status": "completed"
        },
        "tags": [],
        "id": "d14c4b30",
        "outputId": "1365ecc8-c179-4b12-919d-d13646d00137"
      },
      "outputs": [
        {
          "data": {
            "text/plain": [
              "array([[150, 156, 162],\n",
              "       [366, 381, 396],\n",
              "       [582, 606, 630]])"
            ]
          },
          "execution_count": 65,
          "metadata": {},
          "output_type": "execute_result"
        }
      ],
      "source": [
        "## ▪️ᴍᴀᴛʀɪx ᴍᴜʟᴛɪᴘɪᴄᴀᴛɪᴏɴ\n",
        "np.einsum('ij,jk',a,b)"
      ]
    },
    {
      "cell_type": "code",
      "execution_count": null,
      "id": "389460ad",
      "metadata": {
        "execution": {
          "iopub.execute_input": "2022-06-20T03:40:20.805584Z",
          "iopub.status.busy": "2022-06-20T03:40:20.805259Z",
          "iopub.status.idle": "2022-06-20T03:40:20.812397Z",
          "shell.execute_reply": "2022-06-20T03:40:20.811542Z"
        },
        "papermill": {
          "duration": 0.052462,
          "end_time": "2022-06-20T03:40:20.814503",
          "exception": false,
          "start_time": "2022-06-20T03:40:20.762041",
          "status": "completed"
        },
        "tags": [],
        "id": "389460ad",
        "outputId": "d8505ebf-313d-4484-d586-38d9465717d0"
      },
      "outputs": [
        {
          "data": {
            "text/plain": [
              "15"
            ]
          },
          "execution_count": 66,
          "metadata": {},
          "output_type": "execute_result"
        }
      ],
      "source": [
        "##▪️ ꜱᴜᴍ ᴏꜰ ᴅɪᴀɢᴏɴᴀʟ\n",
        "np.einsum('ii',a)"
      ]
    },
    {
      "cell_type": "markdown",
      "id": "20138d5b",
      "metadata": {
        "papermill": {
          "duration": 0.04139,
          "end_time": "2022-06-20T03:40:20.983361",
          "exception": false,
          "start_time": "2022-06-20T03:40:20.941971",
          "status": "completed"
        },
        "tags": [],
        "id": "20138d5b"
      },
      "source": [
        "## Statistical Analysis"
      ]
    },
    {
      "cell_type": "markdown",
      "id": "a61d01ae",
      "metadata": {
        "papermill": {
          "duration": 0.040855,
          "end_time": "2022-06-20T03:40:21.065565",
          "exception": false,
          "start_time": "2022-06-20T03:40:21.024710",
          "status": "completed"
        },
        "tags": [],
        "id": "a61d01ae"
      },
      "source": [
        "### 43. Histogram\n",
        "It is an important statistical analysis function of NumPy that computes histogram values for a set of data."
      ]
    },
    {
      "cell_type": "code",
      "execution_count": null,
      "id": "5874c5be",
      "metadata": {
        "execution": {
          "iopub.execute_input": "2022-06-20T03:40:21.149987Z",
          "iopub.status.busy": "2022-06-20T03:40:21.149194Z",
          "iopub.status.idle": "2022-06-20T03:40:21.155626Z",
          "shell.execute_reply": "2022-06-20T03:40:21.154976Z"
        },
        "papermill": {
          "duration": 0.050511,
          "end_time": "2022-06-20T03:40:21.157232",
          "exception": false,
          "start_time": "2022-06-20T03:40:21.106721",
          "status": "completed"
        },
        "tags": [],
        "id": "5874c5be",
        "outputId": "10c5dbfb-714f-4be4-d64c-7fb890e3e6c3"
      },
      "outputs": [
        {
          "data": {
            "text/plain": [
              "(array([2, 0, 1, 0, 1, 0, 1, 0, 2, 1]),\n",
              " array([2. , 2.5, 3. , 3.5, 4. , 4.5, 5. , 5.5, 6. , 6.5, 7. ]))"
            ]
          },
          "execution_count": 67,
          "metadata": {},
          "output_type": "execute_result"
        }
      ],
      "source": [
        "A = np.array([[3, 4, 5, 2],\n",
        "              [6, 7, 2, 6]])\n",
        "np.histogram(A)"
      ]
    },
    {
      "cell_type": "markdown",
      "id": "46d1a595",
      "metadata": {
        "papermill": {
          "duration": 0.042432,
          "end_time": "2022-06-20T03:40:21.240928",
          "exception": false,
          "start_time": "2022-06-20T03:40:21.198496",
          "status": "completed"
        },
        "tags": [],
        "id": "46d1a595"
      },
      "source": [
        "### 44. Percentile\n",
        "It computes the q-th percentile of the data along a specified axis.![1_c1hFE8QMcZYSpLP413Ijwg.png](attachment:e58175f3-cef3-4d05-88b7-3b16cb030ca8.png)\n",
        "\n",
        "**▪▶ Important params**<br>\n",
        "`a`: array like input.<br>\n",
        "`q`: percentile to compute.<br>\n",
        "`overwrite_input`: if true, then allow the input array to modify the intermediate calculation to save memory."
      ]
    },
    {
      "cell_type": "code",
      "execution_count": null,
      "id": "7e6d138f",
      "metadata": {
        "execution": {
          "iopub.execute_input": "2022-06-20T03:40:21.326749Z",
          "iopub.status.busy": "2022-06-20T03:40:21.326454Z",
          "iopub.status.idle": "2022-06-20T03:40:21.331884Z",
          "shell.execute_reply": "2022-06-20T03:40:21.331115Z"
        },
        "papermill": {
          "duration": 0.04994,
          "end_time": "2022-06-20T03:40:21.333491",
          "exception": false,
          "start_time": "2022-06-20T03:40:21.283551",
          "status": "completed"
        },
        "tags": [],
        "id": "7e6d138f",
        "outputId": "3c9ed554-0e9b-49b7-e39a-714cbe7ecf02"
      },
      "outputs": [
        {
          "data": {
            "text/plain": [
              "5.0"
            ]
          },
          "execution_count": 68,
          "metadata": {},
          "output_type": "execute_result"
        }
      ],
      "source": [
        "a = np.array([[2, 4, 6], [4, 8, 12]])\n",
        "np.percentile(a, 50)"
      ]
    },
    {
      "cell_type": "code",
      "execution_count": null,
      "id": "3f3bd832",
      "metadata": {
        "execution": {
          "iopub.execute_input": "2022-06-20T03:40:21.420214Z",
          "iopub.status.busy": "2022-06-20T03:40:21.419681Z",
          "iopub.status.idle": "2022-06-20T03:40:21.425447Z",
          "shell.execute_reply": "2022-06-20T03:40:21.424028Z"
        },
        "papermill": {
          "duration": 0.051742,
          "end_time": "2022-06-20T03:40:21.428303",
          "exception": false,
          "start_time": "2022-06-20T03:40:21.376561",
          "status": "completed"
        },
        "tags": [],
        "id": "3f3bd832",
        "outputId": "ed047636-1b6a-4ddf-eed8-bee4d4f15982"
      },
      "outputs": [
        {
          "data": {
            "text/plain": [
              "3.0"
            ]
          },
          "execution_count": 69,
          "metadata": {},
          "output_type": "execute_result"
        }
      ],
      "source": [
        "np.percentile(a, 10)"
      ]
    },
    {
      "cell_type": "code",
      "execution_count": null,
      "id": "d26883b3",
      "metadata": {
        "execution": {
          "iopub.execute_input": "2022-06-20T03:40:21.514962Z",
          "iopub.status.busy": "2022-06-20T03:40:21.514604Z",
          "iopub.status.idle": "2022-06-20T03:40:21.521549Z",
          "shell.execute_reply": "2022-06-20T03:40:21.520325Z"
        },
        "papermill": {
          "duration": 0.052059,
          "end_time": "2022-06-20T03:40:21.523631",
          "exception": false,
          "start_time": "2022-06-20T03:40:21.471572",
          "status": "completed"
        },
        "tags": [],
        "id": "d26883b3",
        "outputId": "db66d8d3-214e-43b0-90b0-2f7394fe2e98"
      },
      "outputs": [
        {
          "data": {
            "text/plain": [
              "2.5"
            ]
          },
          "execution_count": 70,
          "metadata": {},
          "output_type": "execute_result"
        }
      ],
      "source": [
        "arr = np.array([2,3,4,1,6,7])\n",
        "np.percentile(a,5)"
      ]
    },
    {
      "cell_type": "markdown",
      "id": "7daf95c3",
      "metadata": {
        "papermill": {
          "duration": 0.042596,
          "end_time": "2022-06-20T03:40:21.610377",
          "exception": false,
          "start_time": "2022-06-20T03:40:21.567781",
          "status": "completed"
        },
        "tags": [],
        "id": "7daf95c3"
      },
      "source": [
        "### 45. Standard Deviation and Variance\n",
        "std and var are two functions of NumPy that calculates standard deviation and variance along an axis."
      ]
    },
    {
      "cell_type": "code",
      "execution_count": null,
      "id": "1c049d29",
      "metadata": {
        "execution": {
          "iopub.execute_input": "2022-06-20T03:40:21.697787Z",
          "iopub.status.busy": "2022-06-20T03:40:21.697481Z",
          "iopub.status.idle": "2022-06-20T03:40:21.702986Z",
          "shell.execute_reply": "2022-06-20T03:40:21.701760Z"
        },
        "papermill": {
          "duration": 0.050392,
          "end_time": "2022-06-20T03:40:21.705112",
          "exception": false,
          "start_time": "2022-06-20T03:40:21.654720",
          "status": "completed"
        },
        "tags": [],
        "id": "1c049d29"
      },
      "outputs": [],
      "source": [
        "a = np.array([[2, 4, 6], [4, 8, 12]])"
      ]
    },
    {
      "cell_type": "code",
      "execution_count": null,
      "id": "0d4b7890",
      "metadata": {
        "execution": {
          "iopub.execute_input": "2022-06-20T03:40:21.798205Z",
          "iopub.status.busy": "2022-06-20T03:40:21.797804Z",
          "iopub.status.idle": "2022-06-20T03:40:21.806020Z",
          "shell.execute_reply": "2022-06-20T03:40:21.804523Z"
        },
        "papermill": {
          "duration": 0.057769,
          "end_time": "2022-06-20T03:40:21.808304",
          "exception": false,
          "start_time": "2022-06-20T03:40:21.750535",
          "status": "completed"
        },
        "tags": [],
        "id": "0d4b7890",
        "outputId": "ff2759df-8846-40d1-dbb8-52c76d1f355a"
      },
      "outputs": [
        {
          "data": {
            "text/plain": [
              "array([1.63299316, 3.26598632])"
            ]
          },
          "execution_count": 72,
          "metadata": {},
          "output_type": "execute_result"
        }
      ],
      "source": [
        "np.std(a,axis=1)    ## Row Wise"
      ]
    },
    {
      "cell_type": "code",
      "execution_count": null,
      "id": "577b3ecd",
      "metadata": {
        "execution": {
          "iopub.execute_input": "2022-06-20T03:40:21.899741Z",
          "iopub.status.busy": "2022-06-20T03:40:21.897531Z",
          "iopub.status.idle": "2022-06-20T03:40:21.905539Z",
          "shell.execute_reply": "2022-06-20T03:40:21.904607Z"
        },
        "papermill": {
          "duration": 0.056024,
          "end_time": "2022-06-20T03:40:21.908029",
          "exception": false,
          "start_time": "2022-06-20T03:40:21.852005",
          "status": "completed"
        },
        "tags": [],
        "id": "577b3ecd",
        "outputId": "79328c14-84ec-4036-c982-42d029463d10"
      },
      "outputs": [
        {
          "data": {
            "text/plain": [
              "array([1., 2., 3.])"
            ]
          },
          "execution_count": 73,
          "metadata": {},
          "output_type": "execute_result"
        }
      ],
      "source": [
        "np.std(a,axis=0)    ## Column Wise"
      ]
    },
    {
      "cell_type": "code",
      "execution_count": null,
      "id": "0e265195",
      "metadata": {
        "execution": {
          "iopub.execute_input": "2022-06-20T03:40:21.997635Z",
          "iopub.status.busy": "2022-06-20T03:40:21.996538Z",
          "iopub.status.idle": "2022-06-20T03:40:22.004462Z",
          "shell.execute_reply": "2022-06-20T03:40:22.003608Z"
        },
        "papermill": {
          "duration": 0.054812,
          "end_time": "2022-06-20T03:40:22.006077",
          "exception": false,
          "start_time": "2022-06-20T03:40:21.951265",
          "status": "completed"
        },
        "tags": [],
        "id": "0e265195",
        "outputId": "cd298cce-b107-424a-b2c5-efbb79961e72"
      },
      "outputs": [
        {
          "data": {
            "text/plain": [
              "array([ 2.66666667, 10.66666667])"
            ]
          },
          "execution_count": 74,
          "metadata": {},
          "output_type": "execute_result"
        }
      ],
      "source": [
        "np.var(a,axis=1)"
      ]
    },
    {
      "cell_type": "code",
      "execution_count": null,
      "id": "38e5ce3e",
      "metadata": {
        "execution": {
          "iopub.execute_input": "2022-06-20T03:40:22.098653Z",
          "iopub.status.busy": "2022-06-20T03:40:22.098330Z",
          "iopub.status.idle": "2022-06-20T03:40:22.104576Z",
          "shell.execute_reply": "2022-06-20T03:40:22.103479Z"
        },
        "papermill": {
          "duration": 0.055656,
          "end_time": "2022-06-20T03:40:22.106621",
          "exception": false,
          "start_time": "2022-06-20T03:40:22.050965",
          "status": "completed"
        },
        "tags": [],
        "id": "38e5ce3e",
        "outputId": "a6abf0e6-b1ca-4cfd-9904-70e7791283ca"
      },
      "outputs": [
        {
          "data": {
            "text/plain": [
              "array([1., 4., 9.])"
            ]
          },
          "execution_count": 75,
          "metadata": {},
          "output_type": "execute_result"
        }
      ],
      "source": [
        "np.var(a,axis=0)"
      ]
    },
    {
      "cell_type": "markdown",
      "id": "9082e92c",
      "metadata": {
        "papermill": {
          "duration": 0.06389,
          "end_time": "2022-06-20T03:40:22.363762",
          "exception": false,
          "start_time": "2022-06-20T03:40:22.299872",
          "status": "completed"
        },
        "tags": [],
        "id": "9082e92c"
      },
      "source": [
        "## Array Printing Options"
      ]
    },
    {
      "cell_type": "markdown",
      "id": "a47dca1e",
      "metadata": {
        "papermill": {
          "duration": 0.06556,
          "end_time": "2022-06-20T03:40:22.493387",
          "exception": false,
          "start_time": "2022-06-20T03:40:22.427827",
          "status": "completed"
        },
        "tags": [],
        "id": "a47dca1e"
      },
      "source": [
        "### 46. Show Floats With Two Decimal Values"
      ]
    },
    {
      "cell_type": "code",
      "execution_count": null,
      "id": "86b45a9f",
      "metadata": {
        "execution": {
          "iopub.execute_input": "2022-06-20T03:40:22.624979Z",
          "iopub.status.busy": "2022-06-20T03:40:22.624469Z",
          "iopub.status.idle": "2022-06-20T03:40:22.629208Z",
          "shell.execute_reply": "2022-06-20T03:40:22.628447Z"
        },
        "papermill": {
          "duration": 0.073701,
          "end_time": "2022-06-20T03:40:22.631347",
          "exception": false,
          "start_time": "2022-06-20T03:40:22.557646",
          "status": "completed"
        },
        "tags": [],
        "id": "86b45a9f",
        "outputId": "072b5b8d-25da-4fbd-8b17-902f46ea030b"
      },
      "outputs": [
        {
          "name": "stdout",
          "output_type": "stream",
          "text": [
            "[12.23 32.35]\n"
          ]
        }
      ],
      "source": [
        "np.set_printoptions(precision=2)\n",
        "a = np.array([12.23456,32.34535])\n",
        "print(a)"
      ]
    },
    {
      "cell_type": "markdown",
      "id": "19221b25",
      "metadata": {
        "papermill": {
          "duration": 0.042775,
          "end_time": "2022-06-20T03:40:22.716249",
          "exception": false,
          "start_time": "2022-06-20T03:40:22.673474",
          "status": "completed"
        },
        "tags": [],
        "id": "19221b25"
      },
      "source": [
        "### 47. Prints Array To Its Max"
      ]
    },
    {
      "cell_type": "code",
      "execution_count": null,
      "id": "b3adc53f",
      "metadata": {
        "execution": {
          "iopub.execute_input": "2022-06-20T03:40:22.803116Z",
          "iopub.status.busy": "2022-06-20T03:40:22.802812Z",
          "iopub.status.idle": "2022-06-20T03:40:22.807574Z",
          "shell.execute_reply": "2022-06-20T03:40:22.806242Z"
        },
        "papermill": {
          "duration": 0.050027,
          "end_time": "2022-06-20T03:40:22.809603",
          "exception": false,
          "start_time": "2022-06-20T03:40:22.759576",
          "status": "completed"
        },
        "tags": [],
        "id": "b3adc53f"
      },
      "outputs": [],
      "source": [
        "np.set_printoptions(threshold=np.inf)"
      ]
    },
    {
      "cell_type": "markdown",
      "id": "05650ed1",
      "metadata": {
        "papermill": {
          "duration": 0.043789,
          "end_time": "2022-06-20T03:40:22.899140",
          "exception": false,
          "start_time": "2022-06-20T03:40:22.855351",
          "status": "completed"
        },
        "tags": [],
        "id": "05650ed1"
      },
      "source": [
        "### 48. Increase The Number of Elements In a Line"
      ]
    },
    {
      "cell_type": "code",
      "execution_count": null,
      "id": "2c739359",
      "metadata": {
        "execution": {
          "iopub.execute_input": "2022-06-20T03:40:22.985768Z",
          "iopub.status.busy": "2022-06-20T03:40:22.984928Z",
          "iopub.status.idle": "2022-06-20T03:40:22.988865Z",
          "shell.execute_reply": "2022-06-20T03:40:22.988309Z"
        },
        "papermill": {
          "duration": 0.049273,
          "end_time": "2022-06-20T03:40:22.990795",
          "exception": false,
          "start_time": "2022-06-20T03:40:22.941522",
          "status": "completed"
        },
        "tags": [],
        "id": "2c739359"
      },
      "outputs": [],
      "source": [
        "np.set_printoptions(linewidth=100) ## Default 75"
      ]
    },
    {
      "cell_type": "markdown",
      "id": "0004e73f",
      "metadata": {
        "papermill": {
          "duration": 0.043731,
          "end_time": "2022-06-20T03:40:23.162833",
          "exception": false,
          "start_time": "2022-06-20T03:40:23.119102",
          "status": "completed"
        },
        "tags": [],
        "id": "0004e73f"
      },
      "source": [
        "## Save and Load Array Data"
      ]
    },
    {
      "cell_type": "markdown",
      "id": "d4b2b4e3",
      "metadata": {
        "papermill": {
          "duration": 0.041801,
          "end_time": "2022-06-20T03:40:23.247723",
          "exception": false,
          "start_time": "2022-06-20T03:40:23.205922",
          "status": "completed"
        },
        "tags": [],
        "id": "d4b2b4e3"
      },
      "source": [
        "### 49. Save\n",
        "`savetxt` used to save the content of an array inside a text file."
      ]
    },
    {
      "cell_type": "code",
      "execution_count": null,
      "id": "11292e05",
      "metadata": {
        "execution": {
          "iopub.execute_input": "2022-06-20T03:40:23.338833Z",
          "iopub.status.busy": "2022-06-20T03:40:23.338110Z",
          "iopub.status.idle": "2022-06-20T03:40:23.344996Z",
          "shell.execute_reply": "2022-06-20T03:40:23.344201Z"
        },
        "papermill": {
          "duration": 0.054582,
          "end_time": "2022-06-20T03:40:23.347129",
          "exception": false,
          "start_time": "2022-06-20T03:40:23.292547",
          "status": "completed"
        },
        "tags": [],
        "id": "11292e05"
      },
      "outputs": [],
      "source": [
        "''' Generate array with 500 elements '''\n",
        "\n",
        "arr = np.linspace(10,100,500).reshape(25,20)\n",
        "\n",
        "##◾ 𝗦𝗮𝘃𝗲𝘀 𝗔𝗿𝗿𝗮𝘆 𝗗𝗮𝘁𝗮 𝗜𝗻𝘀𝗶𝗱𝗲 𝗮 𝘁𝘅𝘁 𝗙𝗶𝗹𝗲\n",
        "np.savetxt('array.txt',arr)"
      ]
    },
    {
      "cell_type": "markdown",
      "id": "f50b4663",
      "metadata": {
        "papermill": {
          "duration": 0.093459,
          "end_time": "2022-06-20T03:40:23.484505",
          "exception": false,
          "start_time": "2022-06-20T03:40:23.391046",
          "status": "completed"
        },
        "tags": [],
        "id": "f50b4663"
      },
      "source": [
        "### 50. Load\n",
        "`loadtxt` used to load the content of an array from a text file. It takes the file name as a parameter."
      ]
    },
    {
      "cell_type": "code",
      "execution_count": null,
      "id": "0244ab12",
      "metadata": {
        "execution": {
          "iopub.execute_input": "2022-06-20T03:40:23.572339Z",
          "iopub.status.busy": "2022-06-20T03:40:23.571734Z",
          "iopub.status.idle": "2022-06-20T03:40:23.584706Z",
          "shell.execute_reply": "2022-06-20T03:40:23.583811Z"
        },
        "papermill": {
          "duration": 0.058336,
          "end_time": "2022-06-20T03:40:23.586555",
          "exception": false,
          "start_time": "2022-06-20T03:40:23.528219",
          "status": "completed"
        },
        "tags": [],
        "id": "0244ab12",
        "outputId": "abdb7336-b403-42db-9b6f-a9218f65c8a0"
      },
      "outputs": [
        {
          "data": {
            "text/plain": [
              "array([[ 10.  ,  10.18,  10.36,  10.54,  10.72,  10.9 ,  11.08,  11.26,  11.44,  11.62,  11.8 ,\n",
              "         11.98,  12.16,  12.34,  12.53,  12.71,  12.89,  13.07,  13.25,  13.43],\n",
              "       [ 13.61,  13.79,  13.97,  14.15,  14.33,  14.51,  14.69,  14.87,  15.05,  15.23,  15.41,\n",
              "         15.59,  15.77,  15.95,  16.13,  16.31,  16.49,  16.67,  16.85,  17.03],\n",
              "       [ 17.21,  17.39,  17.58,  17.76,  17.94,  18.12,  18.3 ,  18.48,  18.66,  18.84,  19.02,\n",
              "         19.2 ,  19.38,  19.56,  19.74,  19.92,  20.1 ,  20.28,  20.46,  20.64],\n",
              "       [ 20.82,  21.  ,  21.18,  21.36,  21.54,  21.72,  21.9 ,  22.08,  22.26,  22.44,  22.63,\n",
              "         22.81,  22.99,  23.17,  23.35,  23.53,  23.71,  23.89,  24.07,  24.25],\n",
              "       [ 24.43,  24.61,  24.79,  24.97,  25.15,  25.33,  25.51,  25.69,  25.87,  26.05,  26.23,\n",
              "         26.41,  26.59,  26.77,  26.95,  27.13,  27.31,  27.49,  27.68,  27.86],\n",
              "       [ 28.04,  28.22,  28.4 ,  28.58,  28.76,  28.94,  29.12,  29.3 ,  29.48,  29.66,  29.84,\n",
              "         30.02,  30.2 ,  30.38,  30.56,  30.74,  30.92,  31.1 ,  31.28,  31.46],\n",
              "       [ 31.64,  31.82,  32.  ,  32.18,  32.36,  32.55,  32.73,  32.91,  33.09,  33.27,  33.45,\n",
              "         33.63,  33.81,  33.99,  34.17,  34.35,  34.53,  34.71,  34.89,  35.07],\n",
              "       [ 35.25,  35.43,  35.61,  35.79,  35.97,  36.15,  36.33,  36.51,  36.69,  36.87,  37.05,\n",
              "         37.23,  37.41,  37.6 ,  37.78,  37.96,  38.14,  38.32,  38.5 ,  38.68],\n",
              "       [ 38.86,  39.04,  39.22,  39.4 ,  39.58,  39.76,  39.94,  40.12,  40.3 ,  40.48,  40.66,\n",
              "         40.84,  41.02,  41.2 ,  41.38,  41.56,  41.74,  41.92,  42.1 ,  42.28],\n",
              "       [ 42.46,  42.65,  42.83,  43.01,  43.19,  43.37,  43.55,  43.73,  43.91,  44.09,  44.27,\n",
              "         44.45,  44.63,  44.81,  44.99,  45.17,  45.35,  45.53,  45.71,  45.89],\n",
              "       [ 46.07,  46.25,  46.43,  46.61,  46.79,  46.97,  47.15,  47.33,  47.52,  47.7 ,  47.88,\n",
              "         48.06,  48.24,  48.42,  48.6 ,  48.78,  48.96,  49.14,  49.32,  49.5 ],\n",
              "       [ 49.68,  49.86,  50.04,  50.22,  50.4 ,  50.58,  50.76,  50.94,  51.12,  51.3 ,  51.48,\n",
              "         51.66,  51.84,  52.02,  52.2 ,  52.38,  52.57,  52.75,  52.93,  53.11],\n",
              "       [ 53.29,  53.47,  53.65,  53.83,  54.01,  54.19,  54.37,  54.55,  54.73,  54.91,  55.09,\n",
              "         55.27,  55.45,  55.63,  55.81,  55.99,  56.17,  56.35,  56.53,  56.71],\n",
              "       [ 56.89,  57.07,  57.25,  57.43,  57.62,  57.8 ,  57.98,  58.16,  58.34,  58.52,  58.7 ,\n",
              "         58.88,  59.06,  59.24,  59.42,  59.6 ,  59.78,  59.96,  60.14,  60.32],\n",
              "       [ 60.5 ,  60.68,  60.86,  61.04,  61.22,  61.4 ,  61.58,  61.76,  61.94,  62.12,  62.3 ,\n",
              "         62.48,  62.67,  62.85,  63.03,  63.21,  63.39,  63.57,  63.75,  63.93],\n",
              "       [ 64.11,  64.29,  64.47,  64.65,  64.83,  65.01,  65.19,  65.37,  65.55,  65.73,  65.91,\n",
              "         66.09,  66.27,  66.45,  66.63,  66.81,  66.99,  67.17,  67.35,  67.54],\n",
              "       [ 67.72,  67.9 ,  68.08,  68.26,  68.44,  68.62,  68.8 ,  68.98,  69.16,  69.34,  69.52,\n",
              "         69.7 ,  69.88,  70.06,  70.24,  70.42,  70.6 ,  70.78,  70.96,  71.14],\n",
              "       [ 71.32,  71.5 ,  71.68,  71.86,  72.04,  72.22,  72.4 ,  72.59,  72.77,  72.95,  73.13,\n",
              "         73.31,  73.49,  73.67,  73.85,  74.03,  74.21,  74.39,  74.57,  74.75],\n",
              "       [ 74.93,  75.11,  75.29,  75.47,  75.65,  75.83,  76.01,  76.19,  76.37,  76.55,  76.73,\n",
              "         76.91,  77.09,  77.27,  77.45,  77.64,  77.82,  78.  ,  78.18,  78.36],\n",
              "       [ 78.54,  78.72,  78.9 ,  79.08,  79.26,  79.44,  79.62,  79.8 ,  79.98,  80.16,  80.34,\n",
              "         80.52,  80.7 ,  80.88,  81.06,  81.24,  81.42,  81.6 ,  81.78,  81.96],\n",
              "       [ 82.14,  82.32,  82.51,  82.69,  82.87,  83.05,  83.23,  83.41,  83.59,  83.77,  83.95,\n",
              "         84.13,  84.31,  84.49,  84.67,  84.85,  85.03,  85.21,  85.39,  85.57],\n",
              "       [ 85.75,  85.93,  86.11,  86.29,  86.47,  86.65,  86.83,  87.01,  87.19,  87.37,  87.56,\n",
              "         87.74,  87.92,  88.1 ,  88.28,  88.46,  88.64,  88.82,  89.  ,  89.18],\n",
              "       [ 89.36,  89.54,  89.72,  89.9 ,  90.08,  90.26,  90.44,  90.62,  90.8 ,  90.98,  91.16,\n",
              "         91.34,  91.52,  91.7 ,  91.88,  92.06,  92.24,  92.42,  92.61,  92.79],\n",
              "       [ 92.97,  93.15,  93.33,  93.51,  93.69,  93.87,  94.05,  94.23,  94.41,  94.59,  94.77,\n",
              "         94.95,  95.13,  95.31,  95.49,  95.67,  95.85,  96.03,  96.21,  96.39],\n",
              "       [ 96.57,  96.75,  96.93,  97.11,  97.29,  97.47,  97.66,  97.84,  98.02,  98.2 ,  98.38,\n",
              "         98.56,  98.74,  98.92,  99.1 ,  99.28,  99.46,  99.64,  99.82, 100.  ]])"
            ]
          },
          "execution_count": 80,
          "metadata": {},
          "output_type": "execute_result"
        }
      ],
      "source": [
        "### ◾𝗟𝗼𝗮𝗱𝘀 𝗔𝗿𝗿𝗮𝘆 𝗗𝗮𝘁𝗮 𝗳𝗿𝗼𝗺 𝗮 𝘁𝘅𝘁 𝗙𝗶𝗹𝗲\n",
        "np.loadtxt('array.txt')"
      ]
    },
    {
      "cell_type": "markdown",
      "source": [
        "#51. empty\n",
        "empty, unlike zeros, does not set the array values to zero, and may therefore be marginally faster. On the other hand, it requires the user to manually set all the values in the array, and should be used with caution.\n",
        "\n"
      ],
      "metadata": {
        "id": "Pj9F-lntuSlz"
      },
      "id": "Pj9F-lntuSlz"
    },
    {
      "cell_type": "code",
      "source": [
        "np.empty([2, 2])"
      ],
      "metadata": {
        "colab": {
          "base_uri": "https://localhost:8080/"
        },
        "id": "_juzCHypuNx-",
        "outputId": "e4f5623c-1954-4d70-d38c-92059c4cf98d"
      },
      "id": "_juzCHypuNx-",
      "execution_count": null,
      "outputs": [
        {
          "output_type": "execute_result",
          "data": {
            "text/plain": [
              "array([[4.96433176e-310, 0.00000000e+000],\n",
              "       [0.00000000e+000, 0.00000000e+000]])"
            ]
          },
          "metadata": {},
          "execution_count": 2
        }
      ]
    },
    {
      "cell_type": "markdown",
      "source": [
        "#52. eye"
      ],
      "metadata": {
        "id": "5qeJsLzJzd4o"
      },
      "id": "5qeJsLzJzd4o"
    },
    {
      "cell_type": "markdown",
      "source": [
        "eye returns a 2-D array with ones on the diagonal and zeros elsewhere. The main difference is that with the numpy. eye() the diagonal can may be offset, whereas numpy. identity() only fills the main diagonal."
      ],
      "metadata": {
        "id": "kCb2ZWs6xP_q"
      },
      "id": "kCb2ZWs6xP_q"
    },
    {
      "cell_type": "markdown",
      "source": [
        "#53. identity\n",
        "    To return the identity array, use the numpy.identity()\n",
        "    method in Python Numpy. The identity array is a square array with ones on the main diagonal.\n",
        "    The 1s parameter is the number of rows (and columns) in n x n\n",
        "    output. The function returns n x n array with its main diagonal set to one, and all other elements 0.\n",
        "\n",
        "    The like parameter is a reference object to allow the creation of arrays which are not NumPy\n",
        "    arrays. If an array-like passed in as like supports the __array_function__ protocol,\n",
        "    the result will be defined by it. In this case, it ensures the creation of an array object\n",
        "    compatible with that passed in via this argument."
      ],
      "metadata": {
        "id": "3fzeMfuHzhq0"
      },
      "id": "3fzeMfuHzhq0"
    },
    {
      "cell_type": "markdown",
      "source": [
        "#54. Attributes of NumPy Array\n",
        "    1.ndim\n",
        "    2. shape\n",
        "    3. size\n",
        "    4. Datatype\n",
        "    5. itemsize"
      ],
      "metadata": {
        "id": "EgXQ_O2aymtO"
      },
      "id": "EgXQ_O2aymtO"
    },
    {
      "cell_type": "markdown",
      "source": [
        "#55. DataType in NumPy\n",
        "    1. Boolean\n",
        "    2. Float\n",
        "    3. Integer\n",
        "    4. Complex\n",
        "    5. Unsigned Integer"
      ],
      "metadata": {
        "id": "vPK1cWEoz6jN"
      },
      "id": "vPK1cWEoz6jN"
    },
    {
      "cell_type": "markdown",
      "source": [
        "#56.slicing and indexing\n",
        "    indexing:\n",
        "    syntax: arr_name[row_number,column_number]\n",
        "    slicing:\n",
        "    syntax: arr_name[depth_start_number:depth_stop_number:depth_step_number,row_start_number:row_stop_number:\n",
        "    row_step_number,column_start_number:column_stop_number:column_step_number]\n"
      ],
      "metadata": {
        "id": "p5RpVZNR2eDm"
      },
      "id": "p5RpVZNR2eDm"
    },
    {
      "cell_type": "markdown",
      "source": [
        "#56. Arithmetic Operation in NumPy Arrays\n",
        "    1.+,\n",
        "    2.-,\n",
        "    3./,\n",
        "    4.*,\n",
        "    5./,\n",
        "    6.//,\n",
        "    7.%.\n",
        "    using functions\n",
        "    add,\n",
        "    substract,\n",
        "    multiply,\n",
        "    divide,\n",
        "    sqrt,\n",
        "    \n",
        "    \n"
      ],
      "metadata": {
        "id": "kKerOckHrosV"
      },
      "id": "kKerOckHrosV"
    },
    {
      "cell_type": "markdown",
      "source": [
        "#57. Broadcasting NumPy\n",
        "    Rulel: if the two arrays differ in their number of dimensions, the shape of the one with\n",
        "    fewer dimension is padded with ones on its leading side(left side).\n",
        "    Rule2: If the shape of the two arrays does not match in any dimension, the array with\n",
        "    shape equal to I in that dimension is stretched to match the other shape.\n",
        "    Rule 3: if in any dimension the sizes disagree and neither equal tol, an error is raised."
      ],
      "metadata": {
        "id": "GOvsOgFeskA0"
      },
      "id": "GOvsOgFeskA0"
    },
    {
      "cell_type": "markdown",
      "source": [
        "#58. Array Manipulation using NumPy\n",
        "    1. reshaping\n",
        "    2. array flatteing\n",
        "        flatten and ravel\n",
        "    3. dimension shuffling\n",
        "        transpose and swapaxes\n",
        "    4. joinig arrays\n",
        "        Splitting and Joining\n",
        "        vstack and hstack\n",
        "    5. splitting arrays\n",
        "        split, vsplit, hsplit\n",
        "    6. add/remove elements to array.\n",
        "        Insert, append,  Delete Function"
      ],
      "metadata": {
        "id": "iR8X6wHCxsK-"
      },
      "id": "iR8X6wHCxsK-"
    },
    {
      "cell_type": "markdown",
      "source": [
        "#59. Matrix in NumPy\n",
        "    1. dot\n",
        "    2. Transpose\n",
        "\n"
      ],
      "metadata": {
        "id": "-Cu0CUUifyy-"
      },
      "id": "-Cu0CUUifyy-"
    },
    {
      "cell_type": "markdown",
      "source": [
        "#60. Matrix Class in NumPy\n",
        "    1. matrix\n",
        "    2. addition\n",
        "    3. multiplication\n",
        "    4. Transpose\n"
      ],
      "metadata": {
        "id": "RBPLGE4XgPkS"
      },
      "id": "RBPLGE4XgPkS"
    },
    {
      "cell_type": "markdown",
      "source": [
        "#61. Inverse Of A Matrix NumPy Linear Algebra\n",
        "    1. numpy.linalg.inv()\n",
        "    2. numpy.allclose(np.dot(a,b), np.eye(2))\n",
        "    3. power\n",
        "        np.linalg.matrix_power(a,2)\n",
        "    4. determinent\n",
        "    5. numpy.linalg.solve(a,b)\n",
        "\n",
        "\n"
      ],
      "metadata": {
        "id": "BxITdXV7hIXV"
      },
      "id": "BxITdXV7hIXV"
    },
    {
      "cell_type": "markdown",
      "source": [
        "#62. ARRAYS WITH NUMERICAL RANGES\n",
        "    ARANGE( ),\n",
        "    LINSPACE( ),\n",
        "    LOGSPACE( )"
      ],
      "metadata": {
        "id": "lAc-zlfWujc2"
      },
      "id": "lAc-zlfWujc2"
    },
    {
      "cell_type": "markdown",
      "source": [
        "#63. INITIALIZING ARRAYS IN NUMPY\n",
        "    ZEROS( ),\n",
        "    ONES( ),\n",
        "    FULL( ),\n",
        "    EYE( ),\n",
        "    shape( )\n",
        "    reshape( )"
      ],
      "metadata": {
        "id": "vw4rM8-KuwnI"
      },
      "id": "vw4rM8-KuwnI"
    },
    {
      "cell_type": "markdown",
      "source": [
        "#64. Indexing(Accessing) & Slicing"
      ],
      "metadata": {
        "id": "0x0dmeJdvVEc"
      },
      "id": "0x0dmeJdvVEc"
    },
    {
      "cell_type": "markdown",
      "source": [
        "#65. UNDERSTANDING OF AXIS ATTRIBUTE IN NUMPY\n",
        "        Axix=0---->Column\n",
        "        Axis=1---->Row"
      ],
      "metadata": {
        "id": "_7YfjWugvsxE"
      },
      "id": "_7YfjWugvsxE"
    },
    {
      "cell_type": "markdown",
      "source": [
        "#66. DATATYPES - COPY() - VIEW() IN NUMPY\n",
        "    copy()\n",
        "    view()\n",
        "    i-int\n",
        "    f-float\n",
        "    S-string\n",
        "    U-unicode string\n",
        "    m-timedelta\n",
        "    M-datatime\n",
        "    O-Object\n",
        "    V-void\n"
      ],
      "metadata": {
        "id": "ebbMuylEwIt1"
      },
      "id": "ebbMuylEwIt1"
    },
    {
      "cell_type": "markdown",
      "source": [
        "#67. JOINING ARRAYS (CONCATENATE( ), STACK( ), VSTACK( ), HSTACK( ), DSTACK( )) IN NUMPY\n",
        "        CONCATENATE( ),\n",
        "        STACK( ),\n",
        "        VSTACK( ),\n",
        "        HSTACK( ),\n",
        "        DSTACK( )"
      ],
      "metadata": {
        "id": "IMKmrH0xyic_"
      },
      "id": "IMKmrH0xyic_"
    },
    {
      "cell_type": "markdown",
      "source": [
        "#68. SPLITTING ARRAY (SPLIT( ),ARRAY_SPLIT( ),VSPLIT( ),HSPLIT( )) IN NUMPY\n",
        "        split(),\n",
        "        Array_Split(),\n",
        "        Vsplit(),\n",
        "        Hsplit()\n",
        "        "
      ],
      "metadata": {
        "id": "V__q8g-4zAZ2"
      },
      "id": "V__q8g-4zAZ2"
    },
    {
      "cell_type": "markdown",
      "source": [
        "#SEARCH IN NUMPY (where( ) & searchsorted( ))\n",
        "        Where(),\n",
        "        Searchsorted()"
      ],
      "metadata": {
        "id": "ycekJHXrzX_0"
      },
      "id": "ycekJHXrzX_0"
    },
    {
      "cell_type": "markdown",
      "source": [
        "#SORT( ) IN NUMPY - PYTHON PROGRAMMING\n",
        "        sort()\n",
        "        "
      ],
      "metadata": {
        "id": "5TTDUgmvznFm"
      },
      "id": "5TTDUgmvznFm"
    },
    {
      "cell_type": "markdown",
      "source": [
        "#ARITHMETIC OPERATIONS ON ARRAYS IN NUMPY - PYTHON PROGRAMMING\n",
        "        add()\n",
        "        subtract()\n",
        "        multilpy()\n",
        "        real()\n",
        "        img()\n",
        "        conjugate()\n",
        "        reciprocal()\n",
        "        power()\n",
        "        mod()"
      ],
      "metadata": {
        "id": "qVxEoIuF0C8s"
      },
      "id": "qVxEoIuF0C8s"
    },
    {
      "cell_type": "markdown",
      "source": [
        "# STATISTICAL FUNCTIONS\n",
        "    1. MIN\n",
        "    2. MAX\n",
        "    3. MEAN\n",
        "    4. MEDIAN\n",
        "    5. AVERAGE\n",
        "    6. VARIANCE\n",
        "    7. STANDARD DEVIATION"
      ],
      "metadata": {
        "id": "Rycd6Meg0p8s"
      },
      "id": "Rycd6Meg0p8s"
    },
    {
      "cell_type": "markdown",
      "source": [],
      "metadata": {
        "id": "fgufK0uczSJM"
      },
      "id": "fgufK0uczSJM"
    },
    {
      "cell_type": "markdown",
      "id": "2fb3c5b4",
      "metadata": {
        "papermill": {
          "duration": 0.042811,
          "end_time": "2022-06-20T03:40:23.672028",
          "exception": false,
          "start_time": "2022-06-20T03:40:23.629217",
          "status": "completed"
        },
        "tags": [],
        "id": "2fb3c5b4"
      },
      "source": [
        "## Thanks For Reading\n",
        "I hope You Found Someting useful.\n",
        "\n",
        "### Don't Forgot to give the notebook a 🔼"
      ]
    }
  ],
  "metadata": {
    "kernelspec": {
      "display_name": "Python 3",
      "language": "python",
      "name": "python3"
    },
    "language_info": {
      "codemirror_mode": {
        "name": "ipython",
        "version": 3
      },
      "file_extension": ".py",
      "mimetype": "text/x-python",
      "name": "python",
      "nbconvert_exporter": "python",
      "pygments_lexer": "ipython3",
      "version": "3.7.12"
    },
    "papermill": {
      "default_parameters": {},
      "duration": 28.990307,
      "end_time": "2022-06-20T03:40:24.630827",
      "environment_variables": {},
      "exception": null,
      "input_path": "__notebook__.ipynb",
      "output_path": "__notebook__.ipynb",
      "parameters": {},
      "start_time": "2022-06-20T03:39:55.640520",
      "version": "2.3.4"
    },
    "colab": {
      "provenance": [],
      "include_colab_link": true
    }
  },
  "nbformat": 4,
  "nbformat_minor": 5
}